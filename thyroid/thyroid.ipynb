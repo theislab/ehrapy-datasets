{
 "cells": [
  {
   "cell_type": "markdown",
   "id": "079aa85f",
   "metadata": {},
   "source": [
    "# Thyroid "
   ]
  },
  {
   "cell_type": "code",
   "execution_count": 1,
   "id": "4da506b0",
   "metadata": {},
   "outputs": [
    {
     "data": {
      "text/html": [
       "<pre style=\"white-space:pre;overflow-x:auto;line-height:normal;font-family:Menlo,'DejaVu Sans Mono',consolas,'Courier New',monospace\"><span style=\"color: #808000; text-decoration-color: #808000; font-weight: bold\">Installed version </span><span style=\"color: #808000; text-decoration-color: #808000; font-weight: bold\">0.2</span><span style=\"color: #808000; text-decoration-color: #808000; font-weight: bold\">.</span><span style=\"color: #808000; text-decoration-color: #808000; font-weight: bold\">0</span><span style=\"color: #808000; text-decoration-color: #808000; font-weight: bold\"> of ehrapy is newer than the latest release </span><span style=\"color: #808000; text-decoration-color: #808000; font-weight: bold\">0.1</span><span style=\"color: #808000; text-decoration-color: #808000; font-weight: bold\">.</span><span style=\"color: #808000; text-decoration-color: #808000; font-weight: bold\">0</span><span style=\"color: #808000; text-decoration-color: #808000; font-weight: bold\">! You are running a </span>\n",
       "<span style=\"color: #808000; text-decoration-color: #808000; font-weight: bold\">nightly version and features may break!</span>\n",
       "</pre>\n"
      ],
      "text/plain": [
       "\u001b[1;33mInstalled version \u001b[0m\u001b[1;33m0.2\u001b[0m\u001b[1;33m.\u001b[0m\u001b[1;33m0\u001b[0m\u001b[1;33m of ehrapy is newer than the latest release \u001b[0m\u001b[1;33m0.1\u001b[0m\u001b[1;33m.\u001b[0m\u001b[1;33m0\u001b[0m\u001b[1;33m! You are running a \u001b[0m\n",
       "\u001b[1;33mnightly version and features may break!\u001b[0m\n"
      ]
     },
     "metadata": {},
     "output_type": "display_data"
    }
   ],
   "source": [
    "import pandas as pd\n",
    "import ehrapy as ep\n",
    "import numpy as np\n",
    "import warnings\n",
    "import os\n",
    "warnings.filterwarnings(\"ignore\")"
   ]
  },
  {
   "cell_type": "code",
   "execution_count": 2,
   "id": "477d7de2",
   "metadata": {},
   "outputs": [],
   "source": [
    "pd.set_option(\"display.max_columns\", None)"
   ]
  },
  {
   "cell_type": "markdown",
   "id": "0afd183c",
   "metadata": {},
   "source": [
    "## Getting the dataset"
   ]
  },
  {
   "cell_type": "code",
   "execution_count": 3,
   "id": "02d907a7",
   "metadata": {},
   "outputs": [
    {
     "name": "stdout",
     "output_type": "stream",
     "text": [
      "File ‘archive.ics.uci.edu/ml/machine-learning-databases/thyroid-disease/index.html’ already there; not retrieving.\n",
      "\n",
      "Loading robots.txt; please ignore errors.\n",
      "--2022-02-22 12:45:48--  http://archive.ics.uci.edu/robots.txt\n",
      "Resolving archive.ics.uci.edu (archive.ics.uci.edu)... 128.195.10.252\n",
      "Connecting to archive.ics.uci.edu (archive.ics.uci.edu)|128.195.10.252|:80... connected.\n",
      "HTTP request sent, awaiting response... 404 Not Found\n",
      "2022-02-22 12:45:49 ERROR 404: Not Found.\n",
      "\n",
      "File ‘archive.ics.uci.edu/ml/machine-learning-databases/thyroid-disease/HELLO’ already there; not retrieving.\n",
      "\n",
      "File ‘archive.ics.uci.edu/ml/machine-learning-databases/thyroid-disease/Index’ already there; not retrieving.\n",
      "\n",
      "File ‘archive.ics.uci.edu/ml/machine-learning-databases/thyroid-disease/allbp.data’ already there; not retrieving.\n",
      "\n",
      "File ‘archive.ics.uci.edu/ml/machine-learning-databases/thyroid-disease/allbp.names’ already there; not retrieving.\n",
      "\n",
      "File ‘archive.ics.uci.edu/ml/machine-learning-databases/thyroid-disease/allbp.test’ already there; not retrieving.\n",
      "\n",
      "File ‘archive.ics.uci.edu/ml/machine-learning-databases/thyroid-disease/allhyper.data’ already there; not retrieving.\n",
      "\n",
      "File ‘archive.ics.uci.edu/ml/machine-learning-databases/thyroid-disease/allhyper.names’ already there; not retrieving.\n",
      "\n",
      "File ‘archive.ics.uci.edu/ml/machine-learning-databases/thyroid-disease/allhyper.test’ already there; not retrieving.\n",
      "\n",
      "File ‘archive.ics.uci.edu/ml/machine-learning-databases/thyroid-disease/allhypo.data’ already there; not retrieving.\n",
      "\n",
      "File ‘archive.ics.uci.edu/ml/machine-learning-databases/thyroid-disease/allhypo.names’ already there; not retrieving.\n",
      "\n",
      "File ‘archive.ics.uci.edu/ml/machine-learning-databases/thyroid-disease/allhypo.test’ already there; not retrieving.\n",
      "\n",
      "File ‘archive.ics.uci.edu/ml/machine-learning-databases/thyroid-disease/allrep.data’ already there; not retrieving.\n",
      "\n",
      "File ‘archive.ics.uci.edu/ml/machine-learning-databases/thyroid-disease/allrep.names’ already there; not retrieving.\n",
      "\n",
      "File ‘archive.ics.uci.edu/ml/machine-learning-databases/thyroid-disease/allrep.test’ already there; not retrieving.\n",
      "\n",
      "File ‘archive.ics.uci.edu/ml/machine-learning-databases/thyroid-disease/ann-Readme’ already there; not retrieving.\n",
      "\n",
      "File ‘archive.ics.uci.edu/ml/machine-learning-databases/thyroid-disease/ann-test.data’ already there; not retrieving.\n",
      "\n",
      "File ‘archive.ics.uci.edu/ml/machine-learning-databases/thyroid-disease/ann-thyroid.names’ already there; not retrieving.\n",
      "\n",
      "File ‘archive.ics.uci.edu/ml/machine-learning-databases/thyroid-disease/ann-train.data’ already there; not retrieving.\n",
      "\n",
      "File ‘archive.ics.uci.edu/ml/machine-learning-databases/thyroid-disease/costs/index.html’ already there; not retrieving.\n",
      "\n",
      "File ‘archive.ics.uci.edu/ml/machine-learning-databases/thyroid-disease/dis.data’ already there; not retrieving.\n",
      "\n",
      "File ‘archive.ics.uci.edu/ml/machine-learning-databases/thyroid-disease/dis.names’ already there; not retrieving.\n",
      "\n",
      "File ‘archive.ics.uci.edu/ml/machine-learning-databases/thyroid-disease/dis.test’ already there; not retrieving.\n",
      "\n",
      "File ‘archive.ics.uci.edu/ml/machine-learning-databases/thyroid-disease/hypothyroid.data’ already there; not retrieving.\n",
      "\n",
      "File ‘archive.ics.uci.edu/ml/machine-learning-databases/thyroid-disease/hypothyroid.names’ already there; not retrieving.\n",
      "\n",
      "File ‘archive.ics.uci.edu/ml/machine-learning-databases/thyroid-disease/new-thyroid.data’ already there; not retrieving.\n",
      "\n",
      "File ‘archive.ics.uci.edu/ml/machine-learning-databases/thyroid-disease/new-thyroid.names’ already there; not retrieving.\n",
      "\n",
      "File ‘archive.ics.uci.edu/ml/machine-learning-databases/thyroid-disease/sick-euthyroid.data’ already there; not retrieving.\n",
      "\n",
      "File ‘archive.ics.uci.edu/ml/machine-learning-databases/thyroid-disease/sick-euthyroid.names’ already there; not retrieving.\n",
      "\n",
      "File ‘archive.ics.uci.edu/ml/machine-learning-databases/thyroid-disease/sick.data’ already there; not retrieving.\n",
      "\n",
      "File ‘archive.ics.uci.edu/ml/machine-learning-databases/thyroid-disease/sick.names’ already there; not retrieving.\n",
      "\n",
      "File ‘archive.ics.uci.edu/ml/machine-learning-databases/thyroid-disease/sick.test’ already there; not retrieving.\n",
      "\n",
      "File ‘archive.ics.uci.edu/ml/machine-learning-databases/thyroid-disease/thyroid.theory’ already there; not retrieving.\n",
      "\n",
      "File ‘archive.ics.uci.edu/ml/machine-learning-databases/thyroid-disease/thyroid0387.data’ already there; not retrieving.\n",
      "\n",
      "File ‘archive.ics.uci.edu/ml/machine-learning-databases/thyroid-disease/thyroid0387.names’ already there; not retrieving.\n",
      "\n",
      "File ‘archive.ics.uci.edu/ml/machine-learning-databases/thyroid-disease/costs/Index’ already there; not retrieving.\n",
      "\n",
      "File ‘archive.ics.uci.edu/ml/machine-learning-databases/thyroid-disease/costs/ann-thyroid.README’ already there; not retrieving.\n",
      "\n",
      "File ‘archive.ics.uci.edu/ml/machine-learning-databases/thyroid-disease/costs/ann-thyroid.cost’ already there; not retrieving.\n",
      "\n",
      "File ‘archive.ics.uci.edu/ml/machine-learning-databases/thyroid-disease/costs/ann-thyroid.delay’ already there; not retrieving.\n",
      "\n",
      "File ‘archive.ics.uci.edu/ml/machine-learning-databases/thyroid-disease/costs/ann-thyroid.expense’ already there; not retrieving.\n",
      "\n",
      "File ‘archive.ics.uci.edu/ml/machine-learning-databases/thyroid-disease/costs/ann-thyroid.group’ already there; not retrieving.\n",
      "\n"
     ]
    }
   ],
   "source": [
    "!wget -nc -r --no-parent -l3 http://archive.ics.uci.edu/ml/machine-learning-databases/thyroid-disease/"
   ]
  },
  {
   "cell_type": "markdown",
   "id": "adc20880",
   "metadata": {},
   "source": [
    "# Data Wrangling"
   ]
  },
  {
   "cell_type": "markdown",
   "id": "f682614d",
   "metadata": {},
   "source": [
    "Define a helper function to find the start index in names file"
   ]
  },
  {
   "cell_type": "code",
   "execution_count": 4,
   "id": "57e112b1",
   "metadata": {},
   "outputs": [],
   "source": [
    "def find_start_index(txt_lines, start_string):\n",
    "    for i, elem in enumerate(txt_lines):\n",
    "        if start_string in elem:\n",
    "            return i"
   ]
  },
  {
   "cell_type": "markdown",
   "id": "23263e25",
   "metadata": {},
   "source": [
    "Define a helper function to get the attribute names in names file"
   ]
  },
  {
   "cell_type": "code",
   "execution_count": 5,
   "id": "299cca14",
   "metadata": {},
   "outputs": [],
   "source": [
    "def find_attribute_names(txt_lines, start_index):\n",
    "    attribute_names = []\n",
    "    for line in txt_lines[start_index:]:\n",
    "        line = line.split(':')\n",
    "        attribute_names.append(line[0])\n",
    "    return attribute_names"
   ]
  },
  {
   "cell_type": "code",
   "execution_count": 6,
   "id": "64633d90",
   "metadata": {},
   "outputs": [],
   "source": [
    "base_directory = os.getcwd()\n",
    "directory = os.path.join(base_directory, \"archive.ics.uci.edu/ml/machine-learning-databases/thyroid-disease\")"
   ]
  },
  {
   "cell_type": "markdown",
   "id": "f1a1cfe6",
   "metadata": {},
   "source": [
    "## Thyroid-allbp dataset"
   ]
  },
  {
   "cell_type": "markdown",
   "id": "0e07bf77",
   "metadata": {},
   "source": [
    "### Train set"
   ]
  },
  {
   "cell_type": "code",
   "execution_count": 7,
   "id": "3ab96aac",
   "metadata": {},
   "outputs": [],
   "source": [
    "with open(os.path.join(directory, \"allbp.names\")) as f:\n",
    "    contents = f.readlines()"
   ]
  },
  {
   "cell_type": "code",
   "execution_count": 8,
   "id": "905dddf6",
   "metadata": {},
   "outputs": [
    {
     "name": "stdout",
     "output_type": "stream",
     "text": [
      "Attribute names are: ['age', 'sex', 'on thyroxine', 'query on thyroxine', 'on antithyroid medication', 'sick', 'pregnant', 'thyroid surgery', 'I131 treatment', 'query hypothyroid', 'query hyperthyroid', 'lithium', 'goitre', 'tumor', 'hypopituitary', 'psych', 'TSH measured', 'TSH', 'T3 measured', 'T3', 'TT4 measured', 'TT4', 'T4U measured', 'T4U', 'FTI measured', 'FTI', 'TBG measured', 'TBG', 'referral source']\n"
     ]
    }
   ],
   "source": [
    "start_index = find_start_index(contents, 'age:')\n",
    "names = find_attribute_names(contents, start_index)\n",
    "print(f\"Attribute names are: \" + str(names))"
   ]
  },
  {
   "cell_type": "code",
   "execution_count": 9,
   "id": "f681fea9",
   "metadata": {},
   "outputs": [],
   "source": [
    "names.append('class')"
   ]
  },
  {
   "cell_type": "code",
   "execution_count": 10,
   "id": "6d11dadb",
   "metadata": {},
   "outputs": [],
   "source": [
    "data_allbp = pd.read_csv(os.path.join(directory, \"allbp.data\"),\n",
    "                   names=names, delimiter=r',')\n",
    "data_allbp[[\"class\",\"id\"]] = data_allbp[\"class\"].apply(lambda x: pd.Series(str(x).split(\".|\")))"
   ]
  },
  {
   "cell_type": "markdown",
   "id": "0ef8f2ca",
   "metadata": {},
   "source": [
    "Drop the attribute \"id\" (patient id number) from the original dataset.  \n",
    "Drop the attribute \"TBG\" because all the data in this column are missing."
   ]
  },
  {
   "cell_type": "code",
   "execution_count": 11,
   "id": "ea5eeab8",
   "metadata": {},
   "outputs": [],
   "source": [
    "data_allbp.drop([\"id\"], axis=1, inplace=True)\n",
    "data_allbp.drop([\"TBG\"], axis=1, inplace=True)\n",
    "names.remove(\"TBG\")"
   ]
  },
  {
   "cell_type": "markdown",
   "id": "7fd91e1c",
   "metadata": {},
   "source": [
    "Add a patient ID."
   ]
  },
  {
   "cell_type": "code",
   "execution_count": 12,
   "id": "6de88f31",
   "metadata": {},
   "outputs": [],
   "source": [
    "data_allbp[\"patient_id\"] = range(1, len(data_allbp) + 1)"
   ]
  },
  {
   "cell_type": "code",
   "execution_count": 13,
   "id": "b21bfe50",
   "metadata": {},
   "outputs": [],
   "source": [
    "continuous_attributes = ['age', 'TSH', 'T3', 'TT4', 'T4U', 'FTI']\n",
    "categorical_attributes = [name for name in names if not name in continuous_attributes]\n",
    "assert len(categorical_attributes) + len(continuous_attributes) == len(names)"
   ]
  },
  {
   "cell_type": "markdown",
   "id": "3ee76915",
   "metadata": {},
   "source": [
    "Replace \"?\" with NaN.  \n",
    "Replace the original encoding ('f', 't') to (0, 1).  \n",
    "Replace the original encoding ('F', 'M') to (0, 1).  \n",
    "Replace \"?\"(missing value) with NaN and convert from object type to numeric type."
   ]
  },
  {
   "cell_type": "code",
   "execution_count": 14,
   "id": "ebbadbb4",
   "metadata": {},
   "outputs": [],
   "source": [
    "\n",
    "for att in continuous_attributes:\n",
    "    data_allbp[att].replace('?', np.NaN, inplace=True)\n",
    "    data_allbp[att] = pd.to_numeric(data_allbp[att])\n",
    "\n",
    "for att in categorical_attributes:\n",
    "    if att == 'referral source':\n",
    "        break\n",
    "    else:\n",
    "        data_allbp[att].replace('?', np.NaN, inplace=True)\n",
    "        data_allbp[att].replace(('F', 'M'), (0, 1), inplace=True)\n",
    "        data_allbp[att].replace(('f', 't'), (0, 1), inplace=True)\n",
    "        data_allbp[att] = pd.to_numeric(data_allbp[att])"
   ]
  },
  {
   "cell_type": "code",
   "execution_count": 15,
   "id": "1762f2a7",
   "metadata": {},
   "outputs": [],
   "source": [
    "data_allbp.set_index(\"patient_id\", inplace=True)"
   ]
  },
  {
   "cell_type": "code",
   "execution_count": 16,
   "id": "27b0ef78",
   "metadata": {},
   "outputs": [],
   "source": [
    "data_allbp.to_csv(\"thyroid_allbp_train_prepared.csv\")"
   ]
  },
  {
   "cell_type": "markdown",
   "id": "d1dfad12",
   "metadata": {},
   "source": [
    "### Test set"
   ]
  },
  {
   "cell_type": "code",
   "execution_count": 17,
   "id": "3a7f7b13",
   "metadata": {},
   "outputs": [],
   "source": [
    "with open(os.path.join(directory, \"allbp.names\")) as f:\n",
    "    contents = f.readlines()"
   ]
  },
  {
   "cell_type": "code",
   "execution_count": 18,
   "id": "31458304",
   "metadata": {},
   "outputs": [
    {
     "name": "stdout",
     "output_type": "stream",
     "text": [
      "Attribute names are: ['age', 'sex', 'on thyroxine', 'query on thyroxine', 'on antithyroid medication', 'sick', 'pregnant', 'thyroid surgery', 'I131 treatment', 'query hypothyroid', 'query hyperthyroid', 'lithium', 'goitre', 'tumor', 'hypopituitary', 'psych', 'TSH measured', 'TSH', 'T3 measured', 'T3', 'TT4 measured', 'TT4', 'T4U measured', 'T4U', 'FTI measured', 'FTI', 'TBG measured', 'TBG', 'referral source']\n"
     ]
    }
   ],
   "source": [
    "start_index = find_start_index(contents, 'age:')\n",
    "names = find_attribute_names(contents, start_index)\n",
    "print(f\"Attribute names are: \" + str(names))"
   ]
  },
  {
   "cell_type": "code",
   "execution_count": 19,
   "id": "c9e17915",
   "metadata": {},
   "outputs": [],
   "source": [
    "names.append('class')"
   ]
  },
  {
   "cell_type": "code",
   "execution_count": 20,
   "id": "48d6e3aa",
   "metadata": {},
   "outputs": [],
   "source": [
    "data_allbp = pd.read_csv(os.path.join(directory, \"allbp.test\"),\n",
    "                   names=names, delimiter=r',')\n",
    "data_allbp[[\"class\",\"id\"]] = data_allbp[\"class\"].apply(lambda x: pd.Series(str(x).split(\".|\")))"
   ]
  },
  {
   "cell_type": "markdown",
   "id": "5b4c4358",
   "metadata": {},
   "source": [
    "Drop the attribute \"id\" (patient id number) from the original dataset.  \n",
    "Drop the attribute \"TBG\" because all the data in this column are missing."
   ]
  },
  {
   "cell_type": "code",
   "execution_count": 21,
   "id": "c1b41dfb",
   "metadata": {},
   "outputs": [],
   "source": [
    "data_allbp.drop([\"id\"], axis=1, inplace=True)\n",
    "data_allbp.drop([\"TBG\"], axis=1, inplace=True)\n",
    "names.remove(\"TBG\")"
   ]
  },
  {
   "cell_type": "markdown",
   "id": "3ad89ba9",
   "metadata": {},
   "source": [
    "Add a patient ID."
   ]
  },
  {
   "cell_type": "code",
   "execution_count": 22,
   "id": "2ae0373b",
   "metadata": {},
   "outputs": [],
   "source": [
    "data_allbp[\"patient_id\"] = range(1, len(data_allbp) + 1)"
   ]
  },
  {
   "cell_type": "code",
   "execution_count": 23,
   "id": "67297b89",
   "metadata": {},
   "outputs": [],
   "source": [
    "continuous_attributes = ['age', 'TSH', 'T3', 'TT4', 'T4U', 'FTI']\n",
    "categorical_attributes = [name for name in names if not name in continuous_attributes]\n",
    "assert len(categorical_attributes) + len(continuous_attributes) == len(names)"
   ]
  },
  {
   "cell_type": "markdown",
   "id": "07b3220d",
   "metadata": {},
   "source": [
    "Replace \"?\" with NaN.  \n",
    "Replace the original encoding ('f', 't') to (0, 1).  \n",
    "Replace the original encoding ('F', 'M') to (0, 1).  \n",
    "Replace \"?\"(missing value) with NaN and convert from object type to numeric type."
   ]
  },
  {
   "cell_type": "code",
   "execution_count": 24,
   "id": "dc7d2869",
   "metadata": {},
   "outputs": [],
   "source": [
    "for att in continuous_attributes:\n",
    "    data_allbp[att].replace('?', np.NaN, inplace=True)\n",
    "    data_allbp[att] = pd.to_numeric(data_allbp[att])\n",
    "\n",
    "for att in categorical_attributes:\n",
    "    if att == 'referral source':\n",
    "        break\n",
    "    else:\n",
    "        data_allbp[att].replace('?', np.NaN, inplace=True)\n",
    "        data_allbp[att].replace(('F', 'M'), (0, 1), inplace=True)\n",
    "        data_allbp[att].replace(('f', 't'), (0, 1), inplace=True)\n",
    "        data_allbp[att] = pd.to_numeric(data_allbp[att])"
   ]
  },
  {
   "cell_type": "code",
   "execution_count": 25,
   "id": "d54e69b6",
   "metadata": {},
   "outputs": [],
   "source": [
    "data_allbp.set_index(\"patient_id\", inplace=True)"
   ]
  },
  {
   "cell_type": "code",
   "execution_count": 26,
   "id": "af78429b",
   "metadata": {},
   "outputs": [],
   "source": [
    "data_allbp.to_csv(\"thyroid_allbp_test_prepared.csv\")"
   ]
  },
  {
   "cell_type": "markdown",
   "id": "138e3db8",
   "metadata": {},
   "source": [
    "## Thyroid-allhyper dataset"
   ]
  },
  {
   "cell_type": "markdown",
   "id": "e8773322",
   "metadata": {},
   "source": [
    "### Train set"
   ]
  },
  {
   "cell_type": "code",
   "execution_count": 27,
   "id": "b2c7875c",
   "metadata": {},
   "outputs": [],
   "source": [
    "with open(os.path.join(directory, \"allhyper.names\")) as f:\n",
    "    contents = f.readlines()"
   ]
  },
  {
   "cell_type": "code",
   "execution_count": 28,
   "id": "6a18b9f7",
   "metadata": {},
   "outputs": [
    {
     "name": "stdout",
     "output_type": "stream",
     "text": [
      "Attribute names are: ['age', 'sex', 'on thyroxine', 'query on thyroxine', 'on antithyroid medication', 'sick', 'pregnant', 'thyroid surgery', 'I131 treatment', 'query hypothyroid', 'query hyperthyroid', 'lithium', 'goitre', 'tumor', 'hypopituitary', 'psych', 'TSH measured', 'TSH', 'T3 measured', 'T3', 'TT4 measured', 'TT4', 'T4U measured', 'T4U', 'FTI measured', 'FTI', 'TBG measured', 'TBG', 'referral source']\n"
     ]
    }
   ],
   "source": [
    "start_index = find_start_index(contents, 'age:')\n",
    "names = find_attribute_names(contents, start_index)\n",
    "print(f\"Attribute names are: \" + str(names))"
   ]
  },
  {
   "cell_type": "code",
   "execution_count": 29,
   "id": "711f9af6",
   "metadata": {},
   "outputs": [],
   "source": [
    "names.append('class')"
   ]
  },
  {
   "cell_type": "code",
   "execution_count": 30,
   "id": "b085800f",
   "metadata": {},
   "outputs": [],
   "source": [
    "data_allhyper = pd.read_csv(os.path.join(directory, \"allhyper.data\"),\n",
    "                   names=names, delimiter=r',')\n",
    "data_allhyper[[\"class\",\"id\"]] = data_allhyper[\"class\"].apply(lambda x: pd.Series(str(x).split(\".|\")))"
   ]
  },
  {
   "cell_type": "markdown",
   "id": "0d45904f",
   "metadata": {},
   "source": [
    "Drop the attribute \"id\" (patient id number) from the original dataset. \\\n",
    "Drop the attribute \"TBG\" because all the data in this column are missing."
   ]
  },
  {
   "cell_type": "code",
   "execution_count": 31,
   "id": "72b3d095",
   "metadata": {},
   "outputs": [],
   "source": [
    "data_allhyper.drop([\"id\"], axis=1, inplace=True)\n",
    "data_allhyper.drop([\"TBG\"], axis=1, inplace=True)\n",
    "names.remove(\"TBG\")"
   ]
  },
  {
   "cell_type": "markdown",
   "id": "7e90afba",
   "metadata": {},
   "source": [
    "Add a patient ID."
   ]
  },
  {
   "cell_type": "code",
   "execution_count": 32,
   "id": "48ebd382",
   "metadata": {},
   "outputs": [],
   "source": [
    "data_allhyper[\"patient_id\"] = range(1, len(data_allhyper) + 1)"
   ]
  },
  {
   "cell_type": "code",
   "execution_count": 33,
   "id": "ce3b155d",
   "metadata": {},
   "outputs": [],
   "source": [
    "continuous_attributes = ['age', 'TSH', 'T3', 'TT4', 'T4U', 'FTI']\n",
    "categorical_attributes = [name for name in names if not name in continuous_attributes]\n",
    "assert len(categorical_attributes) + len(continuous_attributes) == len(names)"
   ]
  },
  {
   "cell_type": "markdown",
   "id": "e2e5f9d5",
   "metadata": {},
   "source": [
    "Replace \"?\" with NaN.\\\n",
    "Replace the original encoding ('f', 't') to (0, 1). \\\n",
    "Replace the original encoding ('F', 'M') to (0, 1). \\\n",
    "Replace \"?\"(missing value) with NaN and convert from object type to numeric type."
   ]
  },
  {
   "cell_type": "code",
   "execution_count": 34,
   "id": "01e47954",
   "metadata": {},
   "outputs": [],
   "source": [
    "for att in continuous_attributes:\n",
    "    data_allhyper[att].replace('?', np.NaN, inplace=True)\n",
    "    data_allhyper[att] = pd.to_numeric(data_allhyper[att])\n",
    "\n",
    "for att in categorical_attributes:\n",
    "    if att == 'referral source':\n",
    "        break\n",
    "    else:\n",
    "        data_allhyper[att].replace('?', np.NaN, inplace=True)\n",
    "        data_allhyper[att].replace(('F', 'M'), (0, 1), inplace=True)\n",
    "        data_allhyper[att].replace(('f', 't'), (0, 1), inplace=True)\n",
    "        data_allhyper[att] = pd.to_numeric(data_allhyper[att])"
   ]
  },
  {
   "cell_type": "code",
   "execution_count": 35,
   "id": "bf467231",
   "metadata": {},
   "outputs": [],
   "source": [
    "data_allhyper.set_index(\"patient_id\", inplace=True)"
   ]
  },
  {
   "cell_type": "code",
   "execution_count": 36,
   "id": "d5a1e095",
   "metadata": {},
   "outputs": [],
   "source": [
    "data_allbp.to_csv(\"thyroid_allhyper_train_prepared.csv\")"
   ]
  },
  {
   "cell_type": "markdown",
   "id": "65dc3dbb",
   "metadata": {},
   "source": [
    "### Test set"
   ]
  },
  {
   "cell_type": "code",
   "execution_count": 37,
   "id": "c167e1ea",
   "metadata": {},
   "outputs": [],
   "source": [
    "with open(os.path.join(directory, \"allhyper.names\")) as f:\n",
    "    contents = f.readlines()"
   ]
  },
  {
   "cell_type": "code",
   "execution_count": 38,
   "id": "d093b521",
   "metadata": {},
   "outputs": [
    {
     "name": "stdout",
     "output_type": "stream",
     "text": [
      "Attribute names are: ['age', 'sex', 'on thyroxine', 'query on thyroxine', 'on antithyroid medication', 'sick', 'pregnant', 'thyroid surgery', 'I131 treatment', 'query hypothyroid', 'query hyperthyroid', 'lithium', 'goitre', 'tumor', 'hypopituitary', 'psych', 'TSH measured', 'TSH', 'T3 measured', 'T3', 'TT4 measured', 'TT4', 'T4U measured', 'T4U', 'FTI measured', 'FTI', 'TBG measured', 'TBG', 'referral source']\n"
     ]
    }
   ],
   "source": [
    "start_index = find_start_index(contents, 'age:')\n",
    "names = find_attribute_names(contents, start_index)\n",
    "print(f\"Attribute names are: \" + str(names))"
   ]
  },
  {
   "cell_type": "code",
   "execution_count": 39,
   "id": "32f82146",
   "metadata": {},
   "outputs": [],
   "source": [
    "names.append('class')"
   ]
  },
  {
   "cell_type": "code",
   "execution_count": 40,
   "id": "61c7115d",
   "metadata": {},
   "outputs": [],
   "source": [
    "data_allhyper = pd.read_csv(os.path.join(directory, \"allhyper.test\"),\n",
    "                   names=names, delimiter=r',')\n",
    "data_allhyper[[\"class\",\"id\"]] = data_allhyper[\"class\"].apply(lambda x: pd.Series(str(x).split(\".|\")))"
   ]
  },
  {
   "cell_type": "markdown",
   "id": "fa743ddb",
   "metadata": {},
   "source": [
    "Drop the attribute \"id\" (patient id number) from the original dataset. \\\n",
    "Drop the attribute \"TBG\" because all the data in this column are missing."
   ]
  },
  {
   "cell_type": "code",
   "execution_count": 41,
   "id": "a2de16d8",
   "metadata": {},
   "outputs": [],
   "source": [
    "data_allhyper.drop([\"id\"], axis=1, inplace=True)\n",
    "data_allhyper.drop([\"TBG\"], axis=1, inplace=True)\n",
    "names.remove(\"TBG\")"
   ]
  },
  {
   "cell_type": "markdown",
   "id": "c99436b9",
   "metadata": {},
   "source": [
    "Add a patient ID."
   ]
  },
  {
   "cell_type": "code",
   "execution_count": 42,
   "id": "54dbf099",
   "metadata": {},
   "outputs": [],
   "source": [
    "data_allhyper[\"patient_id\"] = range(1, len(data_allhyper) + 1)"
   ]
  },
  {
   "cell_type": "code",
   "execution_count": 43,
   "id": "8b58b933",
   "metadata": {},
   "outputs": [],
   "source": [
    "continuous_attributes = ['age', 'TSH', 'T3', 'TT4', 'T4U', 'FTI']\n",
    "categorical_attributes = [name for name in names if not name in continuous_attributes]\n",
    "assert len(categorical_attributes) + len(continuous_attributes) == len(names)"
   ]
  },
  {
   "cell_type": "markdown",
   "id": "786345ba",
   "metadata": {},
   "source": [
    "Replace \"?\" with NaN.\\\n",
    "Replace the original encoding ('f', 't') to (0, 1). \\\n",
    "Replace the original encoding ('F', 'M') to (0, 1). \\\n",
    "Replace \"?\"(missing value) with NaN and convert from object type to numeric type."
   ]
  },
  {
   "cell_type": "code",
   "execution_count": 44,
   "id": "b5e60e3d",
   "metadata": {},
   "outputs": [],
   "source": [
    "for att in continuous_attributes:\n",
    "    data_allhyper[att].replace('?', np.NaN, inplace=True)\n",
    "    data_allhyper[att] = pd.to_numeric(data_allhyper[att])\n",
    "\n",
    "for att in categorical_attributes:\n",
    "    if att == 'referral source':\n",
    "        break\n",
    "    else:\n",
    "        data_allhyper[att].replace('?', np.NaN, inplace=True)\n",
    "        data_allhyper[att].replace(('F', 'M'), (0, 1), inplace=True)\n",
    "        data_allhyper[att].replace(('f', 't'), (0, 1), inplace=True)\n",
    "        data_allhyper[att] = pd.to_numeric(data_allhyper[att])"
   ]
  },
  {
   "cell_type": "code",
   "execution_count": 45,
   "id": "2db3d7eb",
   "metadata": {},
   "outputs": [],
   "source": [
    "data_allhyper.set_index(\"patient_id\", inplace=True)"
   ]
  },
  {
   "cell_type": "code",
   "execution_count": 46,
   "id": "a3054eaa",
   "metadata": {},
   "outputs": [],
   "source": [
    "data_allhyper.to_csv(\"thyroid_allhyper_test_prepared.csv\")"
   ]
  },
  {
   "cell_type": "markdown",
   "id": "551a1cbd",
   "metadata": {},
   "source": [
    "## Thyroid-allhypo dataset"
   ]
  },
  {
   "cell_type": "markdown",
   "id": "239bddfe",
   "metadata": {},
   "source": [
    "### Train set"
   ]
  },
  {
   "cell_type": "code",
   "execution_count": 47,
   "id": "748564b5",
   "metadata": {},
   "outputs": [],
   "source": [
    "with open(os.path.join(directory, \"allhypo.names\")) as f:\n",
    "    contents = f.readlines()"
   ]
  },
  {
   "cell_type": "code",
   "execution_count": 48,
   "id": "98e23e7f",
   "metadata": {},
   "outputs": [
    {
     "name": "stdout",
     "output_type": "stream",
     "text": [
      "Attribute names are: ['age', 'sex', 'on thyroxine', 'query on thyroxine', 'on antithyroid medication', 'sick', 'pregnant', 'thyroid surgery', 'I131 treatment', 'query hypothyroid', 'query hyperthyroid', 'lithium', 'goitre', 'tumor', 'hypopituitary', 'psych', 'TSH measured', 'TSH', 'T3 measured', 'T3', 'TT4 measured', 'TT4', 'T4U measured', 'T4U', 'FTI measured', 'FTI', 'TBG measured', 'TBG', 'referral source']\n"
     ]
    }
   ],
   "source": [
    "start_index = find_start_index(contents, 'age:')\n",
    "names = find_attribute_names(contents, start_index)\n",
    "print(f\"Attribute names are: \" + str(names))"
   ]
  },
  {
   "cell_type": "code",
   "execution_count": 49,
   "id": "445927e9",
   "metadata": {},
   "outputs": [],
   "source": [
    "names.append('class')"
   ]
  },
  {
   "cell_type": "code",
   "execution_count": 50,
   "id": "987643de",
   "metadata": {},
   "outputs": [],
   "source": [
    "data_allhypo = pd.read_csv(os.path.join(directory, \"allhypo.data\"),\n",
    "                   names=names, delimiter=r',')\n",
    "data_allhypo[[\"class\",\"id\"]] = data_allhypo[\"class\"].apply(lambda x: pd.Series(str(x).split(\".|\")))"
   ]
  },
  {
   "cell_type": "markdown",
   "id": "a49c25a2",
   "metadata": {},
   "source": [
    "Drop the attribute \"id\" (patient id number) from the original dataset. \\\n",
    "Drop the attribute \"TBG\" because all the data in this column are missing."
   ]
  },
  {
   "cell_type": "code",
   "execution_count": 51,
   "id": "b1161036",
   "metadata": {},
   "outputs": [],
   "source": [
    "data_allhypo.drop([\"id\"], axis=1, inplace=True)\n",
    "data_allhypo.drop([\"TBG\"], axis=1, inplace=True)\n",
    "names.remove(\"TBG\")"
   ]
  },
  {
   "cell_type": "markdown",
   "id": "86d12217",
   "metadata": {},
   "source": [
    "Add a patient ID."
   ]
  },
  {
   "cell_type": "code",
   "execution_count": 52,
   "id": "11f9537c",
   "metadata": {},
   "outputs": [],
   "source": [
    "data_allhypo[\"patient_id\"] = range(1, len(data_allhypo) + 1)"
   ]
  },
  {
   "cell_type": "code",
   "execution_count": 53,
   "id": "645c054e",
   "metadata": {},
   "outputs": [],
   "source": [
    "continuous_attributes = ['age', 'TSH', 'T3', 'TT4', 'T4U', 'FTI']\n",
    "categorical_attributes = [name for name in names if not name in continuous_attributes]\n",
    "assert len(categorical_attributes) + len(continuous_attributes) == len(names)"
   ]
  },
  {
   "cell_type": "markdown",
   "id": "f044a1c6",
   "metadata": {},
   "source": [
    "Replace \"?\" with NaN.\\\n",
    "Replace the original encoding ('f', 't') to (0, 1). \\\n",
    "Replace the original encoding ('F', 'M') to (0, 1). \\\n",
    "Replace \"?\"(missing value) with NaN and convert from object type to numeric type."
   ]
  },
  {
   "cell_type": "code",
   "execution_count": 54,
   "id": "a28d8d85",
   "metadata": {},
   "outputs": [],
   "source": [
    "for att in continuous_attributes:\n",
    "    data_allhypo[att].replace('?', np.NaN, inplace=True)\n",
    "    data_allhypo[att] = pd.to_numeric(data_allhypo[att])\n",
    "\n",
    "for att in categorical_attributes:\n",
    "    if att == 'referral source':\n",
    "        break\n",
    "    else:\n",
    "        data_allhypo[att].replace('?', np.NaN, inplace=True)\n",
    "        data_allhypo[att].replace(('F', 'M'), (0, 1), inplace=True)\n",
    "        data_allhypo[att].replace(('f', 't'), (0, 1), inplace=True)\n",
    "        data_allhypo[att] = pd.to_numeric(data_allhypo[att])"
   ]
  },
  {
   "cell_type": "code",
   "execution_count": 55,
   "id": "416d2e14",
   "metadata": {},
   "outputs": [],
   "source": [
    "data_allhypo.set_index(\"patient_id\", inplace=True)"
   ]
  },
  {
   "cell_type": "code",
   "execution_count": 56,
   "id": "2c0fd6ea",
   "metadata": {},
   "outputs": [],
   "source": [
    "data_allhypo.to_csv(\"thyroid_allhypo_train_prepared.csv\")"
   ]
  },
  {
   "cell_type": "markdown",
   "id": "7aafb092",
   "metadata": {},
   "source": [
    "### Test set"
   ]
  },
  {
   "cell_type": "code",
   "execution_count": 57,
   "id": "13b93d94",
   "metadata": {},
   "outputs": [],
   "source": [
    "with open(os.path.join(directory, \"allhypo.names\")) as f:\n",
    "    contents = f.readlines()"
   ]
  },
  {
   "cell_type": "code",
   "execution_count": 58,
   "id": "4c6d6caa",
   "metadata": {},
   "outputs": [
    {
     "name": "stdout",
     "output_type": "stream",
     "text": [
      "Attribute names are: ['age', 'sex', 'on thyroxine', 'query on thyroxine', 'on antithyroid medication', 'sick', 'pregnant', 'thyroid surgery', 'I131 treatment', 'query hypothyroid', 'query hyperthyroid', 'lithium', 'goitre', 'tumor', 'hypopituitary', 'psych', 'TSH measured', 'TSH', 'T3 measured', 'T3', 'TT4 measured', 'TT4', 'T4U measured', 'T4U', 'FTI measured', 'FTI', 'TBG measured', 'TBG', 'referral source']\n"
     ]
    }
   ],
   "source": [
    "start_index = find_start_index(contents, 'age:')\n",
    "names = find_attribute_names(contents, start_index)\n",
    "print(f\"Attribute names are: \" + str(names))"
   ]
  },
  {
   "cell_type": "code",
   "execution_count": 59,
   "id": "a07c5110",
   "metadata": {},
   "outputs": [],
   "source": [
    "names.append('class')"
   ]
  },
  {
   "cell_type": "code",
   "execution_count": 60,
   "id": "57ea27d1",
   "metadata": {},
   "outputs": [],
   "source": [
    "data_allhypo = pd.read_csv(os.path.join(directory, \"allhypo.test\"),\n",
    "                   names=names, delimiter=r',')\n",
    "data_allhypo[[\"class\",\"id\"]] = data_allhypo[\"class\"].apply(lambda x: pd.Series(str(x).split(\".|\")))"
   ]
  },
  {
   "cell_type": "markdown",
   "id": "64efab89",
   "metadata": {},
   "source": [
    "Drop the attribute \"id\" (patient id number) from the original dataset. \\\n",
    "Drop the attribute \"TBG\" because all the data in this column are missing."
   ]
  },
  {
   "cell_type": "code",
   "execution_count": 61,
   "id": "fa55f903",
   "metadata": {},
   "outputs": [],
   "source": [
    "data_allhypo.drop([\"id\"], axis=1, inplace=True)\n",
    "data_allhypo.drop([\"TBG\"], axis=1, inplace=True)\n",
    "names.remove(\"TBG\")"
   ]
  },
  {
   "cell_type": "markdown",
   "id": "2530d03e",
   "metadata": {},
   "source": [
    "Add a patient ID."
   ]
  },
  {
   "cell_type": "code",
   "execution_count": 62,
   "id": "270d72e0",
   "metadata": {},
   "outputs": [],
   "source": [
    "data_allhypo[\"patient_id\"] = range(1, len(data_allhypo) + 1)"
   ]
  },
  {
   "cell_type": "code",
   "execution_count": 63,
   "id": "eafddc39",
   "metadata": {},
   "outputs": [],
   "source": [
    "continuous_attributes = ['age', 'TSH', 'T3', 'TT4', 'T4U', 'FTI']\n",
    "categorical_attributes = [name for name in names if not name in continuous_attributes]\n",
    "assert len(categorical_attributes) + len(continuous_attributes) == len(names)"
   ]
  },
  {
   "cell_type": "markdown",
   "id": "7a6206c1",
   "metadata": {},
   "source": [
    "Replace \"?\" with NaN.\\\n",
    "Replace the original encoding ('f', 't') to (0, 1). \\\n",
    "Replace the original encoding ('F', 'M') to (0, 1). \\\n",
    "Replace \"?\"(missing value) with NaN and convert from object type to numeric type."
   ]
  },
  {
   "cell_type": "code",
   "execution_count": 64,
   "id": "b530b2df",
   "metadata": {},
   "outputs": [],
   "source": [
    "for att in continuous_attributes:\n",
    "    data_allhypo[att].replace('?', np.NaN, inplace=True)\n",
    "    data_allhypo[att] = pd.to_numeric(data_allhypo[att])\n",
    "\n",
    "for att in categorical_attributes:\n",
    "    if att == 'referral source':\n",
    "        break\n",
    "    else:\n",
    "        data_allhypo[att].replace('?', np.NaN, inplace=True)\n",
    "        data_allhypo[att].replace(('F', 'M'), (0, 1), inplace=True)\n",
    "        data_allhypo[att].replace(('f', 't'), (0, 1), inplace=True)\n",
    "        data_allhypo[att] = pd.to_numeric(data_allhypo[att])"
   ]
  },
  {
   "cell_type": "code",
   "execution_count": 65,
   "id": "e9a64cfa",
   "metadata": {},
   "outputs": [],
   "source": [
    "data_allhypo.set_index(\"patient_id\", inplace=True)"
   ]
  },
  {
   "cell_type": "code",
   "execution_count": 66,
   "id": "d51c1724",
   "metadata": {},
   "outputs": [],
   "source": [
    "data_allhypo.to_csv(\"thyroid_allhypo_test_prepared.csv\")"
   ]
  },
  {
   "cell_type": "markdown",
   "id": "39dc9823",
   "metadata": {},
   "source": [
    "## Thyroid-allrep dataset"
   ]
  },
  {
   "cell_type": "markdown",
   "id": "20bf8926",
   "metadata": {},
   "source": [
    "### Train set"
   ]
  },
  {
   "cell_type": "code",
   "execution_count": 67,
   "id": "cded26cb",
   "metadata": {},
   "outputs": [],
   "source": [
    "with open(os.path.join(directory, \"allrep.names\")) as f:\n",
    "    contents = f.readlines()"
   ]
  },
  {
   "cell_type": "code",
   "execution_count": 68,
   "id": "51d6baba",
   "metadata": {},
   "outputs": [
    {
     "name": "stdout",
     "output_type": "stream",
     "text": [
      "Attribute names are: ['age', 'sex', 'on thyroxine', 'query on thyroxine', 'on antithyroid medication', 'sick', 'pregnant', 'thyroid surgery', 'I131 treatment', 'query hypothyroid', 'query hyperthyroid', 'lithium', 'goitre', 'tumor', 'hypopituitary', 'psych', 'TSH measured', 'TSH', 'T3 measured', 'T3', 'TT4 measured', 'TT4', 'T4U measured', 'T4U', 'FTI measured', 'FTI', 'TBG measured', 'TBG', 'referral source']\n"
     ]
    }
   ],
   "source": [
    "start_index = find_start_index(contents, 'age:')\n",
    "names = find_attribute_names(contents, start_index)\n",
    "print(f\"Attribute names are: \" + str(names))"
   ]
  },
  {
   "cell_type": "code",
   "execution_count": 69,
   "id": "2bfc01c9",
   "metadata": {},
   "outputs": [],
   "source": [
    "names.append('class')"
   ]
  },
  {
   "cell_type": "code",
   "execution_count": 70,
   "id": "eadeabe5",
   "metadata": {},
   "outputs": [],
   "source": [
    "data_allrep = pd.read_csv(os.path.join(directory, \"allrep.data\"),\n",
    "                   names=names, delimiter=r',')\n",
    "data_allrep[[\"class\",\"id\"]] = data_allrep[\"class\"].apply(lambda x: pd.Series(str(x).split(\".|\")))"
   ]
  },
  {
   "cell_type": "markdown",
   "id": "72c46c3b",
   "metadata": {},
   "source": [
    "Drop the attribute \"id\" (patient id number) from the original dataset. \\\n",
    "Drop the attribute \"TBG\" because all the data in this column are missing."
   ]
  },
  {
   "cell_type": "code",
   "execution_count": 71,
   "id": "4f667c76",
   "metadata": {},
   "outputs": [],
   "source": [
    "data_allrep.drop([\"id\"], axis=1, inplace=True)\n",
    "data_allrep.drop([\"TBG\"], axis=1, inplace=True)\n",
    "names.remove(\"TBG\")"
   ]
  },
  {
   "cell_type": "markdown",
   "id": "16fc62ef",
   "metadata": {},
   "source": [
    "Add a patient ID."
   ]
  },
  {
   "cell_type": "code",
   "execution_count": 72,
   "id": "fd37977f",
   "metadata": {},
   "outputs": [],
   "source": [
    "data_allrep[\"patient_id\"] = range(1, len(data_allrep) + 1)"
   ]
  },
  {
   "cell_type": "code",
   "execution_count": 73,
   "id": "4802815d",
   "metadata": {},
   "outputs": [],
   "source": [
    "continuous_attributes = ['age', 'TSH', 'T3', 'TT4', 'T4U', 'FTI']\n",
    "categorical_attributes = [name for name in names if not name in continuous_attributes]\n",
    "assert len(categorical_attributes) + len(continuous_attributes) == len(names)"
   ]
  },
  {
   "cell_type": "markdown",
   "id": "6fa5c87f",
   "metadata": {},
   "source": [
    "Replace \"?\" with NaN.\\\n",
    "Replace the original encoding ('f', 't') to (0, 1). \\\n",
    "Replace the original encoding ('F', 'M') to (0, 1). \\\n",
    "Replace \"?\"(missing value) with NaN and convert from object type to numeric type."
   ]
  },
  {
   "cell_type": "code",
   "execution_count": 74,
   "id": "a828d743",
   "metadata": {},
   "outputs": [],
   "source": [
    "\n",
    "for att in continuous_attributes:\n",
    "    data_allrep[att].replace('?', np.NaN, inplace=True)\n",
    "    data_allrep[att] = pd.to_numeric(data_allrep[att])\n",
    "\n",
    "for att in categorical_attributes:\n",
    "    if att == 'referral source':\n",
    "        break\n",
    "    else:\n",
    "        data_allrep[att].replace('?', np.NaN, inplace=True)\n",
    "        data_allrep[att].replace(('F', 'M'), (0, 1), inplace=True)\n",
    "        data_allrep[att].replace(('f', 't'), (0, 1), inplace=True)\n",
    "        data_allrep[att] = pd.to_numeric(data_allrep[att])"
   ]
  },
  {
   "cell_type": "code",
   "execution_count": 75,
   "id": "df1c721b",
   "metadata": {},
   "outputs": [],
   "source": [
    "data_allrep.set_index(\"patient_id\", inplace=True)"
   ]
  },
  {
   "cell_type": "code",
   "execution_count": 76,
   "id": "e81a1ef6",
   "metadata": {},
   "outputs": [],
   "source": [
    "data_allrep.to_csv(\"thyroid_allrep_train_prepared.csv\")"
   ]
  },
  {
   "cell_type": "markdown",
   "id": "389ae076",
   "metadata": {},
   "source": [
    "### Test set"
   ]
  },
  {
   "cell_type": "code",
   "execution_count": 77,
   "id": "fa95116f",
   "metadata": {},
   "outputs": [],
   "source": [
    "with open(os.path.join(directory, \"allrep.names\")) as f:\n",
    "    contents = f.readlines()"
   ]
  },
  {
   "cell_type": "code",
   "execution_count": 78,
   "id": "1456045e",
   "metadata": {},
   "outputs": [
    {
     "name": "stdout",
     "output_type": "stream",
     "text": [
      "Attribute names are: ['age', 'sex', 'on thyroxine', 'query on thyroxine', 'on antithyroid medication', 'sick', 'pregnant', 'thyroid surgery', 'I131 treatment', 'query hypothyroid', 'query hyperthyroid', 'lithium', 'goitre', 'tumor', 'hypopituitary', 'psych', 'TSH measured', 'TSH', 'T3 measured', 'T3', 'TT4 measured', 'TT4', 'T4U measured', 'T4U', 'FTI measured', 'FTI', 'TBG measured', 'TBG', 'referral source']\n"
     ]
    }
   ],
   "source": [
    "start_index = find_start_index(contents, 'age:')\n",
    "names = find_attribute_names(contents, start_index)\n",
    "print(f\"Attribute names are: \" + str(names))"
   ]
  },
  {
   "cell_type": "code",
   "execution_count": 79,
   "id": "9cd2cad6",
   "metadata": {},
   "outputs": [],
   "source": [
    "names.append('class')"
   ]
  },
  {
   "cell_type": "code",
   "execution_count": 80,
   "id": "2059c234",
   "metadata": {},
   "outputs": [],
   "source": [
    "data_allrep = pd.read_csv(os.path.join(directory, \"allrep.test\"),\n",
    "                   names=names, delimiter=r',')\n",
    "data_allrep[[\"class\",\"id\"]] = data_allrep[\"class\"].apply(lambda x: pd.Series(str(x).split(\".|\")))"
   ]
  },
  {
   "cell_type": "markdown",
   "id": "2f519a2d",
   "metadata": {},
   "source": [
    "Drop the attribute \"id\" (patient id number) from the original dataset. \\\n",
    "Drop the attribute \"TBG\" because all the data in this column are missing."
   ]
  },
  {
   "cell_type": "code",
   "execution_count": 81,
   "id": "9b214af3",
   "metadata": {},
   "outputs": [],
   "source": [
    "data_allrep.drop([\"id\"], axis=1, inplace=True)\n",
    "data_allrep.drop([\"TBG\"], axis=1, inplace=True)\n",
    "names.remove(\"TBG\")"
   ]
  },
  {
   "cell_type": "markdown",
   "id": "f8e12f6c",
   "metadata": {},
   "source": [
    "Add a patient ID."
   ]
  },
  {
   "cell_type": "code",
   "execution_count": 82,
   "id": "d0b3d05f",
   "metadata": {},
   "outputs": [],
   "source": [
    "data_allrep[\"patient_id\"] = range(1, len(data_allrep) + 1)"
   ]
  },
  {
   "cell_type": "code",
   "execution_count": 83,
   "id": "b06cc586",
   "metadata": {},
   "outputs": [],
   "source": [
    "continuous_attributes = ['age', 'TSH', 'T3', 'TT4', 'T4U', 'FTI']\n",
    "categorical_attributes = [name for name in names if not name in continuous_attributes]\n",
    "assert len(categorical_attributes) + len(continuous_attributes) == len(names)"
   ]
  },
  {
   "cell_type": "markdown",
   "id": "fcd202c6",
   "metadata": {},
   "source": [
    "Replace \"?\" with NaN.\\\n",
    "Replace the original encoding ('f', 't') to (0, 1). \\\n",
    "Replace the original encoding ('F', 'M') to (0, 1). \\\n",
    "Replace \"?\"(missing value) with NaN and convert from object type to numeric type."
   ]
  },
  {
   "cell_type": "code",
   "execution_count": 84,
   "id": "c1930a83",
   "metadata": {},
   "outputs": [],
   "source": [
    "for att in continuous_attributes:\n",
    "    data_allrep[att].replace('?', np.NaN, inplace=True)\n",
    "    data_allrep[att] = pd.to_numeric(data_allrep[att])\n",
    "\n",
    "for att in categorical_attributes:\n",
    "    if att == 'referral source':\n",
    "        break\n",
    "    else:\n",
    "        data_allrep[att].replace('?', np.NaN, inplace=True)\n",
    "        data_allrep[att].replace(('F', 'M'), (0, 1), inplace=True)\n",
    "        data_allrep[att].replace(('f', 't'), (0, 1), inplace=True)\n",
    "        data_allrep[att] = pd.to_numeric(data_allrep[att])"
   ]
  },
  {
   "cell_type": "code",
   "execution_count": 85,
   "id": "6615f148",
   "metadata": {},
   "outputs": [],
   "source": [
    "data_allrep.set_index(\"patient_id\", inplace=True)"
   ]
  },
  {
   "cell_type": "code",
   "execution_count": 86,
   "id": "0fe63d1d",
   "metadata": {},
   "outputs": [],
   "source": [
    "data_allrep.to_csv(\"thyroid_allrep_test_prepared.csv\")"
   ]
  },
  {
   "cell_type": "markdown",
   "id": "3cf399e8",
   "metadata": {},
   "source": [
    "## Thyroid-dis dataset"
   ]
  },
  {
   "cell_type": "markdown",
   "id": "ad943e56",
   "metadata": {},
   "source": [
    "### Train set"
   ]
  },
  {
   "cell_type": "code",
   "execution_count": 87,
   "id": "e12f5b58",
   "metadata": {},
   "outputs": [],
   "source": [
    "with open(os.path.join(directory, \"dis.names\")) as f:\n",
    "    contents = f.readlines()"
   ]
  },
  {
   "cell_type": "code",
   "execution_count": 88,
   "id": "44470a3d",
   "metadata": {},
   "outputs": [
    {
     "name": "stdout",
     "output_type": "stream",
     "text": [
      "Attribute names are: ['age', 'sex', 'on thyroxine', 'query on thyroxine', 'on antithyroid medication', 'sick', 'pregnant', 'thyroid surgery', 'I131 treatment', 'query hypothyroid', 'query hyperthyroid', 'lithium', 'goitre', 'tumor', 'hypopituitary', 'psych', 'TSH measured', 'TSH', 'T3 measured', 'T3', 'TT4 measured', 'TT4', 'T4U measured', 'T4U', 'FTI measured', 'FTI', 'TBG measured', 'TBG', 'referral source']\n"
     ]
    }
   ],
   "source": [
    "start_index = find_start_index(contents, 'age:')\n",
    "names = find_attribute_names(contents, start_index)\n",
    "print(f\"Attribute names are: \" + str(names))"
   ]
  },
  {
   "cell_type": "code",
   "execution_count": 89,
   "id": "1a5b0431",
   "metadata": {},
   "outputs": [],
   "source": [
    "names.append('class')"
   ]
  },
  {
   "cell_type": "code",
   "execution_count": 90,
   "id": "de3833c7",
   "metadata": {},
   "outputs": [],
   "source": [
    "data_dis = pd.read_csv(os.path.join(directory, \"dis.data\"),\n",
    "                   names=names, delimiter=r',')\n",
    "data_dis[[\"class\",\"id\"]] = data_dis[\"class\"].apply(lambda x: pd.Series(str(x).split(\".|\")))"
   ]
  },
  {
   "cell_type": "markdown",
   "id": "8c660d29",
   "metadata": {},
   "source": [
    "Drop the attribute \"id\" (patient id number) from the original dataset. \\\n",
    "Drop the attribute \"TBG\" because all the data in this column are missing."
   ]
  },
  {
   "cell_type": "code",
   "execution_count": 91,
   "id": "40d12af5",
   "metadata": {},
   "outputs": [],
   "source": [
    "data_dis.drop([\"id\"], axis=1, inplace=True)\n",
    "data_dis.drop([\"TBG\"], axis=1, inplace=True)\n",
    "names.remove(\"TBG\")"
   ]
  },
  {
   "cell_type": "markdown",
   "id": "aa0a946e",
   "metadata": {},
   "source": [
    "Add a patient ID."
   ]
  },
  {
   "cell_type": "code",
   "execution_count": 92,
   "id": "74a7658c",
   "metadata": {},
   "outputs": [],
   "source": [
    "data_dis[\"patient_id\"] = range(1, len(data_dis) + 1)"
   ]
  },
  {
   "cell_type": "code",
   "execution_count": 93,
   "id": "5658c416",
   "metadata": {},
   "outputs": [],
   "source": [
    "continuous_attributes = ['age', 'TSH', 'T3', 'TT4', 'T4U', 'FTI']\n",
    "categorical_attributes = [name for name in names if not name in continuous_attributes]\n",
    "assert len(categorical_attributes) + len(continuous_attributes) == len(names)"
   ]
  },
  {
   "cell_type": "markdown",
   "id": "dda00d08",
   "metadata": {},
   "source": [
    "Replace \"?\" with NaN.\\\n",
    "Replace the original encoding ('f', 't') to (0, 1). \\\n",
    "Replace the original encoding ('F', 'M') to (0, 1). \\\n",
    "Replace \"?\"(missing value) with NaN and convert from object type to numeric type."
   ]
  },
  {
   "cell_type": "code",
   "execution_count": 94,
   "id": "5da6dd38",
   "metadata": {},
   "outputs": [],
   "source": [
    "for att in continuous_attributes:\n",
    "    data_dis[att].replace('?', np.NaN, inplace=True)\n",
    "    data_dis[att] = pd.to_numeric(data_dis[att])\n",
    "\n",
    "for att in categorical_attributes:\n",
    "    if att == 'referral source':\n",
    "        break\n",
    "    else:\n",
    "        data_dis[att].replace('?', np.NaN, inplace=True)\n",
    "        data_dis[att].replace(('F', 'M'), (0, 1), inplace=True)\n",
    "        data_dis[att].replace(('f', 't'), (0, 1), inplace=True)\n",
    "        data_dis[att] = pd.to_numeric(data_dis[att])"
   ]
  },
  {
   "cell_type": "code",
   "execution_count": 95,
   "id": "7d0cd466",
   "metadata": {},
   "outputs": [],
   "source": [
    "data_dis.set_index(\"patient_id\", inplace=True)"
   ]
  },
  {
   "cell_type": "code",
   "execution_count": 96,
   "id": "3b3dd149",
   "metadata": {},
   "outputs": [],
   "source": [
    "data_dis.to_csv(\"thyroid_dis_train_prepared.csv\")"
   ]
  },
  {
   "cell_type": "markdown",
   "id": "a837ac59",
   "metadata": {},
   "source": [
    "### Test set"
   ]
  },
  {
   "cell_type": "code",
   "execution_count": 97,
   "id": "223c89a3",
   "metadata": {},
   "outputs": [],
   "source": [
    "with open(os.path.join(directory, \"dis.names\")) as f:\n",
    "    contents = f.readlines()"
   ]
  },
  {
   "cell_type": "code",
   "execution_count": 98,
   "id": "5cf90c83",
   "metadata": {},
   "outputs": [
    {
     "name": "stdout",
     "output_type": "stream",
     "text": [
      "Attribute names are: ['age', 'sex', 'on thyroxine', 'query on thyroxine', 'on antithyroid medication', 'sick', 'pregnant', 'thyroid surgery', 'I131 treatment', 'query hypothyroid', 'query hyperthyroid', 'lithium', 'goitre', 'tumor', 'hypopituitary', 'psych', 'TSH measured', 'TSH', 'T3 measured', 'T3', 'TT4 measured', 'TT4', 'T4U measured', 'T4U', 'FTI measured', 'FTI', 'TBG measured', 'TBG', 'referral source']\n"
     ]
    }
   ],
   "source": [
    "start_index = find_start_index(contents, 'age:')\n",
    "names = find_attribute_names(contents, start_index)\n",
    "print(f\"Attribute names are: \" + str(names))"
   ]
  },
  {
   "cell_type": "code",
   "execution_count": 99,
   "id": "fe38e9ff",
   "metadata": {},
   "outputs": [],
   "source": [
    "names.append('class')"
   ]
  },
  {
   "cell_type": "code",
   "execution_count": 100,
   "id": "24f8e136",
   "metadata": {},
   "outputs": [],
   "source": [
    "data_dis = pd.read_csv(os.path.join(directory, \"dis.test\"),\n",
    "                   names=names, delimiter=r',')\n",
    "data_dis[[\"class\",\"id\"]] = data_dis[\"class\"].apply(lambda x: pd.Series(str(x).split(\".|\")))"
   ]
  },
  {
   "cell_type": "markdown",
   "id": "27d2cde6",
   "metadata": {},
   "source": [
    "Drop the attribute \"id\" (patient id number) from the original dataset. \\\n",
    "Drop the attribute \"TBG\" because all the data in this column are missing."
   ]
  },
  {
   "cell_type": "code",
   "execution_count": 101,
   "id": "38144bfc",
   "metadata": {},
   "outputs": [],
   "source": [
    "data_dis.drop([\"id\"], axis=1, inplace=True)\n",
    "data_dis.drop([\"TBG\"], axis=1, inplace=True)\n",
    "names.remove(\"TBG\")"
   ]
  },
  {
   "cell_type": "markdown",
   "id": "e4cec71e",
   "metadata": {},
   "source": [
    "Add a patient ID."
   ]
  },
  {
   "cell_type": "code",
   "execution_count": 102,
   "id": "328fb676",
   "metadata": {},
   "outputs": [],
   "source": [
    "data_dis[\"patient_id\"] = range(1, len(data_dis) + 1)"
   ]
  },
  {
   "cell_type": "code",
   "execution_count": 103,
   "id": "a864651b",
   "metadata": {},
   "outputs": [],
   "source": [
    "continuous_attributes = ['age', 'TSH', 'T3', 'TT4', 'T4U', 'FTI']\n",
    "categorical_attributes = [name for name in names if not name in continuous_attributes]\n",
    "assert len(categorical_attributes) + len(continuous_attributes) == len(names)"
   ]
  },
  {
   "cell_type": "markdown",
   "id": "7420fe0d",
   "metadata": {},
   "source": [
    "Replace \"?\" with NaN.\\\n",
    "Replace the original encoding ('f', 't') to (0, 1). \\\n",
    "Replace the original encoding ('F', 'M') to (0, 1). \\\n",
    "Replace \"?\"(missing value) with NaN and convert from object type to numeric type."
   ]
  },
  {
   "cell_type": "code",
   "execution_count": 104,
   "id": "bdc65d85",
   "metadata": {},
   "outputs": [],
   "source": [
    "for att in continuous_attributes:\n",
    "    data_dis[att].replace('?', np.NaN, inplace=True)\n",
    "    data_dis[att] = pd.to_numeric(data_dis[att])\n",
    "\n",
    "for att in categorical_attributes:\n",
    "    if att == 'referral source':\n",
    "        break\n",
    "    else:\n",
    "        data_dis[att].replace('?', np.NaN, inplace=True)\n",
    "        data_dis[att].replace(('F', 'M'), (0, 1), inplace=True)\n",
    "        data_dis[att].replace(('f', 't'), (0, 1), inplace=True)\n",
    "        data_dis[att] = pd.to_numeric(data_dis[att])"
   ]
  },
  {
   "cell_type": "code",
   "execution_count": 105,
   "id": "c88defb8",
   "metadata": {},
   "outputs": [],
   "source": [
    "data_dis.set_index(\"patient_id\", inplace=True)"
   ]
  },
  {
   "cell_type": "code",
   "execution_count": 106,
   "id": "43884b24",
   "metadata": {},
   "outputs": [],
   "source": [
    "data_dis.to_csv(\"thyroid_dis_test_prepared.csv\")"
   ]
  },
  {
   "cell_type": "markdown",
   "id": "3295a4cc",
   "metadata": {},
   "source": [
    "## Thyroid-sick dataset"
   ]
  },
  {
   "cell_type": "markdown",
   "id": "68771832",
   "metadata": {},
   "source": [
    "### Train set"
   ]
  },
  {
   "cell_type": "code",
   "execution_count": 107,
   "id": "694a4b76",
   "metadata": {},
   "outputs": [],
   "source": [
    "with open(os.path.join(directory, \"sick.names\")) as f:\n",
    "    contents = f.readlines()"
   ]
  },
  {
   "cell_type": "code",
   "execution_count": 108,
   "id": "716c758a",
   "metadata": {},
   "outputs": [
    {
     "name": "stdout",
     "output_type": "stream",
     "text": [
      "Attribute names are: ['age', 'sex', 'on thyroxine', 'query on thyroxine', 'on antithyroid medication', 'sick', 'pregnant', 'thyroid surgery', 'I131 treatment', 'query hypothyroid', 'query hyperthyroid', 'lithium', 'goitre', 'tumor', 'hypopituitary', 'psych', 'TSH measured', 'TSH', 'T3 measured', 'T3', 'TT4 measured', 'TT4', 'T4U measured', 'T4U', 'FTI measured', 'FTI', 'TBG measured', 'TBG', 'referral source']\n"
     ]
    }
   ],
   "source": [
    "start_index = find_start_index(contents, 'age:')\n",
    "names = find_attribute_names(contents, start_index)\n",
    "print(f\"Attribute names are: \" + str(names))"
   ]
  },
  {
   "cell_type": "code",
   "execution_count": 109,
   "id": "e0b5fa58",
   "metadata": {},
   "outputs": [],
   "source": [
    "names.append('class')"
   ]
  },
  {
   "cell_type": "code",
   "execution_count": 110,
   "id": "8251aa8c",
   "metadata": {},
   "outputs": [],
   "source": [
    "data_sick = pd.read_csv(os.path.join(directory, \"sick.data\"),\n",
    "                   names=names, delimiter=r',')\n",
    "data_sick[[\"class\",\"id\"]] = data_sick[\"class\"].apply(lambda x: pd.Series(str(x).split(\".|\")))"
   ]
  },
  {
   "cell_type": "markdown",
   "id": "5f51c957",
   "metadata": {},
   "source": [
    "Drop the attribute \"id\" (patient id number) from the original dataset. \\\n",
    "Drop the attribute \"TBG\" because all the data in this column are missing."
   ]
  },
  {
   "cell_type": "code",
   "execution_count": 111,
   "id": "2675e2bb",
   "metadata": {},
   "outputs": [],
   "source": [
    "data_sick.drop([\"id\"], axis=1, inplace=True)\n",
    "data_sick.drop([\"TBG\"], axis=1, inplace=True)\n",
    "names.remove(\"TBG\")"
   ]
  },
  {
   "cell_type": "markdown",
   "id": "9bdd9594",
   "metadata": {},
   "source": [
    "Add a patient ID."
   ]
  },
  {
   "cell_type": "code",
   "execution_count": 112,
   "id": "7c569b5d",
   "metadata": {},
   "outputs": [],
   "source": [
    "data_sick[\"patient_id\"] = range(1, len(data_sick) + 1)"
   ]
  },
  {
   "cell_type": "code",
   "execution_count": 113,
   "id": "876a89c1",
   "metadata": {},
   "outputs": [],
   "source": [
    "continuous_attributes = ['age', 'TSH', 'T3', 'TT4', 'T4U', 'FTI']\n",
    "categorical_attributes = [name for name in names if not name in continuous_attributes]\n",
    "assert len(categorical_attributes) + len(continuous_attributes) == len(names)"
   ]
  },
  {
   "cell_type": "markdown",
   "id": "13d87da5",
   "metadata": {},
   "source": [
    "Replace \"?\" with NaN.\\\n",
    "Replace the original encoding ('f', 't') to (0, 1). \\\n",
    "Replace the original encoding ('F', 'M') to (0, 1). \\\n",
    "Replace \"?\"(missing value) with NaN and convert from object type to numeric type."
   ]
  },
  {
   "cell_type": "code",
   "execution_count": 114,
   "id": "09e32029",
   "metadata": {},
   "outputs": [],
   "source": [
    "for att in continuous_attributes:\n",
    "    data_sick[att].replace('?', np.NaN, inplace=True)\n",
    "    data_sick[att] = pd.to_numeric(data_sick[att])\n",
    "\n",
    "for att in categorical_attributes:\n",
    "    if att == 'referral source':\n",
    "        break\n",
    "    else:\n",
    "        data_sick[att].replace('?', np.NaN, inplace=True)\n",
    "        data_sick[att].replace(('F', 'M'), (0, 1), inplace=True)\n",
    "        data_sick[att].replace(('f', 't'), (0, 1), inplace=True)\n",
    "        data_sick[att] = pd.to_numeric(data_sick[att])"
   ]
  },
  {
   "cell_type": "code",
   "execution_count": 115,
   "id": "7cb59d09",
   "metadata": {},
   "outputs": [],
   "source": [
    "data_sick.set_index(\"patient_id\", inplace=True)"
   ]
  },
  {
   "cell_type": "code",
   "execution_count": 116,
   "id": "a53e695c",
   "metadata": {},
   "outputs": [],
   "source": [
    "data_sick.to_csv(\"thyroid_sick_train_prepared.csv\")"
   ]
  },
  {
   "cell_type": "markdown",
   "id": "3dd4dcaa",
   "metadata": {},
   "source": [
    "### Test set"
   ]
  },
  {
   "cell_type": "code",
   "execution_count": 117,
   "id": "84e2e479",
   "metadata": {},
   "outputs": [],
   "source": [
    "with open(os.path.join(directory, \"sick.names\")) as f:\n",
    "    contents = f.readlines()"
   ]
  },
  {
   "cell_type": "code",
   "execution_count": 118,
   "id": "79e03e08",
   "metadata": {},
   "outputs": [
    {
     "name": "stdout",
     "output_type": "stream",
     "text": [
      "Attribute names are: ['age', 'sex', 'on thyroxine', 'query on thyroxine', 'on antithyroid medication', 'sick', 'pregnant', 'thyroid surgery', 'I131 treatment', 'query hypothyroid', 'query hyperthyroid', 'lithium', 'goitre', 'tumor', 'hypopituitary', 'psych', 'TSH measured', 'TSH', 'T3 measured', 'T3', 'TT4 measured', 'TT4', 'T4U measured', 'T4U', 'FTI measured', 'FTI', 'TBG measured', 'TBG', 'referral source']\n"
     ]
    }
   ],
   "source": [
    "start_index = find_start_index(contents, 'age:')\n",
    "names = find_attribute_names(contents, start_index)\n",
    "print(f\"Attribute names are: \" + str(names))"
   ]
  },
  {
   "cell_type": "code",
   "execution_count": 119,
   "id": "97dcc1c9",
   "metadata": {},
   "outputs": [],
   "source": [
    "names.append('class')"
   ]
  },
  {
   "cell_type": "code",
   "execution_count": 120,
   "id": "c5ea1121",
   "metadata": {},
   "outputs": [],
   "source": [
    "data_sick = pd.read_csv(os.path.join(directory, \"sick.test\"),\n",
    "                   names=names, delimiter=r',')\n",
    "data_sick[[\"class\",\"id\"]] = data_sick[\"class\"].apply(lambda x: pd.Series(str(x).split(\".|\")))"
   ]
  },
  {
   "cell_type": "markdown",
   "id": "68c306bf",
   "metadata": {},
   "source": [
    "Drop the attribute \"id\" (patient id number) from the original dataset. \\\n",
    "Drop the attribute \"TBG\" because all the data in this column are missing."
   ]
  },
  {
   "cell_type": "code",
   "execution_count": 121,
   "id": "d0ba6f87",
   "metadata": {},
   "outputs": [],
   "source": [
    "data_sick.drop([\"id\"], axis=1, inplace=True)\n",
    "data_sick.drop([\"TBG\"], axis=1, inplace=True)\n",
    "names.remove(\"TBG\")"
   ]
  },
  {
   "cell_type": "markdown",
   "id": "636c3f75",
   "metadata": {},
   "source": [
    "Add a patient ID."
   ]
  },
  {
   "cell_type": "code",
   "execution_count": 122,
   "id": "4f125dc9",
   "metadata": {},
   "outputs": [],
   "source": [
    "data_sick[\"patient_id\"] = range(1, len(data_sick) + 1)"
   ]
  },
  {
   "cell_type": "code",
   "execution_count": 123,
   "id": "82d19f3a",
   "metadata": {},
   "outputs": [],
   "source": [
    "continuous_attributes = ['age', 'TSH', 'T3', 'TT4', 'T4U', 'FTI']\n",
    "categorical_attributes = [name for name in names if not name in continuous_attributes]\n",
    "assert len(categorical_attributes) + len(continuous_attributes) == len(names)"
   ]
  },
  {
   "cell_type": "markdown",
   "id": "968c75a1",
   "metadata": {},
   "source": [
    "Replace \"?\" with NaN.\\\n",
    "Replace the original encoding ('f', 't') to (0, 1). \\\n",
    "Replace the original encoding ('F', 'M') to (0, 1). \\\n",
    "Replace \"?\"(missing value) with NaN and convert from object type to numeric type."
   ]
  },
  {
   "cell_type": "code",
   "execution_count": 124,
   "id": "a6e28966",
   "metadata": {},
   "outputs": [],
   "source": [
    "for att in continuous_attributes:\n",
    "    data_sick[att].replace('?', np.NaN, inplace=True)\n",
    "    data_sick[att] = pd.to_numeric(data_sick[att])\n",
    "\n",
    "for att in categorical_attributes:\n",
    "    if att == 'referral source':\n",
    "        break\n",
    "    else:\n",
    "        data_sick[att].replace('?', np.NaN, inplace=True)\n",
    "        data_sick[att].replace(('F', 'M'), (0, 1), inplace=True)\n",
    "        data_sick[att].replace(('f', 't'), (0, 1), inplace=True)\n",
    "        data_sick[att] = pd.to_numeric(data_sick[att])"
   ]
  },
  {
   "cell_type": "code",
   "execution_count": 125,
   "id": "5a696142",
   "metadata": {},
   "outputs": [],
   "source": [
    "data_sick.set_index(\"patient_id\", inplace=True)"
   ]
  },
  {
   "cell_type": "code",
   "execution_count": 126,
   "id": "0b98e741",
   "metadata": {},
   "outputs": [],
   "source": [
    "data_sick.to_csv(\"thyroid_sick_test_prepared.csv\")"
   ]
  },
  {
   "cell_type": "markdown",
   "id": "77327a0b",
   "metadata": {},
   "source": [
    "# ehrapy sanity check"
   ]
  },
  {
   "cell_type": "code",
   "execution_count": 127,
   "id": "47a1d603",
   "metadata": {},
   "outputs": [],
   "source": [
    "adata = ep.io.read(\"thyroid_allhyper_test_prepared.csv\",\n",
    "                   extension=\"csv\",\n",
    "                   index_column=\"patient_id\")"
   ]
  },
  {
   "cell_type": "code",
   "execution_count": 128,
   "id": "445656af",
   "metadata": {},
   "outputs": [
    {
     "data": {
      "text/plain": [
       "Index(['age', 'sex', 'on thyroxine', 'query on thyroxine',\n",
       "       'on antithyroid medication', 'sick', 'pregnant', 'thyroid surgery',\n",
       "       'I131 treatment', 'query hypothyroid', 'query hyperthyroid', 'lithium',\n",
       "       'goitre', 'tumor', 'hypopituitary', 'psych', 'TSH measured', 'TSH',\n",
       "       'T3 measured', 'T3', 'TT4 measured', 'TT4', 'T4U measured', 'T4U',\n",
       "       'FTI measured', 'FTI', 'TBG measured', 'referral source', 'class'],\n",
       "      dtype='object')"
      ]
     },
     "execution_count": 128,
     "metadata": {},
     "output_type": "execute_result"
    }
   ],
   "source": [
    "adata.var_names"
   ]
  },
  {
   "cell_type": "code",
   "execution_count": 129,
   "id": "79b0286f",
   "metadata": {},
   "outputs": [
    {
     "data": {
      "text/html": [
       "<pre style=\"white-space:pre;overflow-x:auto;line-height:normal;font-family:Menlo,'DejaVu Sans Mono',consolas,'Courier New',monospace\"><span style=\"color: #008000; text-decoration-color: #008000; font-weight: bold\">Variable names for AnnData object with 972 obs and 29 vars</span>                                   \n",
       "<span style=\"color: #0000ff; text-decoration-color: #0000ff\">╚══ </span><span style=\"color: #008000; text-decoration-color: #008000; font-weight: bold\">🔓 Unencoded variables                                                                   </span>\n",
       "<span style=\"color: #0000ff; text-decoration-color: #0000ff\">    ╠══ </span><span style=\"color: #000080; text-decoration-color: #000080; font-weight: bold\">age -&gt; </span><span style=\"color: #008000; text-decoration-color: #008000; font-weight: bold\">data type: </span><span style=\"color: #000080; text-decoration-color: #000080; font-weight: bold\">integer</span><span style=\"color: #008000; text-decoration-color: #008000; font-weight: bold\">                                                            </span>\n",
       "<span style=\"color: #0000ff; text-decoration-color: #0000ff\">    ╠══ </span><span style=\"color: #000080; text-decoration-color: #000080; font-weight: bold\">sex -&gt; </span><span style=\"color: #008000; text-decoration-color: #008000; font-weight: bold\">data type: </span><span style=\"color: #000080; text-decoration-color: #000080; font-weight: bold\">floating</span><span style=\"color: #008000; text-decoration-color: #008000; font-weight: bold\">                                                           </span>\n",
       "<span style=\"color: #0000ff; text-decoration-color: #0000ff\">    ╠══ </span><span style=\"color: #000080; text-decoration-color: #000080; font-weight: bold\">on thyroxine -&gt; </span><span style=\"color: #008000; text-decoration-color: #008000; font-weight: bold\">data type: </span><span style=\"color: #000080; text-decoration-color: #000080; font-weight: bold\">integer</span><span style=\"color: #008000; text-decoration-color: #008000; font-weight: bold\">                                                   </span>\n",
       "<span style=\"color: #0000ff; text-decoration-color: #0000ff\">    ╠══ </span><span style=\"color: #000080; text-decoration-color: #000080; font-weight: bold\">query on thyroxine -&gt; </span><span style=\"color: #008000; text-decoration-color: #008000; font-weight: bold\">data type: </span><span style=\"color: #000080; text-decoration-color: #000080; font-weight: bold\">integer</span><span style=\"color: #008000; text-decoration-color: #008000; font-weight: bold\">                                             </span>\n",
       "<span style=\"color: #0000ff; text-decoration-color: #0000ff\">    ╠══ </span><span style=\"color: #000080; text-decoration-color: #000080; font-weight: bold\">on antithyroid medication -&gt; </span><span style=\"color: #008000; text-decoration-color: #008000; font-weight: bold\">data type: </span><span style=\"color: #000080; text-decoration-color: #000080; font-weight: bold\">integer</span><span style=\"color: #008000; text-decoration-color: #008000; font-weight: bold\">                                      </span>\n",
       "<span style=\"color: #0000ff; text-decoration-color: #0000ff\">    ╠══ </span><span style=\"color: #000080; text-decoration-color: #000080; font-weight: bold\">sick -&gt; </span><span style=\"color: #008000; text-decoration-color: #008000; font-weight: bold\">data type: </span><span style=\"color: #000080; text-decoration-color: #000080; font-weight: bold\">integer</span><span style=\"color: #008000; text-decoration-color: #008000; font-weight: bold\">                                                           </span>\n",
       "<span style=\"color: #0000ff; text-decoration-color: #0000ff\">    ╠══ </span><span style=\"color: #000080; text-decoration-color: #000080; font-weight: bold\">pregnant -&gt; </span><span style=\"color: #008000; text-decoration-color: #008000; font-weight: bold\">data type: </span><span style=\"color: #000080; text-decoration-color: #000080; font-weight: bold\">integer</span><span style=\"color: #008000; text-decoration-color: #008000; font-weight: bold\">                                                       </span>\n",
       "<span style=\"color: #0000ff; text-decoration-color: #0000ff\">    ╠══ </span><span style=\"color: #000080; text-decoration-color: #000080; font-weight: bold\">thyroid surgery -&gt; </span><span style=\"color: #008000; text-decoration-color: #008000; font-weight: bold\">data type: </span><span style=\"color: #000080; text-decoration-color: #000080; font-weight: bold\">integer</span><span style=\"color: #008000; text-decoration-color: #008000; font-weight: bold\">                                                </span>\n",
       "<span style=\"color: #0000ff; text-decoration-color: #0000ff\">    ╠══ </span><span style=\"color: #000080; text-decoration-color: #000080; font-weight: bold\">I131 treatment -&gt; </span><span style=\"color: #008000; text-decoration-color: #008000; font-weight: bold\">data type: </span><span style=\"color: #000080; text-decoration-color: #000080; font-weight: bold\">integer</span><span style=\"color: #008000; text-decoration-color: #008000; font-weight: bold\">                                                 </span>\n",
       "<span style=\"color: #0000ff; text-decoration-color: #0000ff\">    ╠══ </span><span style=\"color: #000080; text-decoration-color: #000080; font-weight: bold\">query hypothyroid -&gt; </span><span style=\"color: #008000; text-decoration-color: #008000; font-weight: bold\">data type: </span><span style=\"color: #000080; text-decoration-color: #000080; font-weight: bold\">integer</span><span style=\"color: #008000; text-decoration-color: #008000; font-weight: bold\">                                              </span>\n",
       "<span style=\"color: #0000ff; text-decoration-color: #0000ff\">    ╠══ </span><span style=\"color: #000080; text-decoration-color: #000080; font-weight: bold\">query hyperthyroid -&gt; </span><span style=\"color: #008000; text-decoration-color: #008000; font-weight: bold\">data type: </span><span style=\"color: #000080; text-decoration-color: #000080; font-weight: bold\">integer</span><span style=\"color: #008000; text-decoration-color: #008000; font-weight: bold\">                                             </span>\n",
       "<span style=\"color: #0000ff; text-decoration-color: #0000ff\">    ╠══ </span><span style=\"color: #000080; text-decoration-color: #000080; font-weight: bold\">lithium -&gt; </span><span style=\"color: #008000; text-decoration-color: #008000; font-weight: bold\">data type: </span><span style=\"color: #000080; text-decoration-color: #000080; font-weight: bold\">integer</span><span style=\"color: #008000; text-decoration-color: #008000; font-weight: bold\">                                                        </span>\n",
       "<span style=\"color: #0000ff; text-decoration-color: #0000ff\">    ╠══ </span><span style=\"color: #000080; text-decoration-color: #000080; font-weight: bold\">goitre -&gt; </span><span style=\"color: #008000; text-decoration-color: #008000; font-weight: bold\">data type: </span><span style=\"color: #000080; text-decoration-color: #000080; font-weight: bold\">integer</span><span style=\"color: #008000; text-decoration-color: #008000; font-weight: bold\">                                                         </span>\n",
       "<span style=\"color: #0000ff; text-decoration-color: #0000ff\">    ╠══ </span><span style=\"color: #000080; text-decoration-color: #000080; font-weight: bold\">tumor -&gt; </span><span style=\"color: #008000; text-decoration-color: #008000; font-weight: bold\">data type: </span><span style=\"color: #000080; text-decoration-color: #000080; font-weight: bold\">integer</span><span style=\"color: #008000; text-decoration-color: #008000; font-weight: bold\">                                                          </span>\n",
       "<span style=\"color: #0000ff; text-decoration-color: #0000ff\">    ╠══ </span><span style=\"color: #000080; text-decoration-color: #000080; font-weight: bold\">hypopituitary -&gt; </span><span style=\"color: #008000; text-decoration-color: #008000; font-weight: bold\">data type: </span><span style=\"color: #000080; text-decoration-color: #000080; font-weight: bold\">integer</span><span style=\"color: #008000; text-decoration-color: #008000; font-weight: bold\">                                                  </span>\n",
       "<span style=\"color: #0000ff; text-decoration-color: #0000ff\">    ╠══ </span><span style=\"color: #000080; text-decoration-color: #000080; font-weight: bold\">psych -&gt; </span><span style=\"color: #008000; text-decoration-color: #008000; font-weight: bold\">data type: </span><span style=\"color: #000080; text-decoration-color: #000080; font-weight: bold\">integer</span><span style=\"color: #008000; text-decoration-color: #008000; font-weight: bold\">                                                          </span>\n",
       "<span style=\"color: #0000ff; text-decoration-color: #0000ff\">    ╠══ </span><span style=\"color: #000080; text-decoration-color: #000080; font-weight: bold\">TSH measured -&gt; </span><span style=\"color: #008000; text-decoration-color: #008000; font-weight: bold\">data type: </span><span style=\"color: #000080; text-decoration-color: #000080; font-weight: bold\">integer</span><span style=\"color: #008000; text-decoration-color: #008000; font-weight: bold\">                                                   </span>\n",
       "<span style=\"color: #0000ff; text-decoration-color: #0000ff\">    ╠══ </span><span style=\"color: #000080; text-decoration-color: #000080; font-weight: bold\">TSH -&gt; </span><span style=\"color: #008000; text-decoration-color: #008000; font-weight: bold\">data type: </span><span style=\"color: #000080; text-decoration-color: #000080; font-weight: bold\">floating</span><span style=\"color: #008000; text-decoration-color: #008000; font-weight: bold\">                                                           </span>\n",
       "<span style=\"color: #0000ff; text-decoration-color: #0000ff\">    ╠══ </span><span style=\"color: #000080; text-decoration-color: #000080; font-weight: bold\">T3 measured -&gt; </span><span style=\"color: #008000; text-decoration-color: #008000; font-weight: bold\">data type: </span><span style=\"color: #000080; text-decoration-color: #000080; font-weight: bold\">integer</span><span style=\"color: #008000; text-decoration-color: #008000; font-weight: bold\">                                                    </span>\n",
       "<span style=\"color: #0000ff; text-decoration-color: #0000ff\">    ╠══ </span><span style=\"color: #000080; text-decoration-color: #000080; font-weight: bold\">T3 -&gt; </span><span style=\"color: #008000; text-decoration-color: #008000; font-weight: bold\">data type: </span><span style=\"color: #000080; text-decoration-color: #000080; font-weight: bold\">floating</span><span style=\"color: #008000; text-decoration-color: #008000; font-weight: bold\">                                                            </span>\n",
       "<span style=\"color: #0000ff; text-decoration-color: #0000ff\">    ╠══ </span><span style=\"color: #000080; text-decoration-color: #000080; font-weight: bold\">TT4 measured -&gt; </span><span style=\"color: #008000; text-decoration-color: #008000; font-weight: bold\">data type: </span><span style=\"color: #000080; text-decoration-color: #000080; font-weight: bold\">integer</span><span style=\"color: #008000; text-decoration-color: #008000; font-weight: bold\">                                                   </span>\n",
       "<span style=\"color: #0000ff; text-decoration-color: #0000ff\">    ╠══ </span><span style=\"color: #000080; text-decoration-color: #000080; font-weight: bold\">TT4 -&gt; </span><span style=\"color: #008000; text-decoration-color: #008000; font-weight: bold\">data type: </span><span style=\"color: #000080; text-decoration-color: #000080; font-weight: bold\">floating</span><span style=\"color: #008000; text-decoration-color: #008000; font-weight: bold\">                                                           </span>\n",
       "<span style=\"color: #0000ff; text-decoration-color: #0000ff\">    ╠══ </span><span style=\"color: #000080; text-decoration-color: #000080; font-weight: bold\">T4U measured -&gt; </span><span style=\"color: #008000; text-decoration-color: #008000; font-weight: bold\">data type: </span><span style=\"color: #000080; text-decoration-color: #000080; font-weight: bold\">integer</span><span style=\"color: #008000; text-decoration-color: #008000; font-weight: bold\">                                                   </span>\n",
       "<span style=\"color: #0000ff; text-decoration-color: #0000ff\">    ╠══ </span><span style=\"color: #000080; text-decoration-color: #000080; font-weight: bold\">T4U -&gt; </span><span style=\"color: #008000; text-decoration-color: #008000; font-weight: bold\">data type: </span><span style=\"color: #000080; text-decoration-color: #000080; font-weight: bold\">floating</span><span style=\"color: #008000; text-decoration-color: #008000; font-weight: bold\">                                                           </span>\n",
       "<span style=\"color: #0000ff; text-decoration-color: #0000ff\">    ╠══ </span><span style=\"color: #000080; text-decoration-color: #000080; font-weight: bold\">FTI measured -&gt; </span><span style=\"color: #008000; text-decoration-color: #008000; font-weight: bold\">data type: </span><span style=\"color: #000080; text-decoration-color: #000080; font-weight: bold\">integer</span><span style=\"color: #008000; text-decoration-color: #008000; font-weight: bold\">                                                   </span>\n",
       "<span style=\"color: #0000ff; text-decoration-color: #0000ff\">    ╠══ </span><span style=\"color: #000080; text-decoration-color: #000080; font-weight: bold\">FTI -&gt; </span><span style=\"color: #008000; text-decoration-color: #008000; font-weight: bold\">data type: </span><span style=\"color: #000080; text-decoration-color: #000080; font-weight: bold\">floating</span><span style=\"color: #008000; text-decoration-color: #008000; font-weight: bold\">                                                           </span>\n",
       "<span style=\"color: #0000ff; text-decoration-color: #0000ff\">    ╠══ </span><span style=\"color: #000080; text-decoration-color: #000080; font-weight: bold\">TBG measured -&gt; </span><span style=\"color: #008000; text-decoration-color: #008000; font-weight: bold\">data type: </span><span style=\"color: #000080; text-decoration-color: #000080; font-weight: bold\">integer</span><span style=\"color: #008000; text-decoration-color: #008000; font-weight: bold\">                                                   </span>\n",
       "<span style=\"color: #0000ff; text-decoration-color: #0000ff\">    ╠══ </span><span style=\"color: #000080; text-decoration-color: #000080; font-weight: bold\">referral source -&gt; </span><span style=\"color: #008000; text-decoration-color: #008000; font-weight: bold\">data type: </span><span style=\"color: #000080; text-decoration-color: #000080; font-weight: bold\">string</span><span style=\"color: #008000; text-decoration-color: #008000; font-weight: bold\">                                                 </span>\n",
       "<span style=\"color: #0000ff; text-decoration-color: #0000ff\">    ╚══ </span><span style=\"color: #000080; text-decoration-color: #000080; font-weight: bold\">class -&gt; </span><span style=\"color: #008000; text-decoration-color: #008000; font-weight: bold\">data type: </span><span style=\"color: #000080; text-decoration-color: #000080; font-weight: bold\">string</span><span style=\"color: #008000; text-decoration-color: #008000; font-weight: bold\">                                                           </span>\n",
       "</pre>\n"
      ],
      "text/plain": [
       "\u001b[1;32mVariable names for AnnData object with 972 obs and 29 vars\u001b[0m                                   \n",
       "\u001b[94m╚══ \u001b[0m\u001b[1;32m🔓 Unencoded variables\u001b[0m\u001b[1;32m                                                                   \u001b[0m\n",
       "\u001b[94m    \u001b[0m\u001b[94m╠══ \u001b[0m\u001b[1;34mage -> \u001b[0m\u001b[1;32mdata type: \u001b[0m\u001b[1;34minteger\u001b[0m\u001b[1;32m                                                            \u001b[0m\n",
       "\u001b[94m    \u001b[0m\u001b[94m╠══ \u001b[0m\u001b[1;34msex -> \u001b[0m\u001b[1;32mdata type: \u001b[0m\u001b[1;34mfloating\u001b[0m\u001b[1;32m                                                           \u001b[0m\n",
       "\u001b[94m    \u001b[0m\u001b[94m╠══ \u001b[0m\u001b[1;34mon thyroxine -> \u001b[0m\u001b[1;32mdata type: \u001b[0m\u001b[1;34minteger\u001b[0m\u001b[1;32m                                                   \u001b[0m\n",
       "\u001b[94m    \u001b[0m\u001b[94m╠══ \u001b[0m\u001b[1;34mquery on thyroxine -> \u001b[0m\u001b[1;32mdata type: \u001b[0m\u001b[1;34minteger\u001b[0m\u001b[1;32m                                             \u001b[0m\n",
       "\u001b[94m    \u001b[0m\u001b[94m╠══ \u001b[0m\u001b[1;34mon antithyroid medication -> \u001b[0m\u001b[1;32mdata type: \u001b[0m\u001b[1;34minteger\u001b[0m\u001b[1;32m                                      \u001b[0m\n",
       "\u001b[94m    \u001b[0m\u001b[94m╠══ \u001b[0m\u001b[1;34msick -> \u001b[0m\u001b[1;32mdata type: \u001b[0m\u001b[1;34minteger\u001b[0m\u001b[1;32m                                                           \u001b[0m\n",
       "\u001b[94m    \u001b[0m\u001b[94m╠══ \u001b[0m\u001b[1;34mpregnant -> \u001b[0m\u001b[1;32mdata type: \u001b[0m\u001b[1;34minteger\u001b[0m\u001b[1;32m                                                       \u001b[0m\n",
       "\u001b[94m    \u001b[0m\u001b[94m╠══ \u001b[0m\u001b[1;34mthyroid surgery -> \u001b[0m\u001b[1;32mdata type: \u001b[0m\u001b[1;34minteger\u001b[0m\u001b[1;32m                                                \u001b[0m\n",
       "\u001b[94m    \u001b[0m\u001b[94m╠══ \u001b[0m\u001b[1;34mI131 treatment -> \u001b[0m\u001b[1;32mdata type: \u001b[0m\u001b[1;34minteger\u001b[0m\u001b[1;32m                                                 \u001b[0m\n",
       "\u001b[94m    \u001b[0m\u001b[94m╠══ \u001b[0m\u001b[1;34mquery hypothyroid -> \u001b[0m\u001b[1;32mdata type: \u001b[0m\u001b[1;34minteger\u001b[0m\u001b[1;32m                                              \u001b[0m\n",
       "\u001b[94m    \u001b[0m\u001b[94m╠══ \u001b[0m\u001b[1;34mquery hyperthyroid -> \u001b[0m\u001b[1;32mdata type: \u001b[0m\u001b[1;34minteger\u001b[0m\u001b[1;32m                                             \u001b[0m\n",
       "\u001b[94m    \u001b[0m\u001b[94m╠══ \u001b[0m\u001b[1;34mlithium -> \u001b[0m\u001b[1;32mdata type: \u001b[0m\u001b[1;34minteger\u001b[0m\u001b[1;32m                                                        \u001b[0m\n",
       "\u001b[94m    \u001b[0m\u001b[94m╠══ \u001b[0m\u001b[1;34mgoitre -> \u001b[0m\u001b[1;32mdata type: \u001b[0m\u001b[1;34minteger\u001b[0m\u001b[1;32m                                                         \u001b[0m\n",
       "\u001b[94m    \u001b[0m\u001b[94m╠══ \u001b[0m\u001b[1;34mtumor -> \u001b[0m\u001b[1;32mdata type: \u001b[0m\u001b[1;34minteger\u001b[0m\u001b[1;32m                                                          \u001b[0m\n",
       "\u001b[94m    \u001b[0m\u001b[94m╠══ \u001b[0m\u001b[1;34mhypopituitary -> \u001b[0m\u001b[1;32mdata type: \u001b[0m\u001b[1;34minteger\u001b[0m\u001b[1;32m                                                  \u001b[0m\n",
       "\u001b[94m    \u001b[0m\u001b[94m╠══ \u001b[0m\u001b[1;34mpsych -> \u001b[0m\u001b[1;32mdata type: \u001b[0m\u001b[1;34minteger\u001b[0m\u001b[1;32m                                                          \u001b[0m\n",
       "\u001b[94m    \u001b[0m\u001b[94m╠══ \u001b[0m\u001b[1;34mTSH measured -> \u001b[0m\u001b[1;32mdata type: \u001b[0m\u001b[1;34minteger\u001b[0m\u001b[1;32m                                                   \u001b[0m\n",
       "\u001b[94m    \u001b[0m\u001b[94m╠══ \u001b[0m\u001b[1;34mTSH -> \u001b[0m\u001b[1;32mdata type: \u001b[0m\u001b[1;34mfloating\u001b[0m\u001b[1;32m                                                           \u001b[0m\n",
       "\u001b[94m    \u001b[0m\u001b[94m╠══ \u001b[0m\u001b[1;34mT3 measured -> \u001b[0m\u001b[1;32mdata type: \u001b[0m\u001b[1;34minteger\u001b[0m\u001b[1;32m                                                    \u001b[0m\n",
       "\u001b[94m    \u001b[0m\u001b[94m╠══ \u001b[0m\u001b[1;34mT3 -> \u001b[0m\u001b[1;32mdata type: \u001b[0m\u001b[1;34mfloating\u001b[0m\u001b[1;32m                                                            \u001b[0m\n",
       "\u001b[94m    \u001b[0m\u001b[94m╠══ \u001b[0m\u001b[1;34mTT4 measured -> \u001b[0m\u001b[1;32mdata type: \u001b[0m\u001b[1;34minteger\u001b[0m\u001b[1;32m                                                   \u001b[0m\n",
       "\u001b[94m    \u001b[0m\u001b[94m╠══ \u001b[0m\u001b[1;34mTT4 -> \u001b[0m\u001b[1;32mdata type: \u001b[0m\u001b[1;34mfloating\u001b[0m\u001b[1;32m                                                           \u001b[0m\n",
       "\u001b[94m    \u001b[0m\u001b[94m╠══ \u001b[0m\u001b[1;34mT4U measured -> \u001b[0m\u001b[1;32mdata type: \u001b[0m\u001b[1;34minteger\u001b[0m\u001b[1;32m                                                   \u001b[0m\n",
       "\u001b[94m    \u001b[0m\u001b[94m╠══ \u001b[0m\u001b[1;34mT4U -> \u001b[0m\u001b[1;32mdata type: \u001b[0m\u001b[1;34mfloating\u001b[0m\u001b[1;32m                                                           \u001b[0m\n",
       "\u001b[94m    \u001b[0m\u001b[94m╠══ \u001b[0m\u001b[1;34mFTI measured -> \u001b[0m\u001b[1;32mdata type: \u001b[0m\u001b[1;34minteger\u001b[0m\u001b[1;32m                                                   \u001b[0m\n",
       "\u001b[94m    \u001b[0m\u001b[94m╠══ \u001b[0m\u001b[1;34mFTI -> \u001b[0m\u001b[1;32mdata type: \u001b[0m\u001b[1;34mfloating\u001b[0m\u001b[1;32m                                                           \u001b[0m\n",
       "\u001b[94m    \u001b[0m\u001b[94m╠══ \u001b[0m\u001b[1;34mTBG measured -> \u001b[0m\u001b[1;32mdata type: \u001b[0m\u001b[1;34minteger\u001b[0m\u001b[1;32m                                                   \u001b[0m\n",
       "\u001b[94m    \u001b[0m\u001b[94m╠══ \u001b[0m\u001b[1;34mreferral source -> \u001b[0m\u001b[1;32mdata type: \u001b[0m\u001b[1;34mstring\u001b[0m\u001b[1;32m                                                 \u001b[0m\n",
       "\u001b[94m    \u001b[0m\u001b[94m╚══ \u001b[0m\u001b[1;34mclass -> \u001b[0m\u001b[1;32mdata type: \u001b[0m\u001b[1;34mstring\u001b[0m\u001b[1;32m                                                           \u001b[0m\n"
      ]
     },
     "metadata": {},
     "output_type": "display_data"
    }
   ],
   "source": [
    "ep.ad.type_overview(adata)"
   ]
  },
  {
   "cell_type": "code",
   "execution_count": 130,
   "id": "ecabf346",
   "metadata": {},
   "outputs": [
    {
     "data": {
      "application/vnd.jupyter.widget-view+json": {
       "model_id": "d7374be2dbe4420d989847656dedafa0",
       "version_major": 2,
       "version_minor": 0
      },
      "text/plain": [
       "Output()"
      ]
     },
     "metadata": {},
     "output_type": "display_data"
    },
    {
     "data": {
      "text/html": [
       "<pre style=\"white-space:pre;overflow-x:auto;line-height:normal;font-family:Menlo,'DejaVu Sans Mono',consolas,'Courier New',monospace\"></pre>\n"
      ],
      "text/plain": []
     },
     "metadata": {},
     "output_type": "display_data"
    },
    {
     "data": {
      "text/html": [
       "<pre style=\"white-space:pre;overflow-x:auto;line-height:normal;font-family:Menlo,'DejaVu Sans Mono',consolas,'Courier New',monospace\">\n",
       "</pre>\n"
      ],
      "text/plain": [
       "\n"
      ]
     },
     "metadata": {},
     "output_type": "display_data"
    }
   ],
   "source": [
    "adata = ep.pp.encode(\n",
    "    adata, encodings={\"one_hot_encoding\": [\"referral source\", \"class\"]}\n",
    ")"
   ]
  },
  {
   "cell_type": "code",
   "execution_count": 131,
   "id": "0ad42732",
   "metadata": {},
   "outputs": [
    {
     "data": {
      "text/html": [
       "<pre style=\"white-space:pre;overflow-x:auto;line-height:normal;font-family:Menlo,'DejaVu Sans Mono',consolas,'Courier New',monospace\"><span style=\"color: #808000; text-decoration-color: #808000; font-weight: bold\">Quality control metrics missing. Calculating...</span>\n",
       "</pre>\n"
      ],
      "text/plain": [
       "\u001b[1;33mQuality control metrics missing. Calculating\u001b[0m\u001b[1;33m...\u001b[0m\n"
      ]
     },
     "metadata": {},
     "output_type": "display_data"
    },
    {
     "data": {
      "application/vnd.jupyter.widget-view+json": {
       "model_id": "7f692365223541e8a364fc66e2bdadaa",
       "version_major": 2,
       "version_minor": 0
      },
      "text/plain": [
       "Output()"
      ]
     },
     "metadata": {},
     "output_type": "display_data"
    },
    {
     "name": "stderr",
     "output_type": "stream",
     "text": [
      "Intel(R) Extension for Scikit-learn* enabled (https://github.com/intel/scikit-learn-intelex)\n"
     ]
    },
    {
     "data": {
      "text/html": [
       "<pre style=\"white-space:pre;overflow-x:auto;line-height:normal;font-family:Menlo,'DejaVu Sans Mono',consolas,'Courier New',monospace\"></pre>\n"
      ],
      "text/plain": []
     },
     "metadata": {},
     "output_type": "display_data"
    },
    {
     "data": {
      "text/html": [
       "<pre style=\"white-space:pre;overflow-x:auto;line-height:normal;font-family:Menlo,'DejaVu Sans Mono',consolas,'Courier New',monospace\">\n",
       "</pre>\n"
      ],
      "text/plain": [
       "\n"
      ]
     },
     "metadata": {},
     "output_type": "display_data"
    },
    {
     "name": "stderr",
     "output_type": "stream",
     "text": [
      "... storing 'referral source' as categorical\n",
      "... storing 'class' as categorical\n"
     ]
    },
    {
     "data": {
      "image/png": "[encoded data removed]",
      "text/plain": [
       "<Figure size 432x288 with 1 Axes>"
      ]
     },
     "metadata": {},
     "output_type": "display_data"
    }
   ],
   "source": [
    "ep.pp.knn_impute(adata)\n",
    "ep.pp.norm_scale(adata)\n",
    "ep.pp.pca(adata)\n",
    "ep.pp.neighbors(adata)\n",
    "ep.tl.umap(adata)\n",
    "ep.tl.leiden(adata, resolution=0.5, key_added=\"leiden_0_5\")\n",
    "ep.pl.umap(adata, color=[\"leiden_0_5\"], title=\"Leiden 0.5\")"
   ]
  },
  {
   "cell_type": "code",
   "execution_count": 132,
   "id": "1607ef47",
   "metadata": {},
   "outputs": [
    {
     "data": {
      "image/png": "[encoded data removed]",
      "text/plain": [
       "<Figure size 756x576 with 3 Axes>"
      ]
     },
     "metadata": {
      "needs_background": "light"
     },
     "output_type": "display_data"
    }
   ],
   "source": [
    "ep.pl.umap(adata, color=[\"age\", \"class\"], ncols=1, wspace=0.75)"
   ]
  }
 ],
 "metadata": {
  "kernelspec": {
   "display_name": "Python 3 (ipykernel)",
   "language": "python",
   "name": "python3"
  },
  "language_info": {
   "codemirror_mode": {
    "name": "ipython",
    "version": 3
   },
   "file_extension": ".py",
   "mimetype": "text/x-python",
   "name": "python",
   "nbconvert_exporter": "python",
   "pygments_lexer": "ipython3",
   "version": "3.8.12"
  }
 },
 "nbformat": 4,
 "nbformat_minor": 5
}

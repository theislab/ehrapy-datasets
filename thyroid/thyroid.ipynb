{
 "cells": [
  {
   "cell_type": "markdown",
   "id": "1c3331be-14a6-4256-ad8e-881180e75811",
   "metadata": {},
   "source": [
    "# Thyroid "
   ]
  },
  {
   "cell_type": "code",
   "execution_count": 1,
   "id": "19153049-83bc-4f3f-b639-3b9f87f57837",
   "metadata": {},
   "outputs": [
    {
     "data": {
      "text/html": [
       "<pre style=\"white-space:pre;overflow-x:auto;line-height:normal;font-family:Menlo,'DejaVu Sans Mono',consolas,'Courier New',monospace\"><span style=\"color: #808000; text-decoration-color: #808000; font-weight: bold\">Installed version </span><span style=\"color: #808000; text-decoration-color: #808000; font-weight: bold\">0.2</span><span style=\"color: #808000; text-decoration-color: #808000; font-weight: bold\">.</span><span style=\"color: #808000; text-decoration-color: #808000; font-weight: bold\">0</span><span style=\"color: #808000; text-decoration-color: #808000; font-weight: bold\"> of ehrapy is newer than the latest release </span><span style=\"color: #808000; text-decoration-color: #808000; font-weight: bold\">0.1</span><span style=\"color: #808000; text-decoration-color: #808000; font-weight: bold\">.</span><span style=\"color: #808000; text-decoration-color: #808000; font-weight: bold\">0</span><span style=\"color: #808000; text-decoration-color: #808000; font-weight: bold\">! You are running a </span>\n",
       "<span style=\"color: #808000; text-decoration-color: #808000; font-weight: bold\">nightly version and features may break!</span>\n",
       "</pre>\n"
      ],
      "text/plain": [
       "\u001b[1;33mInstalled version \u001b[0m\u001b[1;33m0.2\u001b[0m\u001b[1;33m.\u001b[0m\u001b[1;33m0\u001b[0m\u001b[1;33m of ehrapy is newer than the latest release \u001b[0m\u001b[1;33m0.1\u001b[0m\u001b[1;33m.\u001b[0m\u001b[1;33m0\u001b[0m\u001b[1;33m! You are running a \u001b[0m\n",
       "\u001b[1;33mnightly version and features may break!\u001b[0m\n"
      ]
     },
     "metadata": {},
     "output_type": "display_data"
    }
   ],
   "source": [
    "import pandas as pd\n",
    "import ehrapy as ep\n",
    "import numpy as np\n",
    "import warnings\n",
    "warnings.filterwarnings(\"ignore\")"
   ]
  },
  {
   "cell_type": "code",
   "execution_count": 2,
   "id": "60846991-500b-4b3b-a19f-f4095d299fab",
   "metadata": {},
   "outputs": [],
   "source": [
    "pd.set_option(\"display.max_columns\", None)"
   ]
  },
  {
   "cell_type": "markdown",
   "id": "8615a2d6-a110-4099-9dce-c39b1896d63b",
   "metadata": {},
   "source": [
    "## Getting the dataset"
   ]
  },
  {
   "cell_type": "code",
   "execution_count": 3,
   "id": "5e6a35d9",
   "metadata": {},
   "outputs": [
    {
     "name": "stdout",
     "output_type": "stream",
     "text": [
      "File ‘archive.ics.uci.edu/ml/machine-learning-databases/thyroid-disease/index.html’ already there; not retrieving.\n",
      "\n",
      "Loading robots.txt; please ignore errors.\n",
      "--2022-02-18 12:23:38--  http://archive.ics.uci.edu/robots.txt\n",
      "Resolving archive.ics.uci.edu (archive.ics.uci.edu)... 128.195.10.252\n",
      "Connecting to archive.ics.uci.edu (archive.ics.uci.edu)|128.195.10.252|:80... connected.\n",
      "HTTP request sent, awaiting response... 404 Not Found\n",
      "2022-02-18 12:23:38 ERROR 404: Not Found.\n",
      "\n",
      "File ‘archive.ics.uci.edu/ml/machine-learning-databases/thyroid-disease/HELLO’ already there; not retrieving.\n",
      "\n",
      "File ‘archive.ics.uci.edu/ml/machine-learning-databases/thyroid-disease/Index’ already there; not retrieving.\n",
      "\n",
      "File ‘archive.ics.uci.edu/ml/machine-learning-databases/thyroid-disease/allbp.data’ already there; not retrieving.\n",
      "\n",
      "File ‘archive.ics.uci.edu/ml/machine-learning-databases/thyroid-disease/allbp.names’ already there; not retrieving.\n",
      "\n",
      "File ‘archive.ics.uci.edu/ml/machine-learning-databases/thyroid-disease/allbp.test’ already there; not retrieving.\n",
      "\n",
      "File ‘archive.ics.uci.edu/ml/machine-learning-databases/thyroid-disease/allhyper.data’ already there; not retrieving.\n",
      "\n",
      "File ‘archive.ics.uci.edu/ml/machine-learning-databases/thyroid-disease/allhyper.names’ already there; not retrieving.\n",
      "\n",
      "File ‘archive.ics.uci.edu/ml/machine-learning-databases/thyroid-disease/allhyper.test’ already there; not retrieving.\n",
      "\n",
      "File ‘archive.ics.uci.edu/ml/machine-learning-databases/thyroid-disease/allhypo.data’ already there; not retrieving.\n",
      "\n",
      "File ‘archive.ics.uci.edu/ml/machine-learning-databases/thyroid-disease/allhypo.names’ already there; not retrieving.\n",
      "\n",
      "File ‘archive.ics.uci.edu/ml/machine-learning-databases/thyroid-disease/allhypo.test’ already there; not retrieving.\n",
      "\n",
      "File ‘archive.ics.uci.edu/ml/machine-learning-databases/thyroid-disease/allrep.data’ already there; not retrieving.\n",
      "\n",
      "File ‘archive.ics.uci.edu/ml/machine-learning-databases/thyroid-disease/allrep.names’ already there; not retrieving.\n",
      "\n",
      "File ‘archive.ics.uci.edu/ml/machine-learning-databases/thyroid-disease/allrep.test’ already there; not retrieving.\n",
      "\n",
      "File ‘archive.ics.uci.edu/ml/machine-learning-databases/thyroid-disease/ann-Readme’ already there; not retrieving.\n",
      "\n",
      "File ‘archive.ics.uci.edu/ml/machine-learning-databases/thyroid-disease/ann-test.data’ already there; not retrieving.\n",
      "\n",
      "File ‘archive.ics.uci.edu/ml/machine-learning-databases/thyroid-disease/ann-thyroid.names’ already there; not retrieving.\n",
      "\n",
      "File ‘archive.ics.uci.edu/ml/machine-learning-databases/thyroid-disease/ann-train.data’ already there; not retrieving.\n",
      "\n",
      "File ‘archive.ics.uci.edu/ml/machine-learning-databases/thyroid-disease/costs/index.html’ already there; not retrieving.\n",
      "\n",
      "File ‘archive.ics.uci.edu/ml/machine-learning-databases/thyroid-disease/dis.data’ already there; not retrieving.\n",
      "\n",
      "File ‘archive.ics.uci.edu/ml/machine-learning-databases/thyroid-disease/dis.names’ already there; not retrieving.\n",
      "\n",
      "File ‘archive.ics.uci.edu/ml/machine-learning-databases/thyroid-disease/dis.test’ already there; not retrieving.\n",
      "\n",
      "File ‘archive.ics.uci.edu/ml/machine-learning-databases/thyroid-disease/hypothyroid.data’ already there; not retrieving.\n",
      "\n",
      "File ‘archive.ics.uci.edu/ml/machine-learning-databases/thyroid-disease/hypothyroid.names’ already there; not retrieving.\n",
      "\n",
      "File ‘archive.ics.uci.edu/ml/machine-learning-databases/thyroid-disease/new-thyroid.data’ already there; not retrieving.\n",
      "\n",
      "File ‘archive.ics.uci.edu/ml/machine-learning-databases/thyroid-disease/new-thyroid.names’ already there; not retrieving.\n",
      "\n",
      "File ‘archive.ics.uci.edu/ml/machine-learning-databases/thyroid-disease/sick-euthyroid.data’ already there; not retrieving.\n",
      "\n",
      "File ‘archive.ics.uci.edu/ml/machine-learning-databases/thyroid-disease/sick-euthyroid.names’ already there; not retrieving.\n",
      "\n",
      "File ‘archive.ics.uci.edu/ml/machine-learning-databases/thyroid-disease/sick.data’ already there; not retrieving.\n",
      "\n",
      "File ‘archive.ics.uci.edu/ml/machine-learning-databases/thyroid-disease/sick.names’ already there; not retrieving.\n",
      "\n",
      "File ‘archive.ics.uci.edu/ml/machine-learning-databases/thyroid-disease/sick.test’ already there; not retrieving.\n",
      "\n",
      "File ‘archive.ics.uci.edu/ml/machine-learning-databases/thyroid-disease/thyroid.theory’ already there; not retrieving.\n",
      "\n",
      "File ‘archive.ics.uci.edu/ml/machine-learning-databases/thyroid-disease/thyroid0387.data’ already there; not retrieving.\n",
      "\n",
      "File ‘archive.ics.uci.edu/ml/machine-learning-databases/thyroid-disease/thyroid0387.names’ already there; not retrieving.\n",
      "\n",
      "File ‘archive.ics.uci.edu/ml/machine-learning-databases/thyroid-disease/costs/Index’ already there; not retrieving.\n",
      "\n",
      "File ‘archive.ics.uci.edu/ml/machine-learning-databases/thyroid-disease/costs/ann-thyroid.README’ already there; not retrieving.\n",
      "\n",
      "File ‘archive.ics.uci.edu/ml/machine-learning-databases/thyroid-disease/costs/ann-thyroid.cost’ already there; not retrieving.\n",
      "\n",
      "File ‘archive.ics.uci.edu/ml/machine-learning-databases/thyroid-disease/costs/ann-thyroid.delay’ already there; not retrieving.\n",
      "\n",
      "File ‘archive.ics.uci.edu/ml/machine-learning-databases/thyroid-disease/costs/ann-thyroid.expense’ already there; not retrieving.\n",
      "\n",
      "File ‘archive.ics.uci.edu/ml/machine-learning-databases/thyroid-disease/costs/ann-thyroid.group’ already there; not retrieving.\n",
      "\n"
     ]
    }
   ],
   "source": [
    "!wget -nc -r --no-parent -l3 http://archive.ics.uci.edu/ml/machine-learning-databases/thyroid-disease/"
   ]
  },
  {
   "cell_type": "markdown",
   "id": "38ec1aca-d66a-40d0-a394-d842e4647a9b",
   "metadata": {},
   "source": [
    "# Data Wrangling"
   ]
  },
  {
   "cell_type": "markdown",
   "id": "4c0776f7",
   "metadata": {},
   "source": [
    "Define a helper function to find the start index in names file"
   ]
  },
  {
   "cell_type": "code",
   "execution_count": 4,
   "id": "1e233c06",
   "metadata": {},
   "outputs": [],
   "source": [
    "def find_start_index(txt_lines, start_string):\n",
    "    for i, elem in enumerate(txt_lines):\n",
    "        if start_string in elem:\n",
    "            return i\n"
   ]
  },
  {
   "cell_type": "markdown",
   "id": "d47063de",
   "metadata": {},
   "source": [
    "Define a helper function to get the attribute names in names file"
   ]
  },
  {
   "cell_type": "code",
   "execution_count": 5,
   "id": "b3acd109",
   "metadata": {},
   "outputs": [],
   "source": [
    "def find_attribute_names(txt_lines, start_index):\n",
    "    attribute_names = []\n",
    "    for line in txt_lines[start_index:]:\n",
    "        line = line.split(':')\n",
    "        attribute_names.append(line[0])\n",
    "    return attribute_names\n"
   ]
  },
  {
   "cell_type": "markdown",
   "id": "bab79324",
   "metadata": {},
   "source": [
    "## Thyroid-allbp dataset"
   ]
  },
  {
   "cell_type": "markdown",
   "id": "dfaa3824",
   "metadata": {},
   "source": [
    "### Train set"
   ]
  },
  {
   "cell_type": "code",
   "execution_count": 6,
   "id": "ba77bef7",
   "metadata": {},
   "outputs": [],
   "source": [
    "with open(\"/Users/xinyuezhang/ehrapy-datasets/thyroid/archive.ics.uci.edu/ml/machine-learning-databases/thyroid-disease/allbp.names\") as f:\n",
    "    contents = f.readlines()"
   ]
  },
  {
   "cell_type": "code",
   "execution_count": 7,
   "id": "e41ed4df",
   "metadata": {},
   "outputs": [
    {
     "name": "stdout",
     "output_type": "stream",
     "text": [
      "Attribute names are: ['age', 'sex', 'on thyroxine', 'query on thyroxine', 'on antithyroid medication', 'sick', 'pregnant', 'thyroid surgery', 'I131 treatment', 'query hypothyroid', 'query hyperthyroid', 'lithium', 'goitre', 'tumor', 'hypopituitary', 'psych', 'TSH measured', 'TSH', 'T3 measured', 'T3', 'TT4 measured', 'TT4', 'T4U measured', 'T4U', 'FTI measured', 'FTI', 'TBG measured', 'TBG', 'referral source']\n"
     ]
    }
   ],
   "source": [
    "start_index = find_start_index(contents, 'age:')\n",
    "names = find_attribute_names(contents, start_index)\n",
    "print(f\"Attribute names are: \" + str(names))"
   ]
  },
  {
   "cell_type": "code",
   "execution_count": 8,
   "id": "aae62684",
   "metadata": {},
   "outputs": [],
   "source": [
    "names.append('class')"
   ]
  },
  {
   "cell_type": "code",
   "execution_count": 9,
   "id": "b8e6fea3",
   "metadata": {},
   "outputs": [],
   "source": [
    "data_allbp = pd.read_csv(\"/Users/xinyuezhang/ehrapy-datasets/thyroid/archive.ics.uci.edu/ml/machine-learning-databases/thyroid-disease/allbp.data\",\n",
    "                   names=names, delimiter=r',')\n",
    "data_allbp[[\"class\",\"id\"]] = data_allbp[\"class\"].apply(lambda x: pd.Series(str(x).split(\".|\")))"
   ]
  },
  {
   "cell_type": "markdown",
   "id": "7a66ce93",
   "metadata": {},
   "source": [
    "Drop the attribute \"id\" (patient id number) from the original dataset. \\\n",
    "Drop the attribute \"TBG\" because all the data in this column are missing."
   ]
  },
  {
   "cell_type": "code",
   "execution_count": 10,
   "id": "5a1c09e8",
   "metadata": {},
   "outputs": [],
   "source": [
    "data_allbp.drop([\"id\"], axis=1, inplace=True)\n",
    "data_allbp.drop([\"TBG\"], axis=1, inplace=True)\n",
    "names.remove(\"TBG\")"
   ]
  },
  {
   "cell_type": "markdown",
   "id": "0d05eff2-9aad-4633-ad84-e1ef70ba809c",
   "metadata": {},
   "source": [
    "Add a patient ID."
   ]
  },
  {
   "cell_type": "code",
   "execution_count": 11,
   "id": "de800f0b-7600-42ba-9764-983931ee9e79",
   "metadata": {},
   "outputs": [],
   "source": [
    "data_allbp[\"patient_id\"] = range(1, len(data_allbp) + 1)"
   ]
  },
  {
   "cell_type": "code",
   "execution_count": 12,
   "id": "214477c5",
   "metadata": {},
   "outputs": [],
   "source": [
    "continuous_attributes = ['age', 'TSH', 'T3', 'TT4', 'T4U', 'FTI']\n",
    "categorical_attributes = [name for name in names if not name in continuous_attributes]\n",
    "assert len(categorical_attributes) + len(continuous_attributes) == len(names)"
   ]
  },
  {
   "cell_type": "markdown",
   "id": "3adc0196",
   "metadata": {},
   "source": [
    "Replace \"?\" with NaN.\\\n",
    "Replace the original encoding ('f', 't') to (0, 1). \\\n",
    "Replace the original encoding ('F', 'M') to (0, 1). \\\n",
    "Replace \"?\"(missing value) with NaN and convert from object type to numeric type."
   ]
  },
  {
   "cell_type": "code",
   "execution_count": 13,
   "id": "dc4ede66",
   "metadata": {},
   "outputs": [],
   "source": [
    "\n",
    "for att in continuous_attributes:\n",
    "    data_allbp[att].replace('?', np.NaN, inplace=True)\n",
    "    data_allbp[att] = pd.to_numeric(data_allbp[att])\n",
    "\n",
    "for att in categorical_attributes:\n",
    "    if att == 'referral source':\n",
    "        break\n",
    "    else:\n",
    "        data_allbp[att].replace('?', np.NaN, inplace=True)\n",
    "        data_allbp[att].replace(('F', 'M'), (0, 1), inplace=True)\n",
    "        data_allbp[att].replace(('f', 't'), (0, 1), inplace=True)\n",
    "        data_allbp[att] = pd.to_numeric(data_allbp[att])"
   ]
  },
  {
   "cell_type": "code",
   "execution_count": 14,
   "id": "d66f2523-4b35-4418-8f82-6685a8a89ccb",
   "metadata": {},
   "outputs": [],
   "source": [
    "data_allbp.set_index(\"patient_id\", inplace=True)"
   ]
  },
  {
   "cell_type": "code",
   "execution_count": 15,
   "id": "d81743a3-5293-478c-ace1-432541797272",
   "metadata": {},
   "outputs": [],
   "source": [
    "data_allbp.to_csv(\"thyroid_allbp_train_prepared.csv\")"
   ]
  },
  {
   "cell_type": "markdown",
   "id": "dfaa3824",
   "metadata": {},
   "source": [
    "### Test set"
   ]
  },
  {
   "cell_type": "code",
   "execution_count": 16,
   "id": "ba77bef7",
   "metadata": {},
   "outputs": [],
   "source": [
    "with open(\"/Users/xinyuezhang/ehrapy-datasets/thyroid/archive.ics.uci.edu/ml/machine-learning-databases/thyroid-disease/allbp.names\") as f:\n",
    "    contents = f.readlines()"
   ]
  },
  {
   "cell_type": "code",
   "execution_count": 17,
   "id": "e41ed4df",
   "metadata": {},
   "outputs": [
    {
     "name": "stdout",
     "output_type": "stream",
     "text": [
      "Attribute names are: ['age', 'sex', 'on thyroxine', 'query on thyroxine', 'on antithyroid medication', 'sick', 'pregnant', 'thyroid surgery', 'I131 treatment', 'query hypothyroid', 'query hyperthyroid', 'lithium', 'goitre', 'tumor', 'hypopituitary', 'psych', 'TSH measured', 'TSH', 'T3 measured', 'T3', 'TT4 measured', 'TT4', 'T4U measured', 'T4U', 'FTI measured', 'FTI', 'TBG measured', 'TBG', 'referral source']\n"
     ]
    }
   ],
   "source": [
    "start_index = find_start_index(contents, 'age:')\n",
    "names = find_attribute_names(contents, start_index)\n",
    "print(f\"Attribute names are: \" + str(names))"
   ]
  },
  {
   "cell_type": "code",
   "execution_count": 18,
   "id": "aae62684",
   "metadata": {},
   "outputs": [],
   "source": [
    "names.append('class')"
   ]
  },
  {
   "cell_type": "code",
   "execution_count": 19,
   "id": "b8e6fea3",
   "metadata": {},
   "outputs": [],
   "source": [
    "data_allbp = pd.read_csv(\"/Users/xinyuezhang/ehrapy-datasets/thyroid/archive.ics.uci.edu/ml/machine-learning-databases/thyroid-disease/allbp.test\",\n",
    "                   names=names, delimiter=r',')\n",
    "data_allbp[[\"class\",\"id\"]] = data_allbp[\"class\"].apply(lambda x: pd.Series(str(x).split(\".|\")))"
   ]
  },
  {
   "cell_type": "markdown",
   "id": "7a66ce93",
   "metadata": {},
   "source": [
    "Drop the attribute \"id\" (patient id number) from the original dataset. \\\n",
    "Drop the attribute \"TBG\" because all the data in this column are missing."
   ]
  },
  {
   "cell_type": "code",
   "execution_count": 20,
   "id": "5a1c09e8",
   "metadata": {},
   "outputs": [],
   "source": [
    "data_allbp.drop([\"id\"], axis=1, inplace=True)\n",
    "data_allbp.drop([\"TBG\"], axis=1, inplace=True)\n",
    "names.remove(\"TBG\")"
   ]
  },
  {
   "cell_type": "markdown",
   "id": "0d05eff2-9aad-4633-ad84-e1ef70ba809c",
   "metadata": {},
   "source": [
    "Add a patient ID."
   ]
  },
  {
   "cell_type": "code",
   "execution_count": 21,
   "id": "de800f0b-7600-42ba-9764-983931ee9e79",
   "metadata": {},
   "outputs": [],
   "source": [
    "data_allbp[\"patient_id\"] = range(1, len(data_allbp) + 1)"
   ]
  },
  {
   "cell_type": "code",
   "execution_count": 22,
   "id": "214477c5",
   "metadata": {},
   "outputs": [],
   "source": [
    "continuous_attributes = ['age', 'TSH', 'T3', 'TT4', 'T4U', 'FTI']\n",
    "categorical_attributes = [name for name in names if not name in continuous_attributes]\n",
    "assert len(categorical_attributes) + len(continuous_attributes) == len(names)"
   ]
  },
  {
   "cell_type": "markdown",
   "id": "3adc0196",
   "metadata": {},
   "source": [
    "Replace \"?\" with NaN.\\\n",
    "Replace the original encoding ('f', 't') to (0, 1). \\\n",
    "Replace the original encoding ('F', 'M') to (0, 1). \\\n",
    "Replace \"?\"(missing value) with NaN and convert from object type to numeric type."
   ]
  },
  {
   "cell_type": "code",
   "execution_count": 23,
   "id": "dc4ede66",
   "metadata": {},
   "outputs": [],
   "source": [
    "\n",
    "for att in continuous_attributes:\n",
    "    data_allbp[att].replace('?', np.NaN, inplace=True)\n",
    "    data_allbp[att] = pd.to_numeric(data_allbp[att])\n",
    "\n",
    "for att in categorical_attributes:\n",
    "    if att == 'referral source':\n",
    "        break\n",
    "    else:\n",
    "        data_allbp[att].replace('?', np.NaN, inplace=True)\n",
    "        data_allbp[att].replace(('F', 'M'), (0, 1), inplace=True)\n",
    "        data_allbp[att].replace(('f', 't'), (0, 1), inplace=True)\n",
    "        data_allbp[att] = pd.to_numeric(data_allbp[att])"
   ]
  },
  {
   "cell_type": "code",
   "execution_count": 24,
   "id": "d66f2523-4b35-4418-8f82-6685a8a89ccb",
   "metadata": {},
   "outputs": [],
   "source": [
    "data_allbp.set_index(\"patient_id\", inplace=True)"
   ]
  },
  {
   "cell_type": "code",
   "execution_count": 25,
   "id": "d81743a3-5293-478c-ace1-432541797272",
   "metadata": {},
   "outputs": [],
   "source": [
    "data_allbp.to_csv(\"thyroid_allbp_test_prepared.csv\")"
   ]
  },
  {
   "cell_type": "markdown",
   "id": "bab79324",
   "metadata": {},
   "source": [
    "## Thyroid-allhyper dataset"
   ]
  },
  {
   "cell_type": "markdown",
   "id": "dfaa3824",
   "metadata": {},
   "source": [
    "### Train set"
   ]
  },
  {
   "cell_type": "code",
   "execution_count": 26,
   "id": "ba77bef7",
   "metadata": {},
   "outputs": [],
   "source": [
    "with open(\"/Users/xinyuezhang/ehrapy-datasets/thyroid/archive.ics.uci.edu/ml/machine-learning-databases/thyroid-disease/allhyper.names\") as f:\n",
    "    contents = f.readlines()"
   ]
  },
  {
   "cell_type": "code",
   "execution_count": 27,
   "id": "e41ed4df",
   "metadata": {},
   "outputs": [
    {
     "name": "stdout",
     "output_type": "stream",
     "text": [
      "Attribute names are: ['age', 'sex', 'on thyroxine', 'query on thyroxine', 'on antithyroid medication', 'sick', 'pregnant', 'thyroid surgery', 'I131 treatment', 'query hypothyroid', 'query hyperthyroid', 'lithium', 'goitre', 'tumor', 'hypopituitary', 'psych', 'TSH measured', 'TSH', 'T3 measured', 'T3', 'TT4 measured', 'TT4', 'T4U measured', 'T4U', 'FTI measured', 'FTI', 'TBG measured', 'TBG', 'referral source']\n"
     ]
    }
   ],
   "source": [
    "start_index = find_start_index(contents, 'age:')\n",
    "names = find_attribute_names(contents, start_index)\n",
    "print(f\"Attribute names are: \" + str(names))"
   ]
  },
  {
   "cell_type": "code",
   "execution_count": 28,
   "id": "aae62684",
   "metadata": {},
   "outputs": [],
   "source": [
    "names.append('class')"
   ]
  },
  {
   "cell_type": "code",
   "execution_count": 29,
   "id": "b8e6fea3",
   "metadata": {},
   "outputs": [],
   "source": [
    "data_allhyper = pd.read_csv(\"/Users/xinyuezhang/ehrapy-datasets/thyroid/archive.ics.uci.edu/ml/machine-learning-databases/thyroid-disease/allhyper.data\",\n",
    "                   names=names, delimiter=r',')\n",
    "data_allhyper[[\"class\",\"id\"]] = data_allhyper[\"class\"].apply(lambda x: pd.Series(str(x).split(\".|\")))"
   ]
  },
  {
   "cell_type": "markdown",
   "id": "7a66ce93",
   "metadata": {},
   "source": [
    "Drop the attribute \"id\" (patient id number) from the original dataset. \\\n",
    "Drop the attribute \"TBG\" because all the data in this column are missing."
   ]
  },
  {
   "cell_type": "code",
   "execution_count": 30,
   "id": "5a1c09e8",
   "metadata": {},
   "outputs": [],
   "source": [
    "data_allhyper.drop([\"id\"], axis=1, inplace=True)\n",
    "data_allhyper.drop([\"TBG\"], axis=1, inplace=True)\n",
    "names.remove(\"TBG\")"
   ]
  },
  {
   "cell_type": "markdown",
   "id": "0d05eff2-9aad-4633-ad84-e1ef70ba809c",
   "metadata": {},
   "source": [
    "Add a patient ID."
   ]
  },
  {
   "cell_type": "code",
   "execution_count": 31,
   "id": "de800f0b-7600-42ba-9764-983931ee9e79",
   "metadata": {},
   "outputs": [],
   "source": [
    "data_allhyper[\"patient_id\"] = range(1, len(data_allhyper) + 1)"
   ]
  },
  {
   "cell_type": "code",
   "execution_count": 32,
   "id": "214477c5",
   "metadata": {},
   "outputs": [],
   "source": [
    "continuous_attributes = ['age', 'TSH', 'T3', 'TT4', 'T4U', 'FTI']\n",
    "categorical_attributes = [name for name in names if not name in continuous_attributes]\n",
    "assert len(categorical_attributes) + len(continuous_attributes) == len(names)"
   ]
  },
  {
   "cell_type": "markdown",
   "id": "3adc0196",
   "metadata": {},
   "source": [
    "Replace \"?\" with NaN.\\\n",
    "Replace the original encoding ('f', 't') to (0, 1). \\\n",
    "Replace the original encoding ('F', 'M') to (0, 1). \\\n",
    "Replace \"?\"(missing value) with NaN and convert from object type to numeric type."
   ]
  },
  {
   "cell_type": "code",
   "execution_count": 33,
   "id": "dc4ede66",
   "metadata": {},
   "outputs": [],
   "source": [
    "\n",
    "for att in continuous_attributes:\n",
    "    data_allhyper[att].replace('?', np.NaN, inplace=True)\n",
    "    data_allhyper[att] = pd.to_numeric(data_allhyper[att])\n",
    "\n",
    "for att in categorical_attributes:\n",
    "    if att == 'referral source':\n",
    "        break\n",
    "    else:\n",
    "        data_allhyper[att].replace('?', np.NaN, inplace=True)\n",
    "        data_allhyper[att].replace(('F', 'M'), (0, 1), inplace=True)\n",
    "        data_allhyper[att].replace(('f', 't'), (0, 1), inplace=True)\n",
    "        data_allhyper[att] = pd.to_numeric(data_allhyper[att])"
   ]
  },
  {
   "cell_type": "code",
   "execution_count": 34,
   "id": "d66f2523-4b35-4418-8f82-6685a8a89ccb",
   "metadata": {},
   "outputs": [],
   "source": [
    "data_allhyper.set_index(\"patient_id\", inplace=True)"
   ]
  },
  {
   "cell_type": "code",
   "execution_count": 35,
   "id": "d81743a3-5293-478c-ace1-432541797272",
   "metadata": {},
   "outputs": [],
   "source": [
    "data_allbp.to_csv(\"thyroid_allhyper_train_prepared.csv\")"
   ]
  },
  {
   "cell_type": "markdown",
   "id": "dfaa3824",
   "metadata": {},
   "source": [
    "### Test set"
   ]
  },
  {
   "cell_type": "code",
   "execution_count": 36,
   "id": "ba77bef7",
   "metadata": {},
   "outputs": [],
   "source": [
    "with open(\"/Users/xinyuezhang/ehrapy-datasets/thyroid/archive.ics.uci.edu/ml/machine-learning-databases/thyroid-disease/allhyper.names\") as f:\n",
    "    contents = f.readlines()"
   ]
  },
  {
   "cell_type": "code",
   "execution_count": 37,
   "id": "e41ed4df",
   "metadata": {},
   "outputs": [
    {
     "name": "stdout",
     "output_type": "stream",
     "text": [
      "Attribute names are: ['age', 'sex', 'on thyroxine', 'query on thyroxine', 'on antithyroid medication', 'sick', 'pregnant', 'thyroid surgery', 'I131 treatment', 'query hypothyroid', 'query hyperthyroid', 'lithium', 'goitre', 'tumor', 'hypopituitary', 'psych', 'TSH measured', 'TSH', 'T3 measured', 'T3', 'TT4 measured', 'TT4', 'T4U measured', 'T4U', 'FTI measured', 'FTI', 'TBG measured', 'TBG', 'referral source']\n"
     ]
    }
   ],
   "source": [
    "start_index = find_start_index(contents, 'age:')\n",
    "names = find_attribute_names(contents, start_index)\n",
    "print(f\"Attribute names are: \" + str(names))"
   ]
  },
  {
   "cell_type": "code",
   "execution_count": 38,
   "id": "aae62684",
   "metadata": {},
   "outputs": [],
   "source": [
    "names.append('class')"
   ]
  },
  {
   "cell_type": "code",
   "execution_count": 39,
   "id": "b8e6fea3",
   "metadata": {},
   "outputs": [],
   "source": [
    "data_allhyper = pd.read_csv(\"/Users/xinyuezhang/ehrapy-datasets/thyroid/archive.ics.uci.edu/ml/machine-learning-databases/thyroid-disease/allhyper.test\",\n",
    "                   names=names, delimiter=r',')\n",
    "data_allhyper[[\"class\",\"id\"]] = data_allhyper[\"class\"].apply(lambda x: pd.Series(str(x).split(\".|\")))"
   ]
  },
  {
   "cell_type": "markdown",
   "id": "7a66ce93",
   "metadata": {},
   "source": [
    "Drop the attribute \"id\" (patient id number) from the original dataset. \\\n",
    "Drop the attribute \"TBG\" because all the data in this column are missing."
   ]
  },
  {
   "cell_type": "code",
   "execution_count": 40,
   "id": "5a1c09e8",
   "metadata": {},
   "outputs": [],
   "source": [
    "data_allhyper.drop([\"id\"], axis=1, inplace=True)\n",
    "data_allhyper.drop([\"TBG\"], axis=1, inplace=True)\n",
    "names.remove(\"TBG\")"
   ]
  },
  {
   "cell_type": "markdown",
   "id": "0d05eff2-9aad-4633-ad84-e1ef70ba809c",
   "metadata": {},
   "source": [
    "Add a patient ID."
   ]
  },
  {
   "cell_type": "code",
   "execution_count": 41,
   "id": "de800f0b-7600-42ba-9764-983931ee9e79",
   "metadata": {},
   "outputs": [],
   "source": [
    "data_allhyper[\"patient_id\"] = range(1, len(data_allhyper) + 1)"
   ]
  },
  {
   "cell_type": "code",
   "execution_count": 42,
   "id": "214477c5",
   "metadata": {},
   "outputs": [],
   "source": [
    "continuous_attributes = ['age', 'TSH', 'T3', 'TT4', 'T4U', 'FTI']\n",
    "categorical_attributes = [name for name in names if not name in continuous_attributes]\n",
    "assert len(categorical_attributes) + len(continuous_attributes) == len(names)"
   ]
  },
  {
   "cell_type": "markdown",
   "id": "3adc0196",
   "metadata": {},
   "source": [
    "Replace \"?\" with NaN.\\\n",
    "Replace the original encoding ('f', 't') to (0, 1). \\\n",
    "Replace the original encoding ('F', 'M') to (0, 1). \\\n",
    "Replace \"?\"(missing value) with NaN and convert from object type to numeric type."
   ]
  },
  {
   "cell_type": "code",
   "execution_count": 43,
   "id": "dc4ede66",
   "metadata": {},
   "outputs": [],
   "source": [
    "\n",
    "for att in continuous_attributes:\n",
    "    data_allhyper[att].replace('?', np.NaN, inplace=True)\n",
    "    data_allhyper[att] = pd.to_numeric(data_allhyper[att])\n",
    "\n",
    "for att in categorical_attributes:\n",
    "    if att == 'referral source':\n",
    "        break\n",
    "    else:\n",
    "        data_allhyper[att].replace('?', np.NaN, inplace=True)\n",
    "        data_allhyper[att].replace(('F', 'M'), (0, 1), inplace=True)\n",
    "        data_allhyper[att].replace(('f', 't'), (0, 1), inplace=True)\n",
    "        data_allhyper[att] = pd.to_numeric(data_allhyper[att])"
   ]
  },
  {
   "cell_type": "code",
   "execution_count": 44,
   "id": "d66f2523-4b35-4418-8f82-6685a8a89ccb",
   "metadata": {},
   "outputs": [],
   "source": [
    "data_allhyper.set_index(\"patient_id\", inplace=True)"
   ]
  },
  {
   "cell_type": "code",
   "execution_count": 45,
   "id": "d81743a3-5293-478c-ace1-432541797272",
   "metadata": {},
   "outputs": [],
   "source": [
    "data_allhyper.to_csv(\"thyroid_allhyper_test_prepared.csv\")"
   ]
  },
  {
   "cell_type": "markdown",
   "id": "bab79324",
   "metadata": {},
   "source": [
    "## Thyroid-allhypo dataset"
   ]
  },
  {
   "cell_type": "markdown",
   "id": "dfaa3824",
   "metadata": {},
   "source": [
    "### Train set"
   ]
  },
  {
   "cell_type": "code",
   "execution_count": 46,
   "id": "ba77bef7",
   "metadata": {},
   "outputs": [],
   "source": [
    "with open(\"/Users/xinyuezhang/ehrapy-datasets/thyroid/archive.ics.uci.edu/ml/machine-learning-databases/thyroid-disease/allhypo.names\") as f:\n",
    "    contents = f.readlines()"
   ]
  },
  {
   "cell_type": "code",
   "execution_count": 47,
   "id": "e41ed4df",
   "metadata": {},
   "outputs": [
    {
     "name": "stdout",
     "output_type": "stream",
     "text": [
      "Attribute names are: ['age', 'sex', 'on thyroxine', 'query on thyroxine', 'on antithyroid medication', 'sick', 'pregnant', 'thyroid surgery', 'I131 treatment', 'query hypothyroid', 'query hyperthyroid', 'lithium', 'goitre', 'tumor', 'hypopituitary', 'psych', 'TSH measured', 'TSH', 'T3 measured', 'T3', 'TT4 measured', 'TT4', 'T4U measured', 'T4U', 'FTI measured', 'FTI', 'TBG measured', 'TBG', 'referral source']\n"
     ]
    }
   ],
   "source": [
    "start_index = find_start_index(contents, 'age:')\n",
    "names = find_attribute_names(contents, start_index)\n",
    "print(f\"Attribute names are: \" + str(names))"
   ]
  },
  {
   "cell_type": "code",
   "execution_count": 48,
   "id": "aae62684",
   "metadata": {},
   "outputs": [],
   "source": [
    "names.append('class')"
   ]
  },
  {
   "cell_type": "code",
   "execution_count": 49,
   "id": "b8e6fea3",
   "metadata": {},
   "outputs": [],
   "source": [
    "data_allhypo = pd.read_csv(\"/Users/xinyuezhang/ehrapy-datasets/thyroid/archive.ics.uci.edu/ml/machine-learning-databases/thyroid-disease/allhypo.data\",\n",
    "                   names=names, delimiter=r',')\n",
    "data_allhypo[[\"class\",\"id\"]] = data_allhypo[\"class\"].apply(lambda x: pd.Series(str(x).split(\".|\")))"
   ]
  },
  {
   "cell_type": "markdown",
   "id": "7a66ce93",
   "metadata": {},
   "source": [
    "Drop the attribute \"id\" (patient id number) from the original dataset. \\\n",
    "Drop the attribute \"TBG\" because all the data in this column are missing."
   ]
  },
  {
   "cell_type": "code",
   "execution_count": 50,
   "id": "5a1c09e8",
   "metadata": {},
   "outputs": [],
   "source": [
    "data_allhypo.drop([\"id\"], axis=1, inplace=True)\n",
    "data_allhypo.drop([\"TBG\"], axis=1, inplace=True)\n",
    "names.remove(\"TBG\")"
   ]
  },
  {
   "cell_type": "markdown",
   "id": "0d05eff2-9aad-4633-ad84-e1ef70ba809c",
   "metadata": {},
   "source": [
    "Add a patient ID."
   ]
  },
  {
   "cell_type": "code",
   "execution_count": 51,
   "id": "de800f0b-7600-42ba-9764-983931ee9e79",
   "metadata": {},
   "outputs": [],
   "source": [
    "data_allhypo[\"patient_id\"] = range(1, len(data_allhypo) + 1)"
   ]
  },
  {
   "cell_type": "code",
   "execution_count": 52,
   "id": "214477c5",
   "metadata": {},
   "outputs": [],
   "source": [
    "continuous_attributes = ['age', 'TSH', 'T3', 'TT4', 'T4U', 'FTI']\n",
    "categorical_attributes = [name for name in names if not name in continuous_attributes]\n",
    "assert len(categorical_attributes) + len(continuous_attributes) == len(names)"
   ]
  },
  {
   "cell_type": "markdown",
   "id": "3adc0196",
   "metadata": {},
   "source": [
    "Replace \"?\" with NaN.\\\n",
    "Replace the original encoding ('f', 't') to (0, 1). \\\n",
    "Replace the original encoding ('F', 'M') to (0, 1). \\\n",
    "Replace \"?\"(missing value) with NaN and convert from object type to numeric type."
   ]
  },
  {
   "cell_type": "code",
   "execution_count": 53,
   "id": "dc4ede66",
   "metadata": {},
   "outputs": [],
   "source": [
    "\n",
    "for att in continuous_attributes:\n",
    "    data_allhypo[att].replace('?', np.NaN, inplace=True)\n",
    "    data_allhypo[att] = pd.to_numeric(data_allhypo[att])\n",
    "\n",
    "for att in categorical_attributes:\n",
    "    if att == 'referral source':\n",
    "        break\n",
    "    else:\n",
    "        data_allhypo[att].replace('?', np.NaN, inplace=True)\n",
    "        data_allhypo[att].replace(('F', 'M'), (0, 1), inplace=True)\n",
    "        data_allhypo[att].replace(('f', 't'), (0, 1), inplace=True)\n",
    "        data_allhypo[att] = pd.to_numeric(data_allhypo[att])"
   ]
  },
  {
   "cell_type": "code",
   "execution_count": 54,
   "id": "d66f2523-4b35-4418-8f82-6685a8a89ccb",
   "metadata": {},
   "outputs": [],
   "source": [
    "data_allhypo.set_index(\"patient_id\", inplace=True)"
   ]
  },
  {
   "cell_type": "code",
   "execution_count": 55,
   "id": "a06be47b",
   "metadata": {},
   "outputs": [
    {
     "name": "stdout",
     "output_type": "stream",
     "text": [
      "<class 'pandas.core.frame.DataFrame'>\n",
      "Int64Index: 2800 entries, 1 to 2800\n",
      "Data columns (total 29 columns):\n",
      " #   Column                     Non-Null Count  Dtype  \n",
      "---  ------                     --------------  -----  \n",
      " 0   age                        2799 non-null   float64\n",
      " 1   sex                        2690 non-null   float64\n",
      " 2   on thyroxine               2800 non-null   int64  \n",
      " 3   query on thyroxine         2800 non-null   int64  \n",
      " 4   on antithyroid medication  2800 non-null   int64  \n",
      " 5   sick                       2800 non-null   int64  \n",
      " 6   pregnant                   2800 non-null   int64  \n",
      " 7   thyroid surgery            2800 non-null   int64  \n",
      " 8   I131 treatment             2800 non-null   int64  \n",
      " 9   query hypothyroid          2800 non-null   int64  \n",
      " 10  query hyperthyroid         2800 non-null   int64  \n",
      " 11  lithium                    2800 non-null   int64  \n",
      " 12  goitre                     2800 non-null   int64  \n",
      " 13  tumor                      2800 non-null   int64  \n",
      " 14  hypopituitary              2800 non-null   int64  \n",
      " 15  psych                      2800 non-null   int64  \n",
      " 16  TSH measured               2800 non-null   int64  \n",
      " 17  TSH                        2516 non-null   float64\n",
      " 18  T3 measured                2800 non-null   int64  \n",
      " 19  T3                         2215 non-null   float64\n",
      " 20  TT4 measured               2800 non-null   int64  \n",
      " 21  TT4                        2616 non-null   float64\n",
      " 22  T4U measured               2800 non-null   int64  \n",
      " 23  T4U                        2503 non-null   float64\n",
      " 24  FTI measured               2800 non-null   int64  \n",
      " 25  FTI                        2505 non-null   float64\n",
      " 26  TBG measured               2800 non-null   int64  \n",
      " 27  referral source            2800 non-null   object \n",
      " 28  class                      2800 non-null   object \n",
      "dtypes: float64(7), int64(20), object(2)\n",
      "memory usage: 656.2+ KB\n"
     ]
    }
   ],
   "source": [
    "data_allhypo.info()"
   ]
  },
  {
   "cell_type": "code",
   "execution_count": 56,
   "id": "d81743a3-5293-478c-ace1-432541797272",
   "metadata": {},
   "outputs": [],
   "source": [
    "data_allhypo.to_csv(\"thyroid_allhypo_train_prepared.csv\")"
   ]
  },
  {
   "cell_type": "markdown",
   "id": "dfaa3824",
   "metadata": {},
   "source": [
    "### Test set"
   ]
  },
  {
   "cell_type": "code",
   "execution_count": 57,
   "id": "ba77bef7",
   "metadata": {},
   "outputs": [],
   "source": [
    "with open(\"/Users/xinyuezhang/ehrapy-datasets/thyroid/archive.ics.uci.edu/ml/machine-learning-databases/thyroid-disease/allhypo.names\") as f:\n",
    "    contents = f.readlines()"
   ]
  },
  {
   "cell_type": "code",
   "execution_count": 58,
   "id": "e41ed4df",
   "metadata": {},
   "outputs": [
    {
     "name": "stdout",
     "output_type": "stream",
     "text": [
      "Attribute names are: ['age', 'sex', 'on thyroxine', 'query on thyroxine', 'on antithyroid medication', 'sick', 'pregnant', 'thyroid surgery', 'I131 treatment', 'query hypothyroid', 'query hyperthyroid', 'lithium', 'goitre', 'tumor', 'hypopituitary', 'psych', 'TSH measured', 'TSH', 'T3 measured', 'T3', 'TT4 measured', 'TT4', 'T4U measured', 'T4U', 'FTI measured', 'FTI', 'TBG measured', 'TBG', 'referral source']\n"
     ]
    }
   ],
   "source": [
    "start_index = find_start_index(contents, 'age:')\n",
    "names = find_attribute_names(contents, start_index)\n",
    "print(f\"Attribute names are: \" + str(names))"
   ]
  },
  {
   "cell_type": "code",
   "execution_count": 59,
   "id": "aae62684",
   "metadata": {},
   "outputs": [],
   "source": [
    "names.append('class')"
   ]
  },
  {
   "cell_type": "code",
   "execution_count": 60,
   "id": "b8e6fea3",
   "metadata": {},
   "outputs": [],
   "source": [
    "data_allhypo = pd.read_csv(\"/Users/xinyuezhang/ehrapy-datasets/thyroid/archive.ics.uci.edu/ml/machine-learning-databases/thyroid-disease/allhypo.test\",\n",
    "                   names=names, delimiter=r',')\n",
    "data_allhypo[[\"class\",\"id\"]] = data_allhypo[\"class\"].apply(lambda x: pd.Series(str(x).split(\".|\")))"
   ]
  },
  {
   "cell_type": "markdown",
   "id": "7a66ce93",
   "metadata": {},
   "source": [
    "Drop the attribute \"id\" (patient id number) from the original dataset. \\\n",
    "Drop the attribute \"TBG\" because all the data in this column are missing."
   ]
  },
  {
   "cell_type": "code",
   "execution_count": 61,
   "id": "5a1c09e8",
   "metadata": {},
   "outputs": [],
   "source": [
    "data_allhypo.drop([\"id\"], axis=1, inplace=True)\n",
    "data_allhypo.drop([\"TBG\"], axis=1, inplace=True)\n",
    "names.remove(\"TBG\")"
   ]
  },
  {
   "cell_type": "markdown",
   "id": "0d05eff2-9aad-4633-ad84-e1ef70ba809c",
   "metadata": {},
   "source": [
    "Add a patient ID."
   ]
  },
  {
   "cell_type": "code",
   "execution_count": 62,
   "id": "de800f0b-7600-42ba-9764-983931ee9e79",
   "metadata": {},
   "outputs": [],
   "source": [
    "data_allhypo[\"patient_id\"] = range(1, len(data_allhypo) + 1)"
   ]
  },
  {
   "cell_type": "code",
   "execution_count": 63,
   "id": "214477c5",
   "metadata": {},
   "outputs": [],
   "source": [
    "continuous_attributes = ['age', 'TSH', 'T3', 'TT4', 'T4U', 'FTI']\n",
    "categorical_attributes = [name for name in names if not name in continuous_attributes]\n",
    "assert len(categorical_attributes) + len(continuous_attributes) == len(names)"
   ]
  },
  {
   "cell_type": "markdown",
   "id": "3adc0196",
   "metadata": {},
   "source": [
    "Replace \"?\" with NaN.\\\n",
    "Replace the original encoding ('f', 't') to (0, 1). \\\n",
    "Replace the original encoding ('F', 'M') to (0, 1). \\\n",
    "Replace \"?\"(missing value) with NaN and convert from object type to numeric type."
   ]
  },
  {
   "cell_type": "code",
   "execution_count": 64,
   "id": "dc4ede66",
   "metadata": {},
   "outputs": [],
   "source": [
    "\n",
    "for att in continuous_attributes:\n",
    "    data_allhypo[att].replace('?', np.NaN, inplace=True)\n",
    "    data_allhypo[att] = pd.to_numeric(data_allhypo[att])\n",
    "\n",
    "for att in categorical_attributes:\n",
    "    if att == 'referral source':\n",
    "        break\n",
    "    else:\n",
    "        data_allhypo[att].replace('?', np.NaN, inplace=True)\n",
    "        data_allhypo[att].replace(('F', 'M'), (0, 1), inplace=True)\n",
    "        data_allhypo[att].replace(('f', 't'), (0, 1), inplace=True)\n",
    "        data_allhypo[att] = pd.to_numeric(data_allhypo[att])"
   ]
  },
  {
   "cell_type": "code",
   "execution_count": 65,
   "id": "d66f2523-4b35-4418-8f82-6685a8a89ccb",
   "metadata": {},
   "outputs": [],
   "source": [
    "data_allhypo.set_index(\"patient_id\", inplace=True)"
   ]
  },
  {
   "cell_type": "code",
   "execution_count": 66,
   "id": "d81743a3-5293-478c-ace1-432541797272",
   "metadata": {},
   "outputs": [],
   "source": [
    "data_allhypo.to_csv(\"thyroid_allhypo_test_prepared.csv\")"
   ]
  },
  {
   "cell_type": "markdown",
   "id": "bab79324",
   "metadata": {},
   "source": [
    "## Thyroid-allrep dataset"
   ]
  },
  {
   "cell_type": "markdown",
   "id": "dfaa3824",
   "metadata": {},
   "source": [
    "### Train set"
   ]
  },
  {
   "cell_type": "code",
   "execution_count": 67,
   "id": "ba77bef7",
   "metadata": {},
   "outputs": [],
   "source": [
    "with open(\"/Users/xinyuezhang/ehrapy-datasets/thyroid/archive.ics.uci.edu/ml/machine-learning-databases/thyroid-disease/allrep.names\") as f:\n",
    "    contents = f.readlines()"
   ]
  },
  {
   "cell_type": "code",
   "execution_count": 68,
   "id": "e41ed4df",
   "metadata": {},
   "outputs": [
    {
     "name": "stdout",
     "output_type": "stream",
     "text": [
      "Attribute names are: ['age', 'sex', 'on thyroxine', 'query on thyroxine', 'on antithyroid medication', 'sick', 'pregnant', 'thyroid surgery', 'I131 treatment', 'query hypothyroid', 'query hyperthyroid', 'lithium', 'goitre', 'tumor', 'hypopituitary', 'psych', 'TSH measured', 'TSH', 'T3 measured', 'T3', 'TT4 measured', 'TT4', 'T4U measured', 'T4U', 'FTI measured', 'FTI', 'TBG measured', 'TBG', 'referral source']\n"
     ]
    }
   ],
   "source": [
    "start_index = find_start_index(contents, 'age:')\n",
    "names = find_attribute_names(contents, start_index)\n",
    "print(f\"Attribute names are: \" + str(names))"
   ]
  },
  {
   "cell_type": "code",
   "execution_count": 69,
   "id": "aae62684",
   "metadata": {},
   "outputs": [],
   "source": [
    "names.append('class')"
   ]
  },
  {
   "cell_type": "code",
   "execution_count": 70,
   "id": "b8e6fea3",
   "metadata": {},
   "outputs": [],
   "source": [
    "data_allrep = pd.read_csv(\"/Users/xinyuezhang/ehrapy-datasets/thyroid/archive.ics.uci.edu/ml/machine-learning-databases/thyroid-disease/allrep.data\",\n",
    "                   names=names, delimiter=r',')\n",
    "data_allrep[[\"class\",\"id\"]] = data_allrep[\"class\"].apply(lambda x: pd.Series(str(x).split(\".|\")))"
   ]
  },
  {
   "cell_type": "markdown",
   "id": "7a66ce93",
   "metadata": {},
   "source": [
    "Drop the attribute \"id\" (patient id number) from the original dataset. \\\n",
    "Drop the attribute \"TBG\" because all the data in this column are missing."
   ]
  },
  {
   "cell_type": "code",
   "execution_count": 71,
   "id": "5a1c09e8",
   "metadata": {},
   "outputs": [],
   "source": [
    "data_allrep.drop([\"id\"], axis=1, inplace=True)\n",
    "data_allrep.drop([\"TBG\"], axis=1, inplace=True)\n",
    "names.remove(\"TBG\")"
   ]
  },
  {
   "cell_type": "markdown",
   "id": "0d05eff2-9aad-4633-ad84-e1ef70ba809c",
   "metadata": {},
   "source": [
    "Add a patient ID."
   ]
  },
  {
   "cell_type": "code",
   "execution_count": 72,
   "id": "de800f0b-7600-42ba-9764-983931ee9e79",
   "metadata": {},
   "outputs": [],
   "source": [
    "data_allrep[\"patient_id\"] = range(1, len(data_allrep) + 1)"
   ]
  },
  {
   "cell_type": "code",
   "execution_count": 73,
   "id": "214477c5",
   "metadata": {},
   "outputs": [],
   "source": [
    "continuous_attributes = ['age', 'TSH', 'T3', 'TT4', 'T4U', 'FTI']\n",
    "categorical_attributes = [name for name in names if not name in continuous_attributes]\n",
    "assert len(categorical_attributes) + len(continuous_attributes) == len(names)"
   ]
  },
  {
   "cell_type": "markdown",
   "id": "3adc0196",
   "metadata": {},
   "source": [
    "Replace \"?\" with NaN.\\\n",
    "Replace the original encoding ('f', 't') to (0, 1). \\\n",
    "Replace the original encoding ('F', 'M') to (0, 1). \\\n",
    "Replace \"?\"(missing value) with NaN and convert from object type to numeric type."
   ]
  },
  {
   "cell_type": "code",
   "execution_count": 74,
   "id": "dc4ede66",
   "metadata": {},
   "outputs": [],
   "source": [
    "\n",
    "for att in continuous_attributes:\n",
    "    data_allrep[att].replace('?', np.NaN, inplace=True)\n",
    "    data_allrep[att] = pd.to_numeric(data_allrep[att])\n",
    "\n",
    "for att in categorical_attributes:\n",
    "    if att == 'referral source':\n",
    "        break\n",
    "    else:\n",
    "        data_allrep[att].replace('?', np.NaN, inplace=True)\n",
    "        data_allrep[att].replace(('F', 'M'), (0, 1), inplace=True)\n",
    "        data_allrep[att].replace(('f', 't'), (0, 1), inplace=True)\n",
    "        data_allrep[att] = pd.to_numeric(data_allrep[att])"
   ]
  },
  {
   "cell_type": "code",
   "execution_count": 75,
   "id": "d66f2523-4b35-4418-8f82-6685a8a89ccb",
   "metadata": {},
   "outputs": [],
   "source": [
    "data_allrep.set_index(\"patient_id\", inplace=True)"
   ]
  },
  {
   "cell_type": "code",
   "execution_count": 76,
   "id": "d81743a3-5293-478c-ace1-432541797272",
   "metadata": {},
   "outputs": [],
   "source": [
    "data_allrep.to_csv(\"thyroid_allrep_train_prepared.csv\")"
   ]
  },
  {
   "cell_type": "markdown",
   "id": "dfaa3824",
   "metadata": {},
   "source": [
    "### Test set"
   ]
  },
  {
   "cell_type": "code",
   "execution_count": 77,
   "id": "ba77bef7",
   "metadata": {},
   "outputs": [],
   "source": [
    "with open(\"/Users/xinyuezhang/ehrapy-datasets/thyroid/archive.ics.uci.edu/ml/machine-learning-databases/thyroid-disease/allrep.names\") as f:\n",
    "    contents = f.readlines()"
   ]
  },
  {
   "cell_type": "code",
   "execution_count": 78,
   "id": "e41ed4df",
   "metadata": {},
   "outputs": [
    {
     "name": "stdout",
     "output_type": "stream",
     "text": [
      "Attribute names are: ['age', 'sex', 'on thyroxine', 'query on thyroxine', 'on antithyroid medication', 'sick', 'pregnant', 'thyroid surgery', 'I131 treatment', 'query hypothyroid', 'query hyperthyroid', 'lithium', 'goitre', 'tumor', 'hypopituitary', 'psych', 'TSH measured', 'TSH', 'T3 measured', 'T3', 'TT4 measured', 'TT4', 'T4U measured', 'T4U', 'FTI measured', 'FTI', 'TBG measured', 'TBG', 'referral source']\n"
     ]
    }
   ],
   "source": [
    "start_index = find_start_index(contents, 'age:')\n",
    "names = find_attribute_names(contents, start_index)\n",
    "print(f\"Attribute names are: \" + str(names))"
   ]
  },
  {
   "cell_type": "code",
   "execution_count": 79,
   "id": "aae62684",
   "metadata": {},
   "outputs": [],
   "source": [
    "names.append('class')"
   ]
  },
  {
   "cell_type": "code",
   "execution_count": 80,
   "id": "b8e6fea3",
   "metadata": {},
   "outputs": [],
   "source": [
    "data_allrep = pd.read_csv(\"/Users/xinyuezhang/ehrapy-datasets/thyroid/archive.ics.uci.edu/ml/machine-learning-databases/thyroid-disease/allrep.test\",\n",
    "                   names=names, delimiter=r',')\n",
    "data_allrep[[\"class\",\"id\"]] = data_allrep[\"class\"].apply(lambda x: pd.Series(str(x).split(\".|\")))"
   ]
  },
  {
   "cell_type": "markdown",
   "id": "7a66ce93",
   "metadata": {},
   "source": [
    "Drop the attribute \"id\" (patient id number) from the original dataset. \\\n",
    "Drop the attribute \"TBG\" because all the data in this column are missing."
   ]
  },
  {
   "cell_type": "code",
   "execution_count": 81,
   "id": "5a1c09e8",
   "metadata": {},
   "outputs": [],
   "source": [
    "data_allrep.drop([\"id\"], axis=1, inplace=True)\n",
    "data_allrep.drop([\"TBG\"], axis=1, inplace=True)\n",
    "names.remove(\"TBG\")"
   ]
  },
  {
   "cell_type": "markdown",
   "id": "0d05eff2-9aad-4633-ad84-e1ef70ba809c",
   "metadata": {},
   "source": [
    "Add a patient ID."
   ]
  },
  {
   "cell_type": "code",
   "execution_count": 82,
   "id": "de800f0b-7600-42ba-9764-983931ee9e79",
   "metadata": {},
   "outputs": [],
   "source": [
    "data_allrep[\"patient_id\"] = range(1, len(data_allrep) + 1)"
   ]
  },
  {
   "cell_type": "code",
   "execution_count": 83,
   "id": "214477c5",
   "metadata": {},
   "outputs": [],
   "source": [
    "continuous_attributes = ['age', 'TSH', 'T3', 'TT4', 'T4U', 'FTI']\n",
    "categorical_attributes = [name for name in names if not name in continuous_attributes]\n",
    "assert len(categorical_attributes) + len(continuous_attributes) == len(names)"
   ]
  },
  {
   "cell_type": "markdown",
   "id": "3adc0196",
   "metadata": {},
   "source": [
    "Replace \"?\" with NaN.\\\n",
    "Replace the original encoding ('f', 't') to (0, 1). \\\n",
    "Replace the original encoding ('F', 'M') to (0, 1). \\\n",
    "Replace \"?\"(missing value) with NaN and convert from object type to numeric type."
   ]
  },
  {
   "cell_type": "code",
   "execution_count": 84,
   "id": "dc4ede66",
   "metadata": {},
   "outputs": [],
   "source": [
    "\n",
    "for att in continuous_attributes:\n",
    "    data_allrep[att].replace('?', np.NaN, inplace=True)\n",
    "    data_allrep[att] = pd.to_numeric(data_allrep[att])\n",
    "\n",
    "for att in categorical_attributes:\n",
    "    if att == 'referral source':\n",
    "        break\n",
    "    else:\n",
    "        data_allrep[att].replace('?', np.NaN, inplace=True)\n",
    "        data_allrep[att].replace(('F', 'M'), (0, 1), inplace=True)\n",
    "        data_allrep[att].replace(('f', 't'), (0, 1), inplace=True)\n",
    "        data_allrep[att] = pd.to_numeric(data_allrep[att])"
   ]
  },
  {
   "cell_type": "code",
   "execution_count": 85,
   "id": "d66f2523-4b35-4418-8f82-6685a8a89ccb",
   "metadata": {},
   "outputs": [],
   "source": [
    "data_allrep.set_index(\"patient_id\", inplace=True)"
   ]
  },
  {
   "cell_type": "code",
   "execution_count": 86,
   "id": "d81743a3-5293-478c-ace1-432541797272",
   "metadata": {},
   "outputs": [],
   "source": [
    "data_allrep.to_csv(\"thyroid_allrep_test_prepared.csv\")"
   ]
  },
  {
   "cell_type": "markdown",
   "id": "bab79324",
   "metadata": {},
   "source": [
    "## Thyroid-dis dataset"
   ]
  },
  {
   "cell_type": "markdown",
   "id": "dfaa3824",
   "metadata": {},
   "source": [
    "### Train set"
   ]
  },
  {
   "cell_type": "code",
   "execution_count": 87,
   "id": "ba77bef7",
   "metadata": {},
   "outputs": [],
   "source": [
    "with open(\"/Users/xinyuezhang/ehrapy-datasets/thyroid/archive.ics.uci.edu/ml/machine-learning-databases/thyroid-disease/dis.names\") as f:\n",
    "    contents = f.readlines()"
   ]
  },
  {
   "cell_type": "code",
   "execution_count": 88,
   "id": "e41ed4df",
   "metadata": {},
   "outputs": [
    {
     "name": "stdout",
     "output_type": "stream",
     "text": [
      "Attribute names are: ['age', 'sex', 'on thyroxine', 'query on thyroxine', 'on antithyroid medication', 'sick', 'pregnant', 'thyroid surgery', 'I131 treatment', 'query hypothyroid', 'query hyperthyroid', 'lithium', 'goitre', 'tumor', 'hypopituitary', 'psych', 'TSH measured', 'TSH', 'T3 measured', 'T3', 'TT4 measured', 'TT4', 'T4U measured', 'T4U', 'FTI measured', 'FTI', 'TBG measured', 'TBG', 'referral source']\n"
     ]
    }
   ],
   "source": [
    "start_index = find_start_index(contents, 'age:')\n",
    "names = find_attribute_names(contents, start_index)\n",
    "print(f\"Attribute names are: \" + str(names))"
   ]
  },
  {
   "cell_type": "code",
   "execution_count": 89,
   "id": "aae62684",
   "metadata": {},
   "outputs": [],
   "source": [
    "names.append('class')"
   ]
  },
  {
   "cell_type": "code",
   "execution_count": 90,
   "id": "b8e6fea3",
   "metadata": {},
   "outputs": [],
   "source": [
    "data_dis = pd.read_csv(\"/Users/xinyuezhang/ehrapy-datasets/thyroid/archive.ics.uci.edu/ml/machine-learning-databases/thyroid-disease/dis.data\",\n",
    "                   names=names, delimiter=r',')\n",
    "data_dis[[\"class\",\"id\"]] = data_dis[\"class\"].apply(lambda x: pd.Series(str(x).split(\".|\")))"
   ]
  },
  {
   "cell_type": "markdown",
   "id": "7a66ce93",
   "metadata": {},
   "source": [
    "Drop the attribute \"id\" (patient id number) from the original dataset. \\\n",
    "Drop the attribute \"TBG\" because all the data in this column are missing."
   ]
  },
  {
   "cell_type": "code",
   "execution_count": 91,
   "id": "5a1c09e8",
   "metadata": {},
   "outputs": [],
   "source": [
    "data_dis.drop([\"id\"], axis=1, inplace=True)\n",
    "data_dis.drop([\"TBG\"], axis=1, inplace=True)\n",
    "names.remove(\"TBG\")"
   ]
  },
  {
   "cell_type": "markdown",
   "id": "0d05eff2-9aad-4633-ad84-e1ef70ba809c",
   "metadata": {},
   "source": [
    "Add a patient ID."
   ]
  },
  {
   "cell_type": "code",
   "execution_count": 92,
   "id": "de800f0b-7600-42ba-9764-983931ee9e79",
   "metadata": {},
   "outputs": [],
   "source": [
    "data_dis[\"patient_id\"] = range(1, len(data_dis) + 1)"
   ]
  },
  {
   "cell_type": "code",
   "execution_count": 93,
   "id": "214477c5",
   "metadata": {},
   "outputs": [],
   "source": [
    "continuous_attributes = ['age', 'TSH', 'T3', 'TT4', 'T4U', 'FTI']\n",
    "categorical_attributes = [name for name in names if not name in continuous_attributes]\n",
    "assert len(categorical_attributes) + len(continuous_attributes) == len(names)"
   ]
  },
  {
   "cell_type": "markdown",
   "id": "3adc0196",
   "metadata": {},
   "source": [
    "Replace \"?\" with NaN.\\\n",
    "Replace the original encoding ('f', 't') to (0, 1). \\\n",
    "Replace the original encoding ('F', 'M') to (0, 1). \\\n",
    "Replace \"?\"(missing value) with NaN and convert from object type to numeric type."
   ]
  },
  {
   "cell_type": "code",
   "execution_count": 94,
   "id": "dc4ede66",
   "metadata": {},
   "outputs": [],
   "source": [
    "\n",
    "for att in continuous_attributes:\n",
    "    data_dis[att].replace('?', np.NaN, inplace=True)\n",
    "    data_dis[att] = pd.to_numeric(data_dis[att])\n",
    "\n",
    "for att in categorical_attributes:\n",
    "    if att == 'referral source':\n",
    "        break\n",
    "    else:\n",
    "        data_dis[att].replace('?', np.NaN, inplace=True)\n",
    "        data_dis[att].replace(('F', 'M'), (0, 1), inplace=True)\n",
    "        data_dis[att].replace(('f', 't'), (0, 1), inplace=True)\n",
    "        data_dis[att] = pd.to_numeric(data_dis[att])"
   ]
  },
  {
   "cell_type": "code",
   "execution_count": 95,
   "id": "d66f2523-4b35-4418-8f82-6685a8a89ccb",
   "metadata": {},
   "outputs": [],
   "source": [
    "data_dis.set_index(\"patient_id\", inplace=True)"
   ]
  },
  {
   "cell_type": "code",
   "execution_count": 96,
   "id": "d81743a3-5293-478c-ace1-432541797272",
   "metadata": {},
   "outputs": [],
   "source": [
    "data_dis.to_csv(\"thyroid_dis_train_prepared.csv\")"
   ]
  },
  {
   "cell_type": "markdown",
   "id": "dfaa3824",
   "metadata": {},
   "source": [
    "### Test set"
   ]
  },
  {
   "cell_type": "code",
   "execution_count": 97,
   "id": "ba77bef7",
   "metadata": {},
   "outputs": [],
   "source": [
    "with open(\"/Users/xinyuezhang/ehrapy-datasets/thyroid/archive.ics.uci.edu/ml/machine-learning-databases/thyroid-disease/dis.names\") as f:\n",
    "    contents = f.readlines()"
   ]
  },
  {
   "cell_type": "code",
   "execution_count": 98,
   "id": "e41ed4df",
   "metadata": {},
   "outputs": [
    {
     "name": "stdout",
     "output_type": "stream",
     "text": [
      "Attribute names are: ['age', 'sex', 'on thyroxine', 'query on thyroxine', 'on antithyroid medication', 'sick', 'pregnant', 'thyroid surgery', 'I131 treatment', 'query hypothyroid', 'query hyperthyroid', 'lithium', 'goitre', 'tumor', 'hypopituitary', 'psych', 'TSH measured', 'TSH', 'T3 measured', 'T3', 'TT4 measured', 'TT4', 'T4U measured', 'T4U', 'FTI measured', 'FTI', 'TBG measured', 'TBG', 'referral source']\n"
     ]
    }
   ],
   "source": [
    "start_index = find_start_index(contents, 'age:')\n",
    "names = find_attribute_names(contents, start_index)\n",
    "print(f\"Attribute names are: \" + str(names))"
   ]
  },
  {
   "cell_type": "code",
   "execution_count": 99,
   "id": "aae62684",
   "metadata": {},
   "outputs": [],
   "source": [
    "names.append('class')"
   ]
  },
  {
   "cell_type": "code",
   "execution_count": 100,
   "id": "b8e6fea3",
   "metadata": {},
   "outputs": [],
   "source": [
    "data_dis = pd.read_csv(\"/Users/xinyuezhang/ehrapy-datasets/thyroid/archive.ics.uci.edu/ml/machine-learning-databases/thyroid-disease/dis.test\",\n",
    "                   names=names, delimiter=r',')\n",
    "data_dis[[\"class\",\"id\"]] = data_dis[\"class\"].apply(lambda x: pd.Series(str(x).split(\".|\")))"
   ]
  },
  {
   "cell_type": "markdown",
   "id": "7a66ce93",
   "metadata": {},
   "source": [
    "Drop the attribute \"id\" (patient id number) from the original dataset. \\\n",
    "Drop the attribute \"TBG\" because all the data in this column are missing."
   ]
  },
  {
   "cell_type": "code",
   "execution_count": 101,
   "id": "5a1c09e8",
   "metadata": {},
   "outputs": [],
   "source": [
    "data_dis.drop([\"id\"], axis=1, inplace=True)\n",
    "data_dis.drop([\"TBG\"], axis=1, inplace=True)\n",
    "names.remove(\"TBG\")"
   ]
  },
  {
   "cell_type": "markdown",
   "id": "0d05eff2-9aad-4633-ad84-e1ef70ba809c",
   "metadata": {},
   "source": [
    "Add a patient ID."
   ]
  },
  {
   "cell_type": "code",
   "execution_count": 102,
   "id": "de800f0b-7600-42ba-9764-983931ee9e79",
   "metadata": {},
   "outputs": [],
   "source": [
    "data_dis[\"patient_id\"] = range(1, len(data_dis) + 1)"
   ]
  },
  {
   "cell_type": "code",
   "execution_count": 103,
   "id": "214477c5",
   "metadata": {},
   "outputs": [],
   "source": [
    "continuous_attributes = ['age', 'TSH', 'T3', 'TT4', 'T4U', 'FTI']\n",
    "categorical_attributes = [name for name in names if not name in continuous_attributes]\n",
    "assert len(categorical_attributes) + len(continuous_attributes) == len(names)"
   ]
  },
  {
   "cell_type": "markdown",
   "id": "3adc0196",
   "metadata": {},
   "source": [
    "Replace \"?\" with NaN.\\\n",
    "Replace the original encoding ('f', 't') to (0, 1). \\\n",
    "Replace the original encoding ('F', 'M') to (0, 1). \\\n",
    "Replace \"?\"(missing value) with NaN and convert from object type to numeric type."
   ]
  },
  {
   "cell_type": "code",
   "execution_count": 104,
   "id": "dc4ede66",
   "metadata": {},
   "outputs": [],
   "source": [
    "\n",
    "for att in continuous_attributes:\n",
    "    data_dis[att].replace('?', np.NaN, inplace=True)\n",
    "    data_dis[att] = pd.to_numeric(data_dis[att])\n",
    "\n",
    "for att in categorical_attributes:\n",
    "    if att == 'referral source':\n",
    "        break\n",
    "    else:\n",
    "        data_dis[att].replace('?', np.NaN, inplace=True)\n",
    "        data_dis[att].replace(('F', 'M'), (0, 1), inplace=True)\n",
    "        data_dis[att].replace(('f', 't'), (0, 1), inplace=True)\n",
    "        data_dis[att] = pd.to_numeric(data_dis[att])"
   ]
  },
  {
   "cell_type": "code",
   "execution_count": 105,
   "id": "d66f2523-4b35-4418-8f82-6685a8a89ccb",
   "metadata": {},
   "outputs": [],
   "source": [
    "data_dis.set_index(\"patient_id\", inplace=True)"
   ]
  },
  {
   "cell_type": "code",
   "execution_count": 106,
   "id": "d81743a3-5293-478c-ace1-432541797272",
   "metadata": {},
   "outputs": [],
   "source": [
    "data_dis.to_csv(\"thyroid_dis_test_prepared.csv\")"
   ]
  },
  {
   "cell_type": "markdown",
   "id": "bab79324",
   "metadata": {},
   "source": [
    "## Thyroid-sick dataset"
   ]
  },
  {
   "cell_type": "markdown",
   "id": "dfaa3824",
   "metadata": {},
   "source": [
    "### Train set"
   ]
  },
  {
   "cell_type": "code",
   "execution_count": 107,
   "id": "ba77bef7",
   "metadata": {},
   "outputs": [],
   "source": [
    "with open(\"/Users/xinyuezhang/ehrapy-datasets/thyroid/archive.ics.uci.edu/ml/machine-learning-databases/thyroid-disease/sick.names\") as f:\n",
    "    contents = f.readlines()"
   ]
  },
  {
   "cell_type": "code",
   "execution_count": 108,
   "id": "e41ed4df",
   "metadata": {},
   "outputs": [
    {
     "name": "stdout",
     "output_type": "stream",
     "text": [
      "Attribute names are: ['age', 'sex', 'on thyroxine', 'query on thyroxine', 'on antithyroid medication', 'sick', 'pregnant', 'thyroid surgery', 'I131 treatment', 'query hypothyroid', 'query hyperthyroid', 'lithium', 'goitre', 'tumor', 'hypopituitary', 'psych', 'TSH measured', 'TSH', 'T3 measured', 'T3', 'TT4 measured', 'TT4', 'T4U measured', 'T4U', 'FTI measured', 'FTI', 'TBG measured', 'TBG', 'referral source']\n"
     ]
    }
   ],
   "source": [
    "start_index = find_start_index(contents, 'age:')\n",
    "names = find_attribute_names(contents, start_index)\n",
    "print(f\"Attribute names are: \" + str(names))"
   ]
  },
  {
   "cell_type": "code",
   "execution_count": 109,
   "id": "aae62684",
   "metadata": {},
   "outputs": [],
   "source": [
    "names.append('class')"
   ]
  },
  {
   "cell_type": "code",
   "execution_count": 110,
   "id": "b8e6fea3",
   "metadata": {},
   "outputs": [],
   "source": [
    "data_sick = pd.read_csv(\"/Users/xinyuezhang/ehrapy-datasets/thyroid/archive.ics.uci.edu/ml/machine-learning-databases/thyroid-disease/sick.data\",\n",
    "                   names=names, delimiter=r',')\n",
    "data_sick[[\"class\",\"id\"]] = data_sick[\"class\"].apply(lambda x: pd.Series(str(x).split(\".|\")))"
   ]
  },
  {
   "cell_type": "markdown",
   "id": "7a66ce93",
   "metadata": {},
   "source": [
    "Drop the attribute \"id\" (patient id number) from the original dataset. \\\n",
    "Drop the attribute \"TBG\" because all the data in this column are missing."
   ]
  },
  {
   "cell_type": "code",
   "execution_count": 111,
   "id": "5a1c09e8",
   "metadata": {},
   "outputs": [],
   "source": [
    "data_sick.drop([\"id\"], axis=1, inplace=True)\n",
    "data_sick.drop([\"TBG\"], axis=1, inplace=True)\n",
    "names.remove(\"TBG\")"
   ]
  },
  {
   "cell_type": "markdown",
   "id": "0d05eff2-9aad-4633-ad84-e1ef70ba809c",
   "metadata": {},
   "source": [
    "Add a patient ID."
   ]
  },
  {
   "cell_type": "code",
   "execution_count": 112,
   "id": "de800f0b-7600-42ba-9764-983931ee9e79",
   "metadata": {},
   "outputs": [],
   "source": [
    "data_sick[\"patient_id\"] = range(1, len(data_sick) + 1)"
   ]
  },
  {
   "cell_type": "code",
   "execution_count": 113,
   "id": "214477c5",
   "metadata": {},
   "outputs": [],
   "source": [
    "continuous_attributes = ['age', 'TSH', 'T3', 'TT4', 'T4U', 'FTI']\n",
    "categorical_attributes = [name for name in names if not name in continuous_attributes]\n",
    "assert len(categorical_attributes) + len(continuous_attributes) == len(names)"
   ]
  },
  {
   "cell_type": "markdown",
   "id": "3adc0196",
   "metadata": {},
   "source": [
    "Replace \"?\" with NaN.\\\n",
    "Replace the original encoding ('f', 't') to (0, 1). \\\n",
    "Replace the original encoding ('F', 'M') to (0, 1). \\\n",
    "Replace \"?\"(missing value) with NaN and convert from object type to numeric type."
   ]
  },
  {
   "cell_type": "code",
   "execution_count": 114,
   "id": "dc4ede66",
   "metadata": {},
   "outputs": [],
   "source": [
    "\n",
    "for att in continuous_attributes:\n",
    "    data_sick[att].replace('?', np.NaN, inplace=True)\n",
    "    data_sick[att] = pd.to_numeric(data_sick[att])\n",
    "\n",
    "for att in categorical_attributes:\n",
    "    if att == 'referral source':\n",
    "        break\n",
    "    else:\n",
    "        data_sick[att].replace('?', np.NaN, inplace=True)\n",
    "        data_sick[att].replace(('F', 'M'), (0, 1), inplace=True)\n",
    "        data_sick[att].replace(('f', 't'), (0, 1), inplace=True)\n",
    "        data_sick[att] = pd.to_numeric(data_sick[att])"
   ]
  },
  {
   "cell_type": "code",
   "execution_count": 115,
   "id": "d66f2523-4b35-4418-8f82-6685a8a89ccb",
   "metadata": {},
   "outputs": [],
   "source": [
    "data_sick.set_index(\"patient_id\", inplace=True)"
   ]
  },
  {
   "cell_type": "code",
   "execution_count": 116,
   "id": "d81743a3-5293-478c-ace1-432541797272",
   "metadata": {},
   "outputs": [],
   "source": [
    "data_sick.to_csv(\"thyroid_sick_train_prepared.csv\")"
   ]
  },
  {
   "cell_type": "markdown",
   "id": "dfaa3824",
   "metadata": {},
   "source": [
    "### Test set"
   ]
  },
  {
   "cell_type": "code",
   "execution_count": 117,
   "id": "ba77bef7",
   "metadata": {},
   "outputs": [],
   "source": [
    "with open(\"/Users/xinyuezhang/ehrapy-datasets/thyroid/archive.ics.uci.edu/ml/machine-learning-databases/thyroid-disease/sick.names\") as f:\n",
    "    contents = f.readlines()"
   ]
  },
  {
   "cell_type": "code",
   "execution_count": 118,
   "id": "e41ed4df",
   "metadata": {},
   "outputs": [
    {
     "name": "stdout",
     "output_type": "stream",
     "text": [
      "Attribute names are: ['age', 'sex', 'on thyroxine', 'query on thyroxine', 'on antithyroid medication', 'sick', 'pregnant', 'thyroid surgery', 'I131 treatment', 'query hypothyroid', 'query hyperthyroid', 'lithium', 'goitre', 'tumor', 'hypopituitary', 'psych', 'TSH measured', 'TSH', 'T3 measured', 'T3', 'TT4 measured', 'TT4', 'T4U measured', 'T4U', 'FTI measured', 'FTI', 'TBG measured', 'TBG', 'referral source']\n"
     ]
    }
   ],
   "source": [
    "start_index = find_start_index(contents, 'age:')\n",
    "names = find_attribute_names(contents, start_index)\n",
    "print(f\"Attribute names are: \" + str(names))"
   ]
  },
  {
   "cell_type": "code",
   "execution_count": 119,
   "id": "aae62684",
   "metadata": {},
   "outputs": [],
   "source": [
    "names.append('class')"
   ]
  },
  {
   "cell_type": "code",
   "execution_count": 120,
   "id": "b8e6fea3",
   "metadata": {},
   "outputs": [],
   "source": [
    "data_sick = pd.read_csv(\"/Users/xinyuezhang/ehrapy-datasets/thyroid/archive.ics.uci.edu/ml/machine-learning-databases/thyroid-disease/sick.test\",\n",
    "                   names=names, delimiter=r',')\n",
    "data_sick[[\"class\",\"id\"]] = data_sick[\"class\"].apply(lambda x: pd.Series(str(x).split(\".|\")))"
   ]
  },
  {
   "cell_type": "markdown",
   "id": "7a66ce93",
   "metadata": {},
   "source": [
    "Drop the attribute \"id\" (patient id number) from the original dataset. \\\n",
    "Drop the attribute \"TBG\" because all the data in this column are missing."
   ]
  },
  {
   "cell_type": "code",
   "execution_count": 121,
   "id": "5a1c09e8",
   "metadata": {},
   "outputs": [],
   "source": [
    "data_sick.drop([\"id\"], axis=1, inplace=True)\n",
    "data_sick.drop([\"TBG\"], axis=1, inplace=True)\n",
    "names.remove(\"TBG\")"
   ]
  },
  {
   "cell_type": "markdown",
   "id": "0d05eff2-9aad-4633-ad84-e1ef70ba809c",
   "metadata": {},
   "source": [
    "Add a patient ID."
   ]
  },
  {
   "cell_type": "code",
   "execution_count": 122,
   "id": "de800f0b-7600-42ba-9764-983931ee9e79",
   "metadata": {},
   "outputs": [],
   "source": [
    "data_sick[\"patient_id\"] = range(1, len(data_sick) + 1)"
   ]
  },
  {
   "cell_type": "code",
   "execution_count": 123,
   "id": "214477c5",
   "metadata": {},
   "outputs": [],
   "source": [
    "continuous_attributes = ['age', 'TSH', 'T3', 'TT4', 'T4U', 'FTI']\n",
    "categorical_attributes = [name for name in names if not name in continuous_attributes]\n",
    "assert len(categorical_attributes) + len(continuous_attributes) == len(names)"
   ]
  },
  {
   "cell_type": "markdown",
   "id": "3adc0196",
   "metadata": {},
   "source": [
    "Replace \"?\" with NaN.\\\n",
    "Replace the original encoding ('f', 't') to (0, 1). \\\n",
    "Replace the original encoding ('F', 'M') to (0, 1). \\\n",
    "Replace \"?\"(missing value) with NaN and convert from object type to numeric type."
   ]
  },
  {
   "cell_type": "code",
   "execution_count": 124,
   "id": "dc4ede66",
   "metadata": {},
   "outputs": [],
   "source": [
    "\n",
    "for att in continuous_attributes:\n",
    "    data_sick[att].replace('?', np.NaN, inplace=True)\n",
    "    data_sick[att] = pd.to_numeric(data_sick[att])\n",
    "\n",
    "for att in categorical_attributes:\n",
    "    if att == 'referral source':\n",
    "        break\n",
    "    else:\n",
    "        data_sick[att].replace('?', np.NaN, inplace=True)\n",
    "        data_sick[att].replace(('F', 'M'), (0, 1), inplace=True)\n",
    "        data_sick[att].replace(('f', 't'), (0, 1), inplace=True)\n",
    "        data_sick[att] = pd.to_numeric(data_sick[att])"
   ]
  },
  {
   "cell_type": "code",
   "execution_count": 125,
   "id": "d66f2523-4b35-4418-8f82-6685a8a89ccb",
   "metadata": {},
   "outputs": [],
   "source": [
    "data_sick.set_index(\"patient_id\", inplace=True)"
   ]
  },
  {
   "cell_type": "code",
   "execution_count": 126,
   "id": "d81743a3-5293-478c-ace1-432541797272",
   "metadata": {},
   "outputs": [],
   "source": [
    "data_sick.to_csv(\"thyroid_sick_test_prepared.csv\")"
   ]
  },
  {
   "cell_type": "markdown",
   "id": "4fbebac2-2db5-4906-bada-37631a012142",
   "metadata": {},
   "source": [
    "# ehrapy sanity check"
   ]
  },
  {
   "cell_type": "code",
   "execution_count": 127,
   "id": "bac03d08-f65f-4150-ad85-221ef00685ba",
   "metadata": {},
   "outputs": [],
   "source": [
    "adata = ep.io.read(\"thyroid_allhyper_test_prepared.csv\",\n",
    "                   extension=\"csv\",\n",
    "                   index_column=\"patient_id\")"
   ]
  },
  {
   "cell_type": "code",
   "execution_count": 128,
   "id": "5a4ed60e-dce5-428a-a216-dec60e1948d7",
   "metadata": {},
   "outputs": [
    {
     "data": {
      "text/plain": [
       "Index(['age', 'sex', 'on thyroxine', 'query on thyroxine',\n",
       "       'on antithyroid medication', 'sick', 'pregnant', 'thyroid surgery',\n",
       "       'I131 treatment', 'query hypothyroid', 'query hyperthyroid', 'lithium',\n",
       "       'goitre', 'tumor', 'hypopituitary', 'psych', 'TSH measured', 'TSH',\n",
       "       'T3 measured', 'T3', 'TT4 measured', 'TT4', 'T4U measured', 'T4U',\n",
       "       'FTI measured', 'FTI', 'TBG measured', 'referral source', 'class'],\n",
       "      dtype='object')"
      ]
     },
     "execution_count": 128,
     "metadata": {},
     "output_type": "execute_result"
    }
   ],
   "source": [
    "adata.var_names"
   ]
  },
  {
   "cell_type": "code",
   "execution_count": 129,
   "id": "4ac842aa",
   "metadata": {},
   "outputs": [
    {
     "data": {
      "text/html": [
       "<pre style=\"white-space:pre;overflow-x:auto;line-height:normal;font-family:Menlo,'DejaVu Sans Mono',consolas,'Courier New',monospace\"><span style=\"color: #008000; text-decoration-color: #008000; font-weight: bold\">Variable names for AnnData object with 29 vars and 972 obs</span>                                   \n",
       "<span style=\"color: #0000ff; text-decoration-color: #0000ff\">╚══ </span><span style=\"color: #008000; text-decoration-color: #008000; font-weight: bold\">🔓 Unencoded variables                                                                   </span>\n",
       "<span style=\"color: #0000ff; text-decoration-color: #0000ff\">    ╠══ </span><span style=\"color: #000080; text-decoration-color: #000080; font-weight: bold\">age -&gt; </span><span style=\"color: #008000; text-decoration-color: #008000; font-weight: bold\">data type: </span><span style=\"color: #000080; text-decoration-color: #000080; font-weight: bold\">integer</span><span style=\"color: #008000; text-decoration-color: #008000; font-weight: bold\">                                                            </span>\n",
       "<span style=\"color: #0000ff; text-decoration-color: #0000ff\">    ╠══ </span><span style=\"color: #000080; text-decoration-color: #000080; font-weight: bold\">sex -&gt; </span><span style=\"color: #008000; text-decoration-color: #008000; font-weight: bold\">data type: </span><span style=\"color: #000080; text-decoration-color: #000080; font-weight: bold\">floating</span><span style=\"color: #008000; text-decoration-color: #008000; font-weight: bold\">                                                           </span>\n",
       "<span style=\"color: #0000ff; text-decoration-color: #0000ff\">    ╠══ </span><span style=\"color: #000080; text-decoration-color: #000080; font-weight: bold\">on thyroxine -&gt; </span><span style=\"color: #008000; text-decoration-color: #008000; font-weight: bold\">data type: </span><span style=\"color: #000080; text-decoration-color: #000080; font-weight: bold\">integer</span><span style=\"color: #008000; text-decoration-color: #008000; font-weight: bold\">                                                   </span>\n",
       "<span style=\"color: #0000ff; text-decoration-color: #0000ff\">    ╠══ </span><span style=\"color: #000080; text-decoration-color: #000080; font-weight: bold\">query on thyroxine -&gt; </span><span style=\"color: #008000; text-decoration-color: #008000; font-weight: bold\">data type: </span><span style=\"color: #000080; text-decoration-color: #000080; font-weight: bold\">integer</span><span style=\"color: #008000; text-decoration-color: #008000; font-weight: bold\">                                             </span>\n",
       "<span style=\"color: #0000ff; text-decoration-color: #0000ff\">    ╠══ </span><span style=\"color: #000080; text-decoration-color: #000080; font-weight: bold\">on antithyroid medication -&gt; </span><span style=\"color: #008000; text-decoration-color: #008000; font-weight: bold\">data type: </span><span style=\"color: #000080; text-decoration-color: #000080; font-weight: bold\">integer</span><span style=\"color: #008000; text-decoration-color: #008000; font-weight: bold\">                                      </span>\n",
       "<span style=\"color: #0000ff; text-decoration-color: #0000ff\">    ╠══ </span><span style=\"color: #000080; text-decoration-color: #000080; font-weight: bold\">sick -&gt; </span><span style=\"color: #008000; text-decoration-color: #008000; font-weight: bold\">data type: </span><span style=\"color: #000080; text-decoration-color: #000080; font-weight: bold\">integer</span><span style=\"color: #008000; text-decoration-color: #008000; font-weight: bold\">                                                           </span>\n",
       "<span style=\"color: #0000ff; text-decoration-color: #0000ff\">    ╠══ </span><span style=\"color: #000080; text-decoration-color: #000080; font-weight: bold\">pregnant -&gt; </span><span style=\"color: #008000; text-decoration-color: #008000; font-weight: bold\">data type: </span><span style=\"color: #000080; text-decoration-color: #000080; font-weight: bold\">integer</span><span style=\"color: #008000; text-decoration-color: #008000; font-weight: bold\">                                                       </span>\n",
       "<span style=\"color: #0000ff; text-decoration-color: #0000ff\">    ╠══ </span><span style=\"color: #000080; text-decoration-color: #000080; font-weight: bold\">thyroid surgery -&gt; </span><span style=\"color: #008000; text-decoration-color: #008000; font-weight: bold\">data type: </span><span style=\"color: #000080; text-decoration-color: #000080; font-weight: bold\">integer</span><span style=\"color: #008000; text-decoration-color: #008000; font-weight: bold\">                                                </span>\n",
       "<span style=\"color: #0000ff; text-decoration-color: #0000ff\">    ╠══ </span><span style=\"color: #000080; text-decoration-color: #000080; font-weight: bold\">I131 treatment -&gt; </span><span style=\"color: #008000; text-decoration-color: #008000; font-weight: bold\">data type: </span><span style=\"color: #000080; text-decoration-color: #000080; font-weight: bold\">integer</span><span style=\"color: #008000; text-decoration-color: #008000; font-weight: bold\">                                                 </span>\n",
       "<span style=\"color: #0000ff; text-decoration-color: #0000ff\">    ╠══ </span><span style=\"color: #000080; text-decoration-color: #000080; font-weight: bold\">query hypothyroid -&gt; </span><span style=\"color: #008000; text-decoration-color: #008000; font-weight: bold\">data type: </span><span style=\"color: #000080; text-decoration-color: #000080; font-weight: bold\">integer</span><span style=\"color: #008000; text-decoration-color: #008000; font-weight: bold\">                                              </span>\n",
       "<span style=\"color: #0000ff; text-decoration-color: #0000ff\">    ╠══ </span><span style=\"color: #000080; text-decoration-color: #000080; font-weight: bold\">query hyperthyroid -&gt; </span><span style=\"color: #008000; text-decoration-color: #008000; font-weight: bold\">data type: </span><span style=\"color: #000080; text-decoration-color: #000080; font-weight: bold\">integer</span><span style=\"color: #008000; text-decoration-color: #008000; font-weight: bold\">                                             </span>\n",
       "<span style=\"color: #0000ff; text-decoration-color: #0000ff\">    ╠══ </span><span style=\"color: #000080; text-decoration-color: #000080; font-weight: bold\">lithium -&gt; </span><span style=\"color: #008000; text-decoration-color: #008000; font-weight: bold\">data type: </span><span style=\"color: #000080; text-decoration-color: #000080; font-weight: bold\">integer</span><span style=\"color: #008000; text-decoration-color: #008000; font-weight: bold\">                                                        </span>\n",
       "<span style=\"color: #0000ff; text-decoration-color: #0000ff\">    ╠══ </span><span style=\"color: #000080; text-decoration-color: #000080; font-weight: bold\">goitre -&gt; </span><span style=\"color: #008000; text-decoration-color: #008000; font-weight: bold\">data type: </span><span style=\"color: #000080; text-decoration-color: #000080; font-weight: bold\">integer</span><span style=\"color: #008000; text-decoration-color: #008000; font-weight: bold\">                                                         </span>\n",
       "<span style=\"color: #0000ff; text-decoration-color: #0000ff\">    ╠══ </span><span style=\"color: #000080; text-decoration-color: #000080; font-weight: bold\">tumor -&gt; </span><span style=\"color: #008000; text-decoration-color: #008000; font-weight: bold\">data type: </span><span style=\"color: #000080; text-decoration-color: #000080; font-weight: bold\">integer</span><span style=\"color: #008000; text-decoration-color: #008000; font-weight: bold\">                                                          </span>\n",
       "<span style=\"color: #0000ff; text-decoration-color: #0000ff\">    ╠══ </span><span style=\"color: #000080; text-decoration-color: #000080; font-weight: bold\">hypopituitary -&gt; </span><span style=\"color: #008000; text-decoration-color: #008000; font-weight: bold\">data type: </span><span style=\"color: #000080; text-decoration-color: #000080; font-weight: bold\">integer</span><span style=\"color: #008000; text-decoration-color: #008000; font-weight: bold\">                                                  </span>\n",
       "<span style=\"color: #0000ff; text-decoration-color: #0000ff\">    ╠══ </span><span style=\"color: #000080; text-decoration-color: #000080; font-weight: bold\">psych -&gt; </span><span style=\"color: #008000; text-decoration-color: #008000; font-weight: bold\">data type: </span><span style=\"color: #000080; text-decoration-color: #000080; font-weight: bold\">integer</span><span style=\"color: #008000; text-decoration-color: #008000; font-weight: bold\">                                                          </span>\n",
       "<span style=\"color: #0000ff; text-decoration-color: #0000ff\">    ╠══ </span><span style=\"color: #000080; text-decoration-color: #000080; font-weight: bold\">TSH measured -&gt; </span><span style=\"color: #008000; text-decoration-color: #008000; font-weight: bold\">data type: </span><span style=\"color: #000080; text-decoration-color: #000080; font-weight: bold\">integer</span><span style=\"color: #008000; text-decoration-color: #008000; font-weight: bold\">                                                   </span>\n",
       "<span style=\"color: #0000ff; text-decoration-color: #0000ff\">    ╠══ </span><span style=\"color: #000080; text-decoration-color: #000080; font-weight: bold\">TSH -&gt; </span><span style=\"color: #008000; text-decoration-color: #008000; font-weight: bold\">data type: </span><span style=\"color: #000080; text-decoration-color: #000080; font-weight: bold\">floating</span><span style=\"color: #008000; text-decoration-color: #008000; font-weight: bold\">                                                           </span>\n",
       "<span style=\"color: #0000ff; text-decoration-color: #0000ff\">    ╠══ </span><span style=\"color: #000080; text-decoration-color: #000080; font-weight: bold\">T3 measured -&gt; </span><span style=\"color: #008000; text-decoration-color: #008000; font-weight: bold\">data type: </span><span style=\"color: #000080; text-decoration-color: #000080; font-weight: bold\">integer</span><span style=\"color: #008000; text-decoration-color: #008000; font-weight: bold\">                                                    </span>\n",
       "<span style=\"color: #0000ff; text-decoration-color: #0000ff\">    ╠══ </span><span style=\"color: #000080; text-decoration-color: #000080; font-weight: bold\">T3 -&gt; </span><span style=\"color: #008000; text-decoration-color: #008000; font-weight: bold\">data type: </span><span style=\"color: #000080; text-decoration-color: #000080; font-weight: bold\">floating</span><span style=\"color: #008000; text-decoration-color: #008000; font-weight: bold\">                                                            </span>\n",
       "<span style=\"color: #0000ff; text-decoration-color: #0000ff\">    ╠══ </span><span style=\"color: #000080; text-decoration-color: #000080; font-weight: bold\">TT4 measured -&gt; </span><span style=\"color: #008000; text-decoration-color: #008000; font-weight: bold\">data type: </span><span style=\"color: #000080; text-decoration-color: #000080; font-weight: bold\">integer</span><span style=\"color: #008000; text-decoration-color: #008000; font-weight: bold\">                                                   </span>\n",
       "<span style=\"color: #0000ff; text-decoration-color: #0000ff\">    ╠══ </span><span style=\"color: #000080; text-decoration-color: #000080; font-weight: bold\">TT4 -&gt; </span><span style=\"color: #008000; text-decoration-color: #008000; font-weight: bold\">data type: </span><span style=\"color: #000080; text-decoration-color: #000080; font-weight: bold\">floating</span><span style=\"color: #008000; text-decoration-color: #008000; font-weight: bold\">                                                           </span>\n",
       "<span style=\"color: #0000ff; text-decoration-color: #0000ff\">    ╠══ </span><span style=\"color: #000080; text-decoration-color: #000080; font-weight: bold\">T4U measured -&gt; </span><span style=\"color: #008000; text-decoration-color: #008000; font-weight: bold\">data type: </span><span style=\"color: #000080; text-decoration-color: #000080; font-weight: bold\">integer</span><span style=\"color: #008000; text-decoration-color: #008000; font-weight: bold\">                                                   </span>\n",
       "<span style=\"color: #0000ff; text-decoration-color: #0000ff\">    ╠══ </span><span style=\"color: #000080; text-decoration-color: #000080; font-weight: bold\">T4U -&gt; </span><span style=\"color: #008000; text-decoration-color: #008000; font-weight: bold\">data type: </span><span style=\"color: #000080; text-decoration-color: #000080; font-weight: bold\">floating</span><span style=\"color: #008000; text-decoration-color: #008000; font-weight: bold\">                                                           </span>\n",
       "<span style=\"color: #0000ff; text-decoration-color: #0000ff\">    ╠══ </span><span style=\"color: #000080; text-decoration-color: #000080; font-weight: bold\">FTI measured -&gt; </span><span style=\"color: #008000; text-decoration-color: #008000; font-weight: bold\">data type: </span><span style=\"color: #000080; text-decoration-color: #000080; font-weight: bold\">integer</span><span style=\"color: #008000; text-decoration-color: #008000; font-weight: bold\">                                                   </span>\n",
       "<span style=\"color: #0000ff; text-decoration-color: #0000ff\">    ╠══ </span><span style=\"color: #000080; text-decoration-color: #000080; font-weight: bold\">FTI -&gt; </span><span style=\"color: #008000; text-decoration-color: #008000; font-weight: bold\">data type: </span><span style=\"color: #000080; text-decoration-color: #000080; font-weight: bold\">floating</span><span style=\"color: #008000; text-decoration-color: #008000; font-weight: bold\">                                                           </span>\n",
       "<span style=\"color: #0000ff; text-decoration-color: #0000ff\">    ╠══ </span><span style=\"color: #000080; text-decoration-color: #000080; font-weight: bold\">TBG measured -&gt; </span><span style=\"color: #008000; text-decoration-color: #008000; font-weight: bold\">data type: </span><span style=\"color: #000080; text-decoration-color: #000080; font-weight: bold\">integer</span><span style=\"color: #008000; text-decoration-color: #008000; font-weight: bold\">                                                   </span>\n",
       "<span style=\"color: #0000ff; text-decoration-color: #0000ff\">    ╠══ </span><span style=\"color: #000080; text-decoration-color: #000080; font-weight: bold\">referral source -&gt; </span><span style=\"color: #008000; text-decoration-color: #008000; font-weight: bold\">data type: </span><span style=\"color: #000080; text-decoration-color: #000080; font-weight: bold\">string</span><span style=\"color: #008000; text-decoration-color: #008000; font-weight: bold\">                                                 </span>\n",
       "<span style=\"color: #0000ff; text-decoration-color: #0000ff\">    ╚══ </span><span style=\"color: #000080; text-decoration-color: #000080; font-weight: bold\">class -&gt; </span><span style=\"color: #008000; text-decoration-color: #008000; font-weight: bold\">data type: </span><span style=\"color: #000080; text-decoration-color: #000080; font-weight: bold\">string</span><span style=\"color: #008000; text-decoration-color: #008000; font-weight: bold\">                                                           </span>\n",
       "</pre>\n"
      ],
      "text/plain": [
       "\u001b[1;32mVariable names for AnnData object with 29 vars and 972 obs\u001b[0m                                   \n",
       "\u001b[94m╚══ \u001b[0m\u001b[1;32m🔓 Unencoded variables\u001b[0m\u001b[1;32m                                                                   \u001b[0m\n",
       "\u001b[94m    \u001b[0m\u001b[94m╠══ \u001b[0m\u001b[1;34mage -> \u001b[0m\u001b[1;32mdata type: \u001b[0m\u001b[1;34minteger\u001b[0m\u001b[1;32m                                                            \u001b[0m\n",
       "\u001b[94m    \u001b[0m\u001b[94m╠══ \u001b[0m\u001b[1;34msex -> \u001b[0m\u001b[1;32mdata type: \u001b[0m\u001b[1;34mfloating\u001b[0m\u001b[1;32m                                                           \u001b[0m\n",
       "\u001b[94m    \u001b[0m\u001b[94m╠══ \u001b[0m\u001b[1;34mon thyroxine -> \u001b[0m\u001b[1;32mdata type: \u001b[0m\u001b[1;34minteger\u001b[0m\u001b[1;32m                                                   \u001b[0m\n",
       "\u001b[94m    \u001b[0m\u001b[94m╠══ \u001b[0m\u001b[1;34mquery on thyroxine -> \u001b[0m\u001b[1;32mdata type: \u001b[0m\u001b[1;34minteger\u001b[0m\u001b[1;32m                                             \u001b[0m\n",
       "\u001b[94m    \u001b[0m\u001b[94m╠══ \u001b[0m\u001b[1;34mon antithyroid medication -> \u001b[0m\u001b[1;32mdata type: \u001b[0m\u001b[1;34minteger\u001b[0m\u001b[1;32m                                      \u001b[0m\n",
       "\u001b[94m    \u001b[0m\u001b[94m╠══ \u001b[0m\u001b[1;34msick -> \u001b[0m\u001b[1;32mdata type: \u001b[0m\u001b[1;34minteger\u001b[0m\u001b[1;32m                                                           \u001b[0m\n",
       "\u001b[94m    \u001b[0m\u001b[94m╠══ \u001b[0m\u001b[1;34mpregnant -> \u001b[0m\u001b[1;32mdata type: \u001b[0m\u001b[1;34minteger\u001b[0m\u001b[1;32m                                                       \u001b[0m\n",
       "\u001b[94m    \u001b[0m\u001b[94m╠══ \u001b[0m\u001b[1;34mthyroid surgery -> \u001b[0m\u001b[1;32mdata type: \u001b[0m\u001b[1;34minteger\u001b[0m\u001b[1;32m                                                \u001b[0m\n",
       "\u001b[94m    \u001b[0m\u001b[94m╠══ \u001b[0m\u001b[1;34mI131 treatment -> \u001b[0m\u001b[1;32mdata type: \u001b[0m\u001b[1;34minteger\u001b[0m\u001b[1;32m                                                 \u001b[0m\n",
       "\u001b[94m    \u001b[0m\u001b[94m╠══ \u001b[0m\u001b[1;34mquery hypothyroid -> \u001b[0m\u001b[1;32mdata type: \u001b[0m\u001b[1;34minteger\u001b[0m\u001b[1;32m                                              \u001b[0m\n",
       "\u001b[94m    \u001b[0m\u001b[94m╠══ \u001b[0m\u001b[1;34mquery hyperthyroid -> \u001b[0m\u001b[1;32mdata type: \u001b[0m\u001b[1;34minteger\u001b[0m\u001b[1;32m                                             \u001b[0m\n",
       "\u001b[94m    \u001b[0m\u001b[94m╠══ \u001b[0m\u001b[1;34mlithium -> \u001b[0m\u001b[1;32mdata type: \u001b[0m\u001b[1;34minteger\u001b[0m\u001b[1;32m                                                        \u001b[0m\n",
       "\u001b[94m    \u001b[0m\u001b[94m╠══ \u001b[0m\u001b[1;34mgoitre -> \u001b[0m\u001b[1;32mdata type: \u001b[0m\u001b[1;34minteger\u001b[0m\u001b[1;32m                                                         \u001b[0m\n",
       "\u001b[94m    \u001b[0m\u001b[94m╠══ \u001b[0m\u001b[1;34mtumor -> \u001b[0m\u001b[1;32mdata type: \u001b[0m\u001b[1;34minteger\u001b[0m\u001b[1;32m                                                          \u001b[0m\n",
       "\u001b[94m    \u001b[0m\u001b[94m╠══ \u001b[0m\u001b[1;34mhypopituitary -> \u001b[0m\u001b[1;32mdata type: \u001b[0m\u001b[1;34minteger\u001b[0m\u001b[1;32m                                                  \u001b[0m\n",
       "\u001b[94m    \u001b[0m\u001b[94m╠══ \u001b[0m\u001b[1;34mpsych -> \u001b[0m\u001b[1;32mdata type: \u001b[0m\u001b[1;34minteger\u001b[0m\u001b[1;32m                                                          \u001b[0m\n",
       "\u001b[94m    \u001b[0m\u001b[94m╠══ \u001b[0m\u001b[1;34mTSH measured -> \u001b[0m\u001b[1;32mdata type: \u001b[0m\u001b[1;34minteger\u001b[0m\u001b[1;32m                                                   \u001b[0m\n",
       "\u001b[94m    \u001b[0m\u001b[94m╠══ \u001b[0m\u001b[1;34mTSH -> \u001b[0m\u001b[1;32mdata type: \u001b[0m\u001b[1;34mfloating\u001b[0m\u001b[1;32m                                                           \u001b[0m\n",
       "\u001b[94m    \u001b[0m\u001b[94m╠══ \u001b[0m\u001b[1;34mT3 measured -> \u001b[0m\u001b[1;32mdata type: \u001b[0m\u001b[1;34minteger\u001b[0m\u001b[1;32m                                                    \u001b[0m\n",
       "\u001b[94m    \u001b[0m\u001b[94m╠══ \u001b[0m\u001b[1;34mT3 -> \u001b[0m\u001b[1;32mdata type: \u001b[0m\u001b[1;34mfloating\u001b[0m\u001b[1;32m                                                            \u001b[0m\n",
       "\u001b[94m    \u001b[0m\u001b[94m╠══ \u001b[0m\u001b[1;34mTT4 measured -> \u001b[0m\u001b[1;32mdata type: \u001b[0m\u001b[1;34minteger\u001b[0m\u001b[1;32m                                                   \u001b[0m\n",
       "\u001b[94m    \u001b[0m\u001b[94m╠══ \u001b[0m\u001b[1;34mTT4 -> \u001b[0m\u001b[1;32mdata type: \u001b[0m\u001b[1;34mfloating\u001b[0m\u001b[1;32m                                                           \u001b[0m\n",
       "\u001b[94m    \u001b[0m\u001b[94m╠══ \u001b[0m\u001b[1;34mT4U measured -> \u001b[0m\u001b[1;32mdata type: \u001b[0m\u001b[1;34minteger\u001b[0m\u001b[1;32m                                                   \u001b[0m\n",
       "\u001b[94m    \u001b[0m\u001b[94m╠══ \u001b[0m\u001b[1;34mT4U -> \u001b[0m\u001b[1;32mdata type: \u001b[0m\u001b[1;34mfloating\u001b[0m\u001b[1;32m                                                           \u001b[0m\n",
       "\u001b[94m    \u001b[0m\u001b[94m╠══ \u001b[0m\u001b[1;34mFTI measured -> \u001b[0m\u001b[1;32mdata type: \u001b[0m\u001b[1;34minteger\u001b[0m\u001b[1;32m                                                   \u001b[0m\n",
       "\u001b[94m    \u001b[0m\u001b[94m╠══ \u001b[0m\u001b[1;34mFTI -> \u001b[0m\u001b[1;32mdata type: \u001b[0m\u001b[1;34mfloating\u001b[0m\u001b[1;32m                                                           \u001b[0m\n",
       "\u001b[94m    \u001b[0m\u001b[94m╠══ \u001b[0m\u001b[1;34mTBG measured -> \u001b[0m\u001b[1;32mdata type: \u001b[0m\u001b[1;34minteger\u001b[0m\u001b[1;32m                                                   \u001b[0m\n",
       "\u001b[94m    \u001b[0m\u001b[94m╠══ \u001b[0m\u001b[1;34mreferral source -> \u001b[0m\u001b[1;32mdata type: \u001b[0m\u001b[1;34mstring\u001b[0m\u001b[1;32m                                                 \u001b[0m\n",
       "\u001b[94m    \u001b[0m\u001b[94m╚══ \u001b[0m\u001b[1;34mclass -> \u001b[0m\u001b[1;32mdata type: \u001b[0m\u001b[1;34mstring\u001b[0m\u001b[1;32m                                                           \u001b[0m\n"
      ]
     },
     "metadata": {},
     "output_type": "display_data"
    }
   ],
   "source": [
    "ep.pp.type_overview(adata)"
   ]
  },
  {
   "cell_type": "code",
   "execution_count": 130,
   "id": "a8a0edea",
   "metadata": {},
   "outputs": [
    {
     "data": {
      "text/html": [
       "<pre style=\"white-space:pre;overflow-x:auto;line-height:normal;font-family:Menlo,'DejaVu Sans Mono',consolas,'Courier New',monospace\"></pre>\n"
      ],
      "text/plain": []
     },
     "metadata": {},
     "output_type": "display_data"
    },
    {
     "data": {
      "text/html": [
       "<pre style=\"white-space:pre;overflow-x:auto;line-height:normal;font-family:Menlo,'DejaVu Sans Mono',consolas,'Courier New',monospace\">\n",
       "</pre>\n"
      ],
      "text/plain": [
       "\n"
      ]
     },
     "metadata": {},
     "output_type": "display_data"
    }
   ],
   "source": [
    "adata = ep.pp.encode(\n",
    "    adata, encodings={\"one_hot_encoding\": [\"referral source\", \"class\"]}\n",
    ")"
   ]
  },
  {
   "cell_type": "code",
   "execution_count": 131,
   "id": "3b579bba-930e-4d36-95df-8b37cc2831f6",
   "metadata": {},
   "outputs": [
    {
     "data": {
      "text/html": [
       "<pre style=\"white-space:pre;overflow-x:auto;line-height:normal;font-family:Menlo,'DejaVu Sans Mono',consolas,'Courier New',monospace\"><span style=\"color: #808000; text-decoration-color: #808000; font-weight: bold\">Quality control metrics missing. Calculating...</span>\n",
       "</pre>\n"
      ],
      "text/plain": [
       "\u001b[1;33mQuality control metrics missing. Calculating\u001b[0m\u001b[1;33m...\u001b[0m\n"
      ]
     },
     "metadata": {},
     "output_type": "display_data"
    },
    {
     "data": {
      "text/html": [
       "<pre style=\"white-space:pre;overflow-x:auto;line-height:normal;font-family:Menlo,'DejaVu Sans Mono',consolas,'Courier New',monospace\"><span style=\"color: #808000; text-decoration-color: #808000; font-weight: bold\">scikit-learn-intelex is not available. Install via </span><span style=\"color: #000080; text-decoration-color: #000080; font-weight: bold\">pip install scikit-learn-intelex </span><span style=\"color: #808000; text-decoration-color: #808000; font-weight: bold\"> for </span>\n",
       "<span style=\"color: #808000; text-decoration-color: #808000; font-weight: bold\">faster imputations.</span>\n",
       "</pre>\n"
      ],
      "text/plain": [
       "\u001b[1;33mscikit-learn-intelex is not available. Install via \u001b[0m\u001b[1;34mpip install scikit-learn-intelex \u001b[0m\u001b[1;33m for \u001b[0m\n",
       "\u001b[1;33mfaster imputations.\u001b[0m\n"
      ]
     },
     "metadata": {},
     "output_type": "display_data"
    },
    {
     "data": {
      "text/html": [
       "<pre style=\"white-space:pre;overflow-x:auto;line-height:normal;font-family:Menlo,'DejaVu Sans Mono',consolas,'Courier New',monospace\"></pre>\n"
      ],
      "text/plain": []
     },
     "metadata": {},
     "output_type": "display_data"
    },
    {
     "data": {
      "text/html": [
       "<pre style=\"white-space:pre;overflow-x:auto;line-height:normal;font-family:Menlo,'DejaVu Sans Mono',consolas,'Courier New',monospace\">\n",
       "</pre>\n"
      ],
      "text/plain": [
       "\n"
      ]
     },
     "metadata": {},
     "output_type": "display_data"
    },
    {
     "name": "stderr",
     "output_type": "stream",
     "text": [
      "OMP: Info #271: omp_set_nested routine deprecated, please use omp_set_max_active_levels instead.\n",
      "... storing 'referral source' as categorical\n",
      "... storing 'class' as categorical\n"
     ]
    },
    {
     "data": {
      "image/png": "[encoded data removed]",
      "text/plain": [
       "<Figure size 432x288 with 1 Axes>"
      ]
     },
     "metadata": {},
     "output_type": "display_data"
    }
   ],
   "source": [
    "ep.pp.knn_impute(adata)\n",
    "ep.pp.norm_scale(adata)\n",
    "ep.pp.pca(adata)\n",
    "ep.pp.neighbors(adata)\n",
    "ep.tl.umap(adata)\n",
    "ep.tl.leiden(adata, resolution=0.5, key_added=\"leiden_0_5\")\n",
    "ep.pl.umap(adata, color=[\"leiden_0_5\"], title=\"Leiden 0.5\")"
   ]
  },
  {
   "cell_type": "code",
   "execution_count": 132,
   "id": "d779ed9a-3b7d-4fce-9a70-682b8a383f3f",
   "metadata": {},
   "outputs": [
    {
     "data": {
      "image/png": "[encoded data removed]",
      "text/plain": [
       "<Figure size 756x576 with 3 Axes>"
      ]
     },
     "metadata": {
      "needs_background": "light"
     },
     "output_type": "display_data"
    }
   ],
   "source": [
    "ep.pl.umap(adata, color=[\"age\", \"class\"], ncols=1, wspace=0.75)"
   ]
  }
 ],
 "metadata": {
  "kernelspec": {
   "display_name": "Python 3 (ipykernel)",
   "language": "python",
   "name": "python3"
  },
  "language_info": {
   "codemirror_mode": {
    "name": "ipython",
    "version": 3
   },
   "file_extension": ".py",
   "mimetype": "text/x-python",
   "name": "python",
   "nbconvert_exporter": "python",
   "pygments_lexer": "ipython3",
   "version": "3.8.12"
  }
 },
 "nbformat": 4,
 "nbformat_minor": 5
}

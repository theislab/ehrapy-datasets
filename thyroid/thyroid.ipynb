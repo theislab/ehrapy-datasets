{
 "cells": [
  {
   "cell_type": "markdown",
   "id": "079aa85f",
   "metadata": {},
   "source": [
    "# Thyroid "
   ]
  },
  {
   "cell_type": "code",
   "execution_count": 24,
   "id": "4da506b0",
   "metadata": {},
   "outputs": [],
   "source": [
    "import pandas as pd\n",
    "import ehrapy as ep\n",
    "import ehrdata as ed\n",
    "import numpy as np\n",
    "import warnings\n",
    "import patoolib\n",
    "import os\n",
    "warnings.filterwarnings(\"ignore\")"
   ]
  },
  {
   "cell_type": "code",
   "execution_count": 25,
   "id": "477d7de2",
   "metadata": {},
   "outputs": [],
   "source": [
    "pd.set_option(\"display.max_columns\", None)"
   ]
  },
  {
   "cell_type": "markdown",
   "id": "0afd183c",
   "metadata": {},
   "source": [
    "## Getting the dataset"
   ]
  },
  {
   "cell_type": "code",
   "execution_count": 28,
   "id": "02d907a7",
   "metadata": {},
   "outputs": [
    {
     "name": "stdout",
     "output_type": "stream",
     "text": [
      "\n",
      "\n",
      "\u001b7\u001b[1A\u001b[1G\u001b[27G[Files: 0  Bytes: 0  [0 B/s] Re]\u001b8\u001b7\u001b[2A\u001b[1G\u001b[27G[https://archive.ics.uci.edu/st]\u001b8\u001b7\u001b[1A\u001b[1G\u001b[27G[Files: 0  Bytes: 0  [0 B/s] Re]\u001b8\u001b7\u001b[1S\u001b[3A\u001b[1G\u001b[0JSaving 'thyroid+disease.zip'\n",
      "\u001b8\u001b7\u001b[2A\u001b[1Gthyroid+disease.zip    0% [<=>                           ]  371.86K    --.-KB/s\u001b8\u001b7\u001b[1A\u001b[1G\u001b[27G[Files: 0  Bytes: 0  [0 B/s] Re]\u001b8\u001b7\u001b[2A\u001b[1Gthyroid+disease.zip  100% [=============================>]  614.27K    7.39MB/s\u001b8\u001b7\u001b[1S\u001b[3A\u001b[1G\u001b[0JHTTP response 200 OK [https://archive.ics.uci.edu/static/public/102/thyroid+disease.zip]\n",
      "\u001b8\u001b7\u001b[2A\u001b[1Gthyroid+disease.zip  100% [=============================>]  614.27K    7.39MB/s\u001b8\u001b7\u001b[1A\u001b[1G\u001b[27G[Files: 1  Bytes: 614.27K [302.]\u001b8\u001b[m\u001b[m\u001b[m\u001b[m"
     ]
    },
    {
     "name": "stderr",
     "output_type": "stream",
     "text": [
      "INFO patool: Extracting thyroid+disease.zip ...\n",
      "INFO patool: ... creating output directory `/home/andreas/Helmholtz/ehrapy-datasets/thyroid/thyroid_data'.\n",
      "INFO patool: running /usr/bin/7z x -y -p- -aou -o/home/andreas/Helmholtz/ehrapy-datasets/thyroid/thyroid_data -- thyroid+disease.zip\n",
      "INFO patool: ... thyroid+disease.zip extracted to `/home/andreas/Helmholtz/ehrapy-datasets/thyroid/thyroid_data'.\n"
     ]
    },
    {
     "data": {
      "text/plain": [
       "'/home/andreas/Helmholtz/ehrapy-datasets/thyroid/thyroid_data'"
      ]
     },
     "execution_count": 28,
     "metadata": {},
     "output_type": "execute_result"
    }
   ],
   "source": [
    "!wget -nc https://archive.ics.uci.edu/static/public/102/thyroid+disease.zip\n",
    "base_directory = os.getcwd()\n",
    "extract_directory = os.path.join(\n",
    "    base_directory, \"thyroid_data\")\n",
    "patoolib.extract_archive(\"thyroid+disease.zip\", outdir=extract_directory, interactive = False)"
   ]
  },
  {
   "cell_type": "markdown",
   "id": "adc20880",
   "metadata": {},
   "source": [
    "# Data Wrangling"
   ]
  },
  {
   "cell_type": "markdown",
   "id": "f682614d",
   "metadata": {},
   "source": [
    "Define a helper function to find the start index in names file"
   ]
  },
  {
   "cell_type": "code",
   "execution_count": 29,
   "id": "57e112b1",
   "metadata": {},
   "outputs": [],
   "source": [
    "def find_start_index(txt_lines, start_string):\n",
    "    for i, elem in enumerate(txt_lines):\n",
    "        if start_string in elem:\n",
    "            return i"
   ]
  },
  {
   "cell_type": "markdown",
   "id": "23263e25",
   "metadata": {},
   "source": [
    "Define a helper function to get the attribute names in names file"
   ]
  },
  {
   "cell_type": "code",
   "execution_count": 30,
   "id": "299cca14",
   "metadata": {},
   "outputs": [],
   "source": [
    "def find_attribute_names(txt_lines, start_index):\n",
    "    attribute_names = []\n",
    "    for line in txt_lines[start_index:]:\n",
    "        line = line.split(':')\n",
    "        attribute_names.append(line[0])\n",
    "    return attribute_names"
   ]
  },
  {
   "cell_type": "code",
   "execution_count": 31,
   "id": "64633d90",
   "metadata": {},
   "outputs": [],
   "source": [
    "base_directory = os.getcwd()\n",
    "directory = os.path.join(\n",
    "    base_directory, \"thyroid_data\")"
   ]
  },
  {
   "cell_type": "markdown",
   "id": "f1a1cfe6",
   "metadata": {},
   "source": [
    "## Thyroid-allbp dataset"
   ]
  },
  {
   "cell_type": "markdown",
   "id": "0e07bf77",
   "metadata": {},
   "source": [
    "### Train set"
   ]
  },
  {
   "cell_type": "code",
   "execution_count": 32,
   "id": "3ab96aac",
   "metadata": {},
   "outputs": [],
   "source": [
    "with open(os.path.join(directory, \"allbp.names\")) as f:\n",
    "    contents = f.readlines()"
   ]
  },
  {
   "cell_type": "code",
   "execution_count": 33,
   "id": "905dddf6",
   "metadata": {},
   "outputs": [
    {
     "name": "stdout",
     "output_type": "stream",
     "text": [
      "Attribute names are: ['age', 'sex', 'on thyroxine', 'query on thyroxine', 'on antithyroid medication', 'sick', 'pregnant', 'thyroid surgery', 'I131 treatment', 'query hypothyroid', 'query hyperthyroid', 'lithium', 'goitre', 'tumor', 'hypopituitary', 'psych', 'TSH measured', 'TSH', 'T3 measured', 'T3', 'TT4 measured', 'TT4', 'T4U measured', 'T4U', 'FTI measured', 'FTI', 'TBG measured', 'TBG', 'referral source']\n"
     ]
    }
   ],
   "source": [
    "start_index = find_start_index(contents, 'age:')\n",
    "names = find_attribute_names(contents, start_index)\n",
    "print(f\"Attribute names are: \" + str(names))"
   ]
  },
  {
   "cell_type": "code",
   "execution_count": 34,
   "id": "f681fea9",
   "metadata": {},
   "outputs": [],
   "source": [
    "names.append('class')"
   ]
  },
  {
   "cell_type": "code",
   "execution_count": 35,
   "id": "6d11dadb",
   "metadata": {},
   "outputs": [],
   "source": [
    "data_allbp = pd.read_csv(os.path.join(directory, \"allbp.data\"),\n",
    "                         names=names, delimiter=r',')\n",
    "data_allbp[[\"class\", \"id\"]] = data_allbp[\"class\"].apply(\n",
    "    lambda x: pd.Series(str(x).split(\".|\")))"
   ]
  },
  {
   "cell_type": "markdown",
   "id": "0ef8f2ca",
   "metadata": {},
   "source": [
    "Drop the attribute \"id\" (patient id number) from the original dataset.  \n",
    "Drop the attribute \"TBG\" because all the data in this column are missing."
   ]
  },
  {
   "cell_type": "code",
   "execution_count": 36,
   "id": "ea5eeab8",
   "metadata": {},
   "outputs": [],
   "source": [
    "data_allbp.drop([\"id\"], axis=1, inplace=True)\n",
    "data_allbp.drop([\"TBG\"], axis=1, inplace=True)\n",
    "names.remove(\"TBG\")"
   ]
  },
  {
   "cell_type": "markdown",
   "id": "7fd91e1c",
   "metadata": {},
   "source": [
    "Add a patient ID."
   ]
  },
  {
   "cell_type": "code",
   "execution_count": 37,
   "id": "6de88f31",
   "metadata": {},
   "outputs": [],
   "source": [
    "data_allbp[\"patient_id\"] = range(1, len(data_allbp) + 1)"
   ]
  },
  {
   "cell_type": "code",
   "execution_count": 39,
   "id": "b21bfe50",
   "metadata": {},
   "outputs": [],
   "source": [
    "continuous_attributes = ['age', 'TSH', 'T3', 'TT4', 'T4U', 'FTI']\n",
    "categorical_attributes = [\n",
    "    name for name in names if not name in continuous_attributes]\n",
    "assert len(categorical_attributes) + len(continuous_attributes) == len(names)\n"
   ]
  },
  {
   "cell_type": "markdown",
   "id": "3ee76915",
   "metadata": {},
   "source": [
    "Replace \"?\" with NaN.  \n",
    "Replace the original encoding ('f', 't') to (0, 1).  \n",
    "Replace the original encoding ('F', 'M') to (0, 1).  \n",
    "Replace \"?\"(missing value) with NaN and convert from object type to numeric type."
   ]
  },
  {
   "cell_type": "code",
   "execution_count": 40,
   "id": "ebbadbb4",
   "metadata": {},
   "outputs": [],
   "source": [
    "for att in continuous_attributes:\n",
    "    data_allbp[att].replace('?', np.nan, inplace=True)\n",
    "    data_allbp[att] = pd.to_numeric(data_allbp[att])\n",
    "\n",
    "for att in categorical_attributes:\n",
    "    if att == 'referral source':\n",
    "        break\n",
    "    else:\n",
    "        data_allbp[att].replace('?', np.nan, inplace=True)\n",
    "        data_allbp[att].replace(('F', 'M'), (0, 1), inplace=True)\n",
    "        data_allbp[att].replace(('f', 't'), (0, 1), inplace=True)\n",
    "        data_allbp[att] = pd.to_numeric(data_allbp[att])"
   ]
  },
  {
   "cell_type": "code",
   "execution_count": 41,
   "id": "1762f2a7",
   "metadata": {},
   "outputs": [],
   "source": [
    "data_allbp.set_index(\"patient_id\", inplace=True)"
   ]
  },
  {
   "cell_type": "code",
   "execution_count": 42,
   "id": "27b0ef78",
   "metadata": {},
   "outputs": [],
   "source": [
    "data_allbp.to_csv(\"thyroid_allbp_train_prepared.csv\")"
   ]
  },
  {
   "cell_type": "markdown",
   "id": "d1dfad12",
   "metadata": {},
   "source": [
    "### Test set"
   ]
  },
  {
   "cell_type": "code",
   "execution_count": 43,
   "id": "3a7f7b13",
   "metadata": {},
   "outputs": [],
   "source": [
    "with open(os.path.join(directory, \"allbp.names\")) as f:\n",
    "    contents = f.readlines()"
   ]
  },
  {
   "cell_type": "code",
   "execution_count": 44,
   "id": "31458304",
   "metadata": {},
   "outputs": [
    {
     "name": "stdout",
     "output_type": "stream",
     "text": [
      "Attribute names are: ['age', 'sex', 'on thyroxine', 'query on thyroxine', 'on antithyroid medication', 'sick', 'pregnant', 'thyroid surgery', 'I131 treatment', 'query hypothyroid', 'query hyperthyroid', 'lithium', 'goitre', 'tumor', 'hypopituitary', 'psych', 'TSH measured', 'TSH', 'T3 measured', 'T3', 'TT4 measured', 'TT4', 'T4U measured', 'T4U', 'FTI measured', 'FTI', 'TBG measured', 'TBG', 'referral source']\n"
     ]
    }
   ],
   "source": [
    "start_index = find_start_index(contents, 'age:')\n",
    "names = find_attribute_names(contents, start_index)\n",
    "print(f\"Attribute names are: \" + str(names))"
   ]
  },
  {
   "cell_type": "code",
   "execution_count": 45,
   "id": "c9e17915",
   "metadata": {},
   "outputs": [],
   "source": [
    "names.append('class')"
   ]
  },
  {
   "cell_type": "code",
   "execution_count": 46,
   "id": "48d6e3aa",
   "metadata": {},
   "outputs": [],
   "source": [
    "data_allbp = pd.read_csv(os.path.join(directory, \"allbp.test\"),\n",
    "                         names=names, delimiter=r',')\n",
    "data_allbp[[\"class\", \"id\"]] = data_allbp[\"class\"].apply(\n",
    "    lambda x: pd.Series(str(x).split(\".|\")))"
   ]
  },
  {
   "cell_type": "markdown",
   "id": "5b4c4358",
   "metadata": {},
   "source": [
    "Drop the attribute \"id\" (patient id number) from the original dataset.  \n",
    "Drop the attribute \"TBG\" because all the data in this column are missing."
   ]
  },
  {
   "cell_type": "code",
   "execution_count": 47,
   "id": "c1b41dfb",
   "metadata": {},
   "outputs": [],
   "source": [
    "data_allbp.drop([\"id\"], axis=1, inplace=True)\n",
    "data_allbp.drop([\"TBG\"], axis=1, inplace=True)\n",
    "names.remove(\"TBG\")"
   ]
  },
  {
   "cell_type": "markdown",
   "id": "3ad89ba9",
   "metadata": {},
   "source": [
    "Add a patient ID."
   ]
  },
  {
   "cell_type": "code",
   "execution_count": 48,
   "id": "2ae0373b",
   "metadata": {},
   "outputs": [],
   "source": [
    "data_allbp[\"patient_id\"] = range(1, len(data_allbp) + 1)"
   ]
  },
  {
   "cell_type": "code",
   "execution_count": 49,
   "id": "67297b89",
   "metadata": {},
   "outputs": [],
   "source": [
    "continuous_attributes = ['age', 'TSH', 'T3', 'TT4', 'T4U', 'FTI']\n",
    "categorical_attributes = [\n",
    "    name for name in names if not name in continuous_attributes]\n",
    "assert len(categorical_attributes) + len(continuous_attributes) == len(names)"
   ]
  },
  {
   "cell_type": "markdown",
   "id": "07b3220d",
   "metadata": {},
   "source": [
    "Replace \"?\" with NaN.  \n",
    "Replace the original encoding ('f', 't') to (0, 1).  \n",
    "Replace the original encoding ('F', 'M') to (0, 1).  \n",
    "Replace \"?\"(missing value) with NaN and convert from object type to numeric type."
   ]
  },
  {
   "cell_type": "code",
   "execution_count": 50,
   "id": "dc7d2869",
   "metadata": {},
   "outputs": [],
   "source": [
    "for att in continuous_attributes:\n",
    "    data_allbp[att].replace('?', np.nan, inplace=True)\n",
    "    data_allbp[att] = pd.to_numeric(data_allbp[att])\n",
    "\n",
    "for att in categorical_attributes:\n",
    "    if att == 'referral source':\n",
    "        break\n",
    "    else:\n",
    "        data_allbp[att].replace('?', np.nan, inplace=True)\n",
    "        data_allbp[att].replace(('F', 'M'), (0, 1), inplace=True)\n",
    "        data_allbp[att].replace(('f', 't'), (0, 1), inplace=True)\n",
    "        data_allbp[att] = pd.to_numeric(data_allbp[att])"
   ]
  },
  {
   "cell_type": "code",
   "execution_count": 51,
   "id": "d54e69b6",
   "metadata": {},
   "outputs": [],
   "source": [
    "data_allbp.set_index(\"patient_id\", inplace=True)"
   ]
  },
  {
   "cell_type": "code",
   "execution_count": 52,
   "id": "af78429b",
   "metadata": {},
   "outputs": [],
   "source": [
    "data_allbp.to_csv(\"thyroid_allbp_test_prepared.csv\")"
   ]
  },
  {
   "cell_type": "markdown",
   "id": "138e3db8",
   "metadata": {},
   "source": [
    "## Thyroid-allhyper dataset"
   ]
  },
  {
   "cell_type": "markdown",
   "id": "e8773322",
   "metadata": {},
   "source": [
    "### Train set"
   ]
  },
  {
   "cell_type": "code",
   "execution_count": 53,
   "id": "b2c7875c",
   "metadata": {},
   "outputs": [],
   "source": [
    "with open(os.path.join(directory, \"allhyper.names\")) as f:\n",
    "    contents = f.readlines()"
   ]
  },
  {
   "cell_type": "code",
   "execution_count": 54,
   "id": "6a18b9f7",
   "metadata": {},
   "outputs": [
    {
     "name": "stdout",
     "output_type": "stream",
     "text": [
      "Attribute names are: ['age', 'sex', 'on thyroxine', 'query on thyroxine', 'on antithyroid medication', 'sick', 'pregnant', 'thyroid surgery', 'I131 treatment', 'query hypothyroid', 'query hyperthyroid', 'lithium', 'goitre', 'tumor', 'hypopituitary', 'psych', 'TSH measured', 'TSH', 'T3 measured', 'T3', 'TT4 measured', 'TT4', 'T4U measured', 'T4U', 'FTI measured', 'FTI', 'TBG measured', 'TBG', 'referral source']\n"
     ]
    }
   ],
   "source": [
    "start_index = find_start_index(contents, 'age:')\n",
    "names = find_attribute_names(contents, start_index)\n",
    "print(f\"Attribute names are: \" + str(names))"
   ]
  },
  {
   "cell_type": "code",
   "execution_count": 55,
   "id": "711f9af6",
   "metadata": {},
   "outputs": [],
   "source": [
    "names.append('class')"
   ]
  },
  {
   "cell_type": "code",
   "execution_count": 56,
   "id": "b085800f",
   "metadata": {},
   "outputs": [],
   "source": [
    "data_allhyper = pd.read_csv(os.path.join(directory, \"allhyper.data\"),\n",
    "                            names=names, delimiter=r',')\n",
    "data_allhyper[[\"class\", \"id\"]] = data_allhyper[\"class\"].apply(\n",
    "    lambda x: pd.Series(str(x).split(\".|\")))\n"
   ]
  },
  {
   "cell_type": "markdown",
   "id": "0d45904f",
   "metadata": {},
   "source": [
    "Drop the attribute \"id\" (patient id number) from the original dataset. \\\n",
    "Drop the attribute \"TBG\" because all the data in this column are missing."
   ]
  },
  {
   "cell_type": "code",
   "execution_count": 57,
   "id": "72b3d095",
   "metadata": {},
   "outputs": [],
   "source": [
    "data_allhyper.drop([\"id\"], axis=1, inplace=True)\n",
    "data_allhyper.drop([\"TBG\"], axis=1, inplace=True)\n",
    "names.remove(\"TBG\")"
   ]
  },
  {
   "cell_type": "markdown",
   "id": "7e90afba",
   "metadata": {},
   "source": [
    "Add a patient ID."
   ]
  },
  {
   "cell_type": "code",
   "execution_count": 58,
   "id": "48ebd382",
   "metadata": {},
   "outputs": [],
   "source": [
    "data_allhyper[\"patient_id\"] = range(1, len(data_allhyper) + 1)"
   ]
  },
  {
   "cell_type": "code",
   "execution_count": 59,
   "id": "ce3b155d",
   "metadata": {},
   "outputs": [],
   "source": [
    "continuous_attributes = ['age', 'TSH', 'T3', 'TT4', 'T4U', 'FTI']\n",
    "categorical_attributes = [\n",
    "    name for name in names if not name in continuous_attributes]\n",
    "assert len(categorical_attributes) + len(continuous_attributes) == len(names)\n"
   ]
  },
  {
   "cell_type": "markdown",
   "id": "e2e5f9d5",
   "metadata": {},
   "source": [
    "Replace \"?\" with NaN.\\\n",
    "Replace the original encoding ('f', 't') to (0, 1). \\\n",
    "Replace the original encoding ('F', 'M') to (0, 1). \\\n",
    "Replace \"?\"(missing value) with NaN and convert from object type to numeric type."
   ]
  },
  {
   "cell_type": "code",
   "execution_count": 60,
   "id": "01e47954",
   "metadata": {},
   "outputs": [],
   "source": [
    "for att in continuous_attributes:\n",
    "    data_allhyper[att].replace('?', np.nan, inplace=True)\n",
    "    data_allhyper[att] = pd.to_numeric(data_allhyper[att])\n",
    "\n",
    "for att in categorical_attributes:\n",
    "    if att == 'referral source':\n",
    "        break\n",
    "    else:\n",
    "        data_allhyper[att].replace('?', np.nan, inplace=True)\n",
    "        data_allhyper[att].replace(('F', 'M'), (0, 1), inplace=True)\n",
    "        data_allhyper[att].replace(('f', 't'), (0, 1), inplace=True)\n",
    "        data_allhyper[att] = pd.to_numeric(data_allhyper[att])"
   ]
  },
  {
   "cell_type": "code",
   "execution_count": 61,
   "id": "bf467231",
   "metadata": {},
   "outputs": [],
   "source": [
    "data_allhyper.set_index(\"patient_id\", inplace=True)"
   ]
  },
  {
   "cell_type": "code",
   "execution_count": 62,
   "id": "6d823e13",
   "metadata": {},
   "outputs": [],
   "source": [
    "data_allhyper = data_allhyper.assign(dataset_name=\"allhyper\")"
   ]
  },
  {
   "cell_type": "code",
   "execution_count": 63,
   "id": "d5a1e095",
   "metadata": {},
   "outputs": [],
   "source": [
    "data_allhyper.to_csv(\"thyroid_allhyper_train_prepared.csv\")"
   ]
  },
  {
   "cell_type": "markdown",
   "id": "65dc3dbb",
   "metadata": {},
   "source": [
    "### Test set"
   ]
  },
  {
   "cell_type": "code",
   "execution_count": 64,
   "id": "c167e1ea",
   "metadata": {},
   "outputs": [],
   "source": [
    "with open(os.path.join(directory, \"allhyper.names\")) as f:\n",
    "    contents = f.readlines()"
   ]
  },
  {
   "cell_type": "code",
   "execution_count": 65,
   "id": "d093b521",
   "metadata": {},
   "outputs": [
    {
     "name": "stdout",
     "output_type": "stream",
     "text": [
      "Attribute names are: ['age', 'sex', 'on thyroxine', 'query on thyroxine', 'on antithyroid medication', 'sick', 'pregnant', 'thyroid surgery', 'I131 treatment', 'query hypothyroid', 'query hyperthyroid', 'lithium', 'goitre', 'tumor', 'hypopituitary', 'psych', 'TSH measured', 'TSH', 'T3 measured', 'T3', 'TT4 measured', 'TT4', 'T4U measured', 'T4U', 'FTI measured', 'FTI', 'TBG measured', 'TBG', 'referral source']\n"
     ]
    }
   ],
   "source": [
    "start_index = find_start_index(contents, 'age:')\n",
    "names = find_attribute_names(contents, start_index)\n",
    "print(f\"Attribute names are: \" + str(names))"
   ]
  },
  {
   "cell_type": "code",
   "execution_count": 66,
   "id": "32f82146",
   "metadata": {},
   "outputs": [],
   "source": [
    "names.append('class')"
   ]
  },
  {
   "cell_type": "code",
   "execution_count": 67,
   "id": "61c7115d",
   "metadata": {},
   "outputs": [],
   "source": [
    "data_allhyper = pd.read_csv(os.path.join(directory, \"allhyper.test\"),\n",
    "                            names=names, delimiter=r',')\n",
    "data_allhyper[[\"class\", \"id\"]] = data_allhyper[\"class\"].apply(\n",
    "    lambda x: pd.Series(str(x).split(\".|\")))"
   ]
  },
  {
   "cell_type": "markdown",
   "id": "fa743ddb",
   "metadata": {},
   "source": [
    "Drop the attribute \"id\" (patient id number) from the original dataset. \\\n",
    "Drop the attribute \"TBG\" because all the data in this column are missing."
   ]
  },
  {
   "cell_type": "code",
   "execution_count": 68,
   "id": "a2de16d8",
   "metadata": {},
   "outputs": [],
   "source": [
    "data_allhyper.drop([\"id\"], axis=1, inplace=True)\n",
    "data_allhyper.drop([\"TBG\"], axis=1, inplace=True)\n",
    "names.remove(\"TBG\")"
   ]
  },
  {
   "cell_type": "markdown",
   "id": "c99436b9",
   "metadata": {},
   "source": [
    "Add a patient ID."
   ]
  },
  {
   "cell_type": "code",
   "execution_count": 69,
   "id": "54dbf099",
   "metadata": {},
   "outputs": [],
   "source": [
    "data_allhyper[\"patient_id\"] = range(1, len(data_allhyper) + 1)"
   ]
  },
  {
   "cell_type": "code",
   "execution_count": 70,
   "id": "8b58b933",
   "metadata": {},
   "outputs": [],
   "source": [
    "continuous_attributes = ['age', 'TSH', 'T3', 'TT4', 'T4U', 'FTI']\n",
    "categorical_attributes = [\n",
    "    name for name in names if not name in continuous_attributes]\n",
    "assert len(categorical_attributes) + len(continuous_attributes) == len(names)"
   ]
  },
  {
   "cell_type": "markdown",
   "id": "786345ba",
   "metadata": {},
   "source": [
    "Replace \"?\" with NaN.\\\n",
    "Replace the original encoding ('f', 't') to (0, 1). \\\n",
    "Replace the original encoding ('F', 'M') to (0, 1). \\\n",
    "Replace \"?\"(missing value) with NaN and convert from object type to numeric type."
   ]
  },
  {
   "cell_type": "code",
   "execution_count": 71,
   "id": "b5e60e3d",
   "metadata": {},
   "outputs": [],
   "source": [
    "for att in continuous_attributes:\n",
    "    data_allhyper[att].replace('?', np.nan, inplace=True)\n",
    "    data_allhyper[att] = pd.to_numeric(data_allhyper[att])\n",
    "\n",
    "for att in categorical_attributes:\n",
    "    if att == 'referral source':\n",
    "        break\n",
    "    else:\n",
    "        data_allhyper[att].replace('?', np.nan, inplace=True)\n",
    "        data_allhyper[att].replace(('F', 'M'), (0, 1), inplace=True)\n",
    "        data_allhyper[att].replace(('f', 't'), (0, 1), inplace=True)\n",
    "        data_allhyper[att] = pd.to_numeric(data_allhyper[att])"
   ]
  },
  {
   "cell_type": "code",
   "execution_count": 72,
   "id": "2db3d7eb",
   "metadata": {},
   "outputs": [],
   "source": [
    "data_allhyper.set_index(\"patient_id\", inplace=True)"
   ]
  },
  {
   "cell_type": "code",
   "execution_count": 73,
   "id": "a3054eaa",
   "metadata": {},
   "outputs": [],
   "source": [
    "data_allhyper.to_csv(\"thyroid_allhyper_test_prepared.csv\")"
   ]
  },
  {
   "cell_type": "markdown",
   "id": "551a1cbd",
   "metadata": {},
   "source": [
    "## Thyroid-allhypo dataset"
   ]
  },
  {
   "cell_type": "markdown",
   "id": "239bddfe",
   "metadata": {},
   "source": [
    "### Train set"
   ]
  },
  {
   "cell_type": "code",
   "execution_count": 74,
   "id": "748564b5",
   "metadata": {},
   "outputs": [],
   "source": [
    "with open(os.path.join(directory, \"allhypo.names\")) as f:\n",
    "    contents = f.readlines()"
   ]
  },
  {
   "cell_type": "code",
   "execution_count": 75,
   "id": "98e23e7f",
   "metadata": {},
   "outputs": [
    {
     "name": "stdout",
     "output_type": "stream",
     "text": [
      "Attribute names are: ['age', 'sex', 'on thyroxine', 'query on thyroxine', 'on antithyroid medication', 'sick', 'pregnant', 'thyroid surgery', 'I131 treatment', 'query hypothyroid', 'query hyperthyroid', 'lithium', 'goitre', 'tumor', 'hypopituitary', 'psych', 'TSH measured', 'TSH', 'T3 measured', 'T3', 'TT4 measured', 'TT4', 'T4U measured', 'T4U', 'FTI measured', 'FTI', 'TBG measured', 'TBG', 'referral source']\n"
     ]
    }
   ],
   "source": [
    "start_index = find_start_index(contents, 'age:')\n",
    "names = find_attribute_names(contents, start_index)\n",
    "print(f\"Attribute names are: {str(names)}\")"
   ]
  },
  {
   "cell_type": "code",
   "execution_count": 76,
   "id": "445927e9",
   "metadata": {},
   "outputs": [],
   "source": [
    "names.append('class')"
   ]
  },
  {
   "cell_type": "code",
   "execution_count": 77,
   "id": "987643de",
   "metadata": {},
   "outputs": [],
   "source": [
    "data_allhypo = pd.read_csv(os.path.join(directory, \"allhypo.data\"),\n",
    "                           names=names, delimiter=r',')\n",
    "data_allhypo[[\"class\", \"id\"]] = data_allhypo[\"class\"].apply(\n",
    "    lambda x: pd.Series(str(x).split(\".|\")))"
   ]
  },
  {
   "cell_type": "markdown",
   "id": "a49c25a2",
   "metadata": {},
   "source": [
    "Drop the attribute \"id\" (patient id number) from the original dataset. \\\n",
    "Drop the attribute \"TBG\" because all the data in this column are missing."
   ]
  },
  {
   "cell_type": "code",
   "execution_count": 78,
   "id": "b1161036",
   "metadata": {},
   "outputs": [],
   "source": [
    "data_allhypo.drop([\"id\"], axis=1, inplace=True)\n",
    "data_allhypo.drop([\"TBG\"], axis=1, inplace=True)\n",
    "names.remove(\"TBG\")"
   ]
  },
  {
   "cell_type": "markdown",
   "id": "86d12217",
   "metadata": {},
   "source": [
    "Add a patient ID."
   ]
  },
  {
   "cell_type": "code",
   "execution_count": 79,
   "id": "11f9537c",
   "metadata": {},
   "outputs": [],
   "source": [
    "data_allhypo[\"patient_id\"] = range(1, len(data_allhypo) + 1)"
   ]
  },
  {
   "cell_type": "code",
   "execution_count": 80,
   "id": "645c054e",
   "metadata": {},
   "outputs": [],
   "source": [
    "continuous_attributes = ['age', 'TSH', 'T3', 'TT4', 'T4U', 'FTI']\n",
    "categorical_attributes = [\n",
    "    name for name in names if not name in continuous_attributes]\n",
    "assert len(categorical_attributes) + len(continuous_attributes) == len(names)"
   ]
  },
  {
   "cell_type": "markdown",
   "id": "f044a1c6",
   "metadata": {},
   "source": [
    "Replace \"?\" with NaN.\\\n",
    "Replace the original encoding ('f', 't') to (0, 1). \\\n",
    "Replace the original encoding ('F', 'M') to (0, 1). \\\n",
    "Replace \"?\"(missing value) with NaN and convert from object type to numeric type."
   ]
  },
  {
   "cell_type": "code",
   "execution_count": 81,
   "id": "a28d8d85",
   "metadata": {},
   "outputs": [],
   "source": [
    "for att in continuous_attributes:\n",
    "    data_allhypo[att].replace('?', np.nan, inplace=True)\n",
    "    data_allhypo[att] = pd.to_numeric(data_allhypo[att])\n",
    "\n",
    "for att in categorical_attributes:\n",
    "    if att == 'referral source':\n",
    "        break\n",
    "    else:\n",
    "        data_allhypo[att].replace('?', np.nan, inplace=True)\n",
    "        data_allhypo[att].replace(('F', 'M'), (0, 1), inplace=True)\n",
    "        data_allhypo[att].replace(('f', 't'), (0, 1), inplace=True)\n",
    "        data_allhypo[att] = pd.to_numeric(data_allhypo[att])"
   ]
  },
  {
   "cell_type": "code",
   "execution_count": 82,
   "id": "416d2e14",
   "metadata": {},
   "outputs": [],
   "source": [
    "data_allhypo.set_index(\"patient_id\", inplace=True)"
   ]
  },
  {
   "cell_type": "code",
   "execution_count": 83,
   "id": "2c0fd6ea",
   "metadata": {},
   "outputs": [],
   "source": [
    "data_allhypo.to_csv(\"thyroid_allhypo_train_prepared.csv\")"
   ]
  },
  {
   "cell_type": "markdown",
   "id": "7aafb092",
   "metadata": {},
   "source": [
    "### Test set"
   ]
  },
  {
   "cell_type": "code",
   "execution_count": 84,
   "id": "13b93d94",
   "metadata": {},
   "outputs": [],
   "source": [
    "with open(os.path.join(directory, \"allhypo.names\")) as f:\n",
    "    contents = f.readlines()"
   ]
  },
  {
   "cell_type": "code",
   "execution_count": 85,
   "id": "4c6d6caa",
   "metadata": {},
   "outputs": [
    {
     "name": "stdout",
     "output_type": "stream",
     "text": [
      "Attribute names are: ['age', 'sex', 'on thyroxine', 'query on thyroxine', 'on antithyroid medication', 'sick', 'pregnant', 'thyroid surgery', 'I131 treatment', 'query hypothyroid', 'query hyperthyroid', 'lithium', 'goitre', 'tumor', 'hypopituitary', 'psych', 'TSH measured', 'TSH', 'T3 measured', 'T3', 'TT4 measured', 'TT4', 'T4U measured', 'T4U', 'FTI measured', 'FTI', 'TBG measured', 'TBG', 'referral source']\n"
     ]
    }
   ],
   "source": [
    "start_index = find_start_index(contents, 'age:')\n",
    "names = find_attribute_names(contents, start_index)\n",
    "print(f\"Attribute names are: {str(names)}\")"
   ]
  },
  {
   "cell_type": "code",
   "execution_count": 86,
   "id": "a07c5110",
   "metadata": {},
   "outputs": [],
   "source": [
    "names.append('class')"
   ]
  },
  {
   "cell_type": "code",
   "execution_count": 87,
   "id": "57ea27d1",
   "metadata": {},
   "outputs": [],
   "source": [
    "data_allhypo = pd.read_csv(os.path.join(directory, \"allhypo.test\"),\n",
    "                           names=names, delimiter=r',')\n",
    "data_allhypo[[\"class\", \"id\"]] = data_allhypo[\"class\"].apply(\n",
    "    lambda x: pd.Series(str(x).split(\".|\")))"
   ]
  },
  {
   "cell_type": "markdown",
   "id": "64efab89",
   "metadata": {},
   "source": [
    "Drop the attribute \"id\" (patient id number) from the original dataset. \\\n",
    "Drop the attribute \"TBG\" because all the data in this column are missing."
   ]
  },
  {
   "cell_type": "code",
   "execution_count": 88,
   "id": "fa55f903",
   "metadata": {},
   "outputs": [],
   "source": [
    "data_allhypo.drop([\"id\"], axis=1, inplace=True)\n",
    "data_allhypo.drop([\"TBG\"], axis=1, inplace=True)\n",
    "names.remove(\"TBG\")"
   ]
  },
  {
   "cell_type": "markdown",
   "id": "2530d03e",
   "metadata": {},
   "source": [
    "Add a patient ID."
   ]
  },
  {
   "cell_type": "code",
   "execution_count": 89,
   "id": "270d72e0",
   "metadata": {},
   "outputs": [],
   "source": [
    "data_allhypo[\"patient_id\"] = range(1, len(data_allhypo) + 1)"
   ]
  },
  {
   "cell_type": "code",
   "execution_count": 90,
   "id": "eafddc39",
   "metadata": {},
   "outputs": [],
   "source": [
    "continuous_attributes = ['age', 'TSH', 'T3', 'TT4', 'T4U', 'FTI']\n",
    "categorical_attributes = [\n",
    "    name for name in names if not name in continuous_attributes]\n",
    "assert len(categorical_attributes) + len(continuous_attributes) == len(names)"
   ]
  },
  {
   "cell_type": "markdown",
   "id": "7a6206c1",
   "metadata": {},
   "source": [
    "Replace \"?\" with NaN.\\\n",
    "Replace the original encoding ('f', 't') to (0, 1). \\\n",
    "Replace the original encoding ('F', 'M') to (0, 1). \\\n",
    "Replace \"?\"(missing value) with NaN and convert from object type to numeric type."
   ]
  },
  {
   "cell_type": "code",
   "execution_count": 91,
   "id": "b530b2df",
   "metadata": {},
   "outputs": [],
   "source": [
    "for att in continuous_attributes:\n",
    "    data_allhypo[att].replace('?', np.nan, inplace=True)\n",
    "    data_allhypo[att] = pd.to_numeric(data_allhypo[att])\n",
    "\n",
    "for att in categorical_attributes:\n",
    "    if att == 'referral source':\n",
    "        break\n",
    "    else:\n",
    "        data_allhypo[att].replace('?', np.nan, inplace=True)\n",
    "        data_allhypo[att].replace(('F', 'M'), (0, 1), inplace=True)\n",
    "        data_allhypo[att].replace(('f', 't'), (0, 1), inplace=True)\n",
    "        data_allhypo[att] = pd.to_numeric(data_allhypo[att])"
   ]
  },
  {
   "cell_type": "code",
   "execution_count": 92,
   "id": "e9a64cfa",
   "metadata": {},
   "outputs": [],
   "source": [
    "data_allhypo.set_index(\"patient_id\", inplace=True)"
   ]
  },
  {
   "cell_type": "code",
   "execution_count": 93,
   "id": "d51c1724",
   "metadata": {},
   "outputs": [],
   "source": [
    "data_allhypo.to_csv(\"thyroid_allhypo_test_prepared.csv\")"
   ]
  },
  {
   "cell_type": "markdown",
   "id": "39dc9823",
   "metadata": {},
   "source": [
    "## Thyroid-allrep dataset"
   ]
  },
  {
   "cell_type": "markdown",
   "id": "20bf8926",
   "metadata": {},
   "source": [
    "### Train set"
   ]
  },
  {
   "cell_type": "code",
   "execution_count": 94,
   "id": "cded26cb",
   "metadata": {},
   "outputs": [],
   "source": [
    "with open(os.path.join(directory, \"allrep.names\")) as f:\n",
    "    contents = f.readlines()"
   ]
  },
  {
   "cell_type": "code",
   "execution_count": 95,
   "id": "51d6baba",
   "metadata": {},
   "outputs": [
    {
     "name": "stdout",
     "output_type": "stream",
     "text": [
      "Attribute names are: ['age', 'sex', 'on thyroxine', 'query on thyroxine', 'on antithyroid medication', 'sick', 'pregnant', 'thyroid surgery', 'I131 treatment', 'query hypothyroid', 'query hyperthyroid', 'lithium', 'goitre', 'tumor', 'hypopituitary', 'psych', 'TSH measured', 'TSH', 'T3 measured', 'T3', 'TT4 measured', 'TT4', 'T4U measured', 'T4U', 'FTI measured', 'FTI', 'TBG measured', 'TBG', 'referral source']\n"
     ]
    }
   ],
   "source": [
    "start_index = find_start_index(contents, 'age:')\n",
    "names = find_attribute_names(contents, start_index)\n",
    "print(f\"Attribute names are: {str(names)}\")"
   ]
  },
  {
   "cell_type": "code",
   "execution_count": 96,
   "id": "2bfc01c9",
   "metadata": {},
   "outputs": [],
   "source": [
    "names.append('class')"
   ]
  },
  {
   "cell_type": "code",
   "execution_count": 97,
   "id": "eadeabe5",
   "metadata": {},
   "outputs": [],
   "source": [
    "data_allrep = pd.read_csv(os.path.join(directory, \"allrep.data\"),\n",
    "                          names=names, delimiter=r',')\n",
    "data_allrep[[\"class\", \"id\"]] = data_allrep[\"class\"].apply(\n",
    "    lambda x: pd.Series(str(x).split(\".|\")))"
   ]
  },
  {
   "cell_type": "markdown",
   "id": "72c46c3b",
   "metadata": {},
   "source": [
    "Drop the attribute \"id\" (patient id number) from the original dataset. \\\n",
    "Drop the attribute \"TBG\" because all the data in this column are missing."
   ]
  },
  {
   "cell_type": "code",
   "execution_count": 98,
   "id": "4f667c76",
   "metadata": {},
   "outputs": [],
   "source": [
    "data_allrep.drop([\"id\"], axis=1, inplace=True)\n",
    "data_allrep.drop([\"TBG\"], axis=1, inplace=True)\n",
    "names.remove(\"TBG\")"
   ]
  },
  {
   "cell_type": "markdown",
   "id": "16fc62ef",
   "metadata": {},
   "source": [
    "Add a patient ID."
   ]
  },
  {
   "cell_type": "code",
   "execution_count": 99,
   "id": "fd37977f",
   "metadata": {},
   "outputs": [],
   "source": [
    "data_allrep[\"patient_id\"] = range(1, len(data_allrep) + 1)"
   ]
  },
  {
   "cell_type": "code",
   "execution_count": 100,
   "id": "4802815d",
   "metadata": {},
   "outputs": [],
   "source": [
    "continuous_attributes = ['age', 'TSH', 'T3', 'TT4', 'T4U', 'FTI']\n",
    "categorical_attributes = [\n",
    "    name for name in names if not name in continuous_attributes]\n",
    "assert len(categorical_attributes) + len(continuous_attributes) == len(names)"
   ]
  },
  {
   "cell_type": "markdown",
   "id": "6fa5c87f",
   "metadata": {},
   "source": [
    "Replace \"?\" with NaN.\\\n",
    "Replace the original encoding ('f', 't') to (0, 1). \\\n",
    "Replace the original encoding ('F', 'M') to (0, 1). \\\n",
    "Replace \"?\"(missing value) with NaN and convert from object type to numeric type."
   ]
  },
  {
   "cell_type": "code",
   "execution_count": 101,
   "id": "a828d743",
   "metadata": {},
   "outputs": [],
   "source": [
    "for att in continuous_attributes:\n",
    "    data_allrep[att].replace('?', np.nan, inplace=True)\n",
    "    data_allrep[att] = pd.to_numeric(data_allrep[att])\n",
    "\n",
    "for att in categorical_attributes:\n",
    "    if att == 'referral source':\n",
    "        break\n",
    "    else:\n",
    "        data_allrep[att].replace('?', np.nan, inplace=True)\n",
    "        data_allrep[att].replace(('F', 'M'), (0, 1), inplace=True)\n",
    "        data_allrep[att].replace(('f', 't'), (0, 1), inplace=True)\n",
    "        data_allrep[att] = pd.to_numeric(data_allrep[att])"
   ]
  },
  {
   "cell_type": "code",
   "execution_count": 102,
   "id": "df1c721b",
   "metadata": {},
   "outputs": [],
   "source": [
    "data_allrep.set_index(\"patient_id\", inplace=True)"
   ]
  },
  {
   "cell_type": "code",
   "execution_count": 103,
   "id": "e81a1ef6",
   "metadata": {},
   "outputs": [],
   "source": [
    "data_allrep.to_csv(\"thyroid_allrep_train_prepared.csv\")"
   ]
  },
  {
   "cell_type": "markdown",
   "id": "389ae076",
   "metadata": {},
   "source": [
    "### Test set"
   ]
  },
  {
   "cell_type": "code",
   "execution_count": 104,
   "id": "fa95116f",
   "metadata": {},
   "outputs": [],
   "source": [
    "with open(os.path.join(directory, \"allrep.names\")) as f:\n",
    "    contents = f.readlines()"
   ]
  },
  {
   "cell_type": "code",
   "execution_count": 105,
   "id": "1456045e",
   "metadata": {},
   "outputs": [
    {
     "name": "stdout",
     "output_type": "stream",
     "text": [
      "Attribute names are: ['age', 'sex', 'on thyroxine', 'query on thyroxine', 'on antithyroid medication', 'sick', 'pregnant', 'thyroid surgery', 'I131 treatment', 'query hypothyroid', 'query hyperthyroid', 'lithium', 'goitre', 'tumor', 'hypopituitary', 'psych', 'TSH measured', 'TSH', 'T3 measured', 'T3', 'TT4 measured', 'TT4', 'T4U measured', 'T4U', 'FTI measured', 'FTI', 'TBG measured', 'TBG', 'referral source']\n"
     ]
    }
   ],
   "source": [
    "start_index = find_start_index(contents, 'age:')\n",
    "names = find_attribute_names(contents, start_index)\n",
    "print(f\"Attribute names are: {str(names)}\")\n"
   ]
  },
  {
   "cell_type": "code",
   "execution_count": 106,
   "id": "9cd2cad6",
   "metadata": {},
   "outputs": [],
   "source": [
    "names.append('class')"
   ]
  },
  {
   "cell_type": "code",
   "execution_count": 107,
   "id": "2059c234",
   "metadata": {},
   "outputs": [],
   "source": [
    "data_allrep = pd.read_csv(os.path.join(directory, \"allrep.test\"),\n",
    "                          names=names, delimiter=r',')\n",
    "data_allrep[[\"class\", \"id\"]] = data_allrep[\"class\"].apply(\n",
    "    lambda x: pd.Series(str(x).split(\".|\")))"
   ]
  },
  {
   "cell_type": "markdown",
   "id": "2f519a2d",
   "metadata": {},
   "source": [
    "Drop the attribute \"id\" (patient id number) from the original dataset. \\\n",
    "Drop the attribute \"TBG\" because all the data in this column are missing."
   ]
  },
  {
   "cell_type": "code",
   "execution_count": 108,
   "id": "9b214af3",
   "metadata": {},
   "outputs": [],
   "source": [
    "data_allrep.drop([\"id\"], axis=1, inplace=True)\n",
    "data_allrep.drop([\"TBG\"], axis=1, inplace=True)\n",
    "names.remove(\"TBG\")"
   ]
  },
  {
   "cell_type": "markdown",
   "id": "f8e12f6c",
   "metadata": {},
   "source": [
    "Add a patient ID."
   ]
  },
  {
   "cell_type": "code",
   "execution_count": 109,
   "id": "d0b3d05f",
   "metadata": {},
   "outputs": [],
   "source": [
    "data_allrep[\"patient_id\"] = range(1, len(data_allrep) + 1)"
   ]
  },
  {
   "cell_type": "code",
   "execution_count": 110,
   "id": "b06cc586",
   "metadata": {},
   "outputs": [],
   "source": [
    "continuous_attributes = ['age', 'TSH', 'T3', 'TT4', 'T4U', 'FTI']\n",
    "categorical_attributes = [\n",
    "    name for name in names if not name in continuous_attributes]\n",
    "assert len(categorical_attributes) + len(continuous_attributes) == len(names)"
   ]
  },
  {
   "cell_type": "markdown",
   "id": "fcd202c6",
   "metadata": {},
   "source": [
    "Replace \"?\" with NaN.\\\n",
    "Replace the original encoding ('f', 't') to (0, 1). \\\n",
    "Replace the original encoding ('F', 'M') to (0, 1). \\\n",
    "Replace \"?\"(missing value) with NaN and convert from object type to numeric type."
   ]
  },
  {
   "cell_type": "code",
   "execution_count": 111,
   "id": "c1930a83",
   "metadata": {},
   "outputs": [],
   "source": [
    "for att in continuous_attributes:\n",
    "    data_allrep[att].replace('?', np.nan, inplace=True)\n",
    "    data_allrep[att] = pd.to_numeric(data_allrep[att])\n",
    "\n",
    "for att in categorical_attributes:\n",
    "    if att == 'referral source':\n",
    "        break\n",
    "    else:\n",
    "        data_allrep[att].replace('?', np.nan, inplace=True)\n",
    "        data_allrep[att].replace(('F', 'M'), (0, 1), inplace=True)\n",
    "        data_allrep[att].replace(('f', 't'), (0, 1), inplace=True)\n",
    "        data_allrep[att] = pd.to_numeric(data_allrep[att])"
   ]
  },
  {
   "cell_type": "code",
   "execution_count": 112,
   "id": "6615f148",
   "metadata": {},
   "outputs": [],
   "source": [
    "data_allrep.set_index(\"patient_id\", inplace=True)"
   ]
  },
  {
   "cell_type": "code",
   "execution_count": 113,
   "id": "0fe63d1d",
   "metadata": {},
   "outputs": [],
   "source": [
    "data_allrep.to_csv(\"thyroid_allrep_test_prepared.csv\")"
   ]
  },
  {
   "cell_type": "markdown",
   "id": "3cf399e8",
   "metadata": {},
   "source": [
    "## Thyroid-dis dataset"
   ]
  },
  {
   "cell_type": "markdown",
   "id": "ad943e56",
   "metadata": {},
   "source": [
    "### Train set"
   ]
  },
  {
   "cell_type": "code",
   "execution_count": 114,
   "id": "e12f5b58",
   "metadata": {},
   "outputs": [],
   "source": [
    "with open(os.path.join(directory, \"dis.names\")) as f:\n",
    "    contents = f.readlines()"
   ]
  },
  {
   "cell_type": "code",
   "execution_count": 115,
   "id": "44470a3d",
   "metadata": {},
   "outputs": [
    {
     "name": "stdout",
     "output_type": "stream",
     "text": [
      "Attribute names are: ['age', 'sex', 'on thyroxine', 'query on thyroxine', 'on antithyroid medication', 'sick', 'pregnant', 'thyroid surgery', 'I131 treatment', 'query hypothyroid', 'query hyperthyroid', 'lithium', 'goitre', 'tumor', 'hypopituitary', 'psych', 'TSH measured', 'TSH', 'T3 measured', 'T3', 'TT4 measured', 'TT4', 'T4U measured', 'T4U', 'FTI measured', 'FTI', 'TBG measured', 'TBG', 'referral source']\n"
     ]
    }
   ],
   "source": [
    "start_index = find_start_index(contents, 'age:')\n",
    "names = find_attribute_names(contents, start_index)\n",
    "print(f\"Attribute names are: \" + str(names))"
   ]
  },
  {
   "cell_type": "code",
   "execution_count": 116,
   "id": "1a5b0431",
   "metadata": {},
   "outputs": [],
   "source": [
    "names.append('class')"
   ]
  },
  {
   "cell_type": "code",
   "execution_count": 117,
   "id": "de3833c7",
   "metadata": {},
   "outputs": [],
   "source": [
    "data_dis = pd.read_csv(os.path.join(directory, \"dis.data\"),\n",
    "                       names=names, delimiter=r',')\n",
    "data_dis[[\"class\", \"id\"]] = data_dis[\"class\"].apply(\n",
    "    lambda x: pd.Series(str(x).split(\".|\")))"
   ]
  },
  {
   "cell_type": "markdown",
   "id": "8c660d29",
   "metadata": {},
   "source": [
    "Drop the attribute \"id\" (patient id number) from the original dataset. \\\n",
    "Drop the attribute \"TBG\" because all the data in this column are missing."
   ]
  },
  {
   "cell_type": "code",
   "execution_count": 118,
   "id": "40d12af5",
   "metadata": {},
   "outputs": [],
   "source": [
    "data_dis.drop([\"id\"], axis=1, inplace=True)\n",
    "data_dis.drop([\"TBG\"], axis=1, inplace=True)\n",
    "names.remove(\"TBG\")"
   ]
  },
  {
   "cell_type": "markdown",
   "id": "aa0a946e",
   "metadata": {},
   "source": [
    "Add a patient ID."
   ]
  },
  {
   "cell_type": "code",
   "execution_count": 119,
   "id": "74a7658c",
   "metadata": {},
   "outputs": [],
   "source": [
    "data_dis[\"patient_id\"] = range(1, len(data_dis) + 1)"
   ]
  },
  {
   "cell_type": "code",
   "execution_count": 120,
   "id": "5658c416",
   "metadata": {},
   "outputs": [],
   "source": [
    "continuous_attributes = ['age', 'TSH', 'T3', 'TT4', 'T4U', 'FTI']\n",
    "categorical_attributes = [\n",
    "    name for name in names if not name in continuous_attributes]\n",
    "assert len(categorical_attributes) + len(continuous_attributes) == len(names)"
   ]
  },
  {
   "cell_type": "markdown",
   "id": "dda00d08",
   "metadata": {},
   "source": [
    "Replace \"?\" with NaN.\\\n",
    "Replace the original encoding ('f', 't') to (0, 1). \\\n",
    "Replace the original encoding ('F', 'M') to (0, 1). \\\n",
    "Replace \"?\"(missing value) with NaN and convert from object type to numeric type."
   ]
  },
  {
   "cell_type": "code",
   "execution_count": 121,
   "id": "5da6dd38",
   "metadata": {},
   "outputs": [],
   "source": [
    "for att in continuous_attributes:\n",
    "    data_dis[att].replace('?', np.nan, inplace=True)\n",
    "    data_dis[att] = pd.to_numeric(data_dis[att])\n",
    "\n",
    "for att in categorical_attributes:\n",
    "    if att == 'referral source':\n",
    "        break\n",
    "    else:\n",
    "        data_dis[att].replace('?', np.nan, inplace=True)\n",
    "        data_dis[att].replace(('F', 'M'), (0, 1), inplace=True)\n",
    "        data_dis[att].replace(('f', 't'), (0, 1), inplace=True)\n",
    "        data_dis[att] = pd.to_numeric(data_dis[att])"
   ]
  },
  {
   "cell_type": "code",
   "execution_count": 122,
   "id": "7d0cd466",
   "metadata": {},
   "outputs": [],
   "source": [
    "data_dis.set_index(\"patient_id\", inplace=True)"
   ]
  },
  {
   "cell_type": "code",
   "execution_count": 123,
   "id": "3b3dd149",
   "metadata": {},
   "outputs": [],
   "source": [
    "data_dis.to_csv(\"thyroid_dis_train_prepared.csv\")"
   ]
  },
  {
   "cell_type": "markdown",
   "id": "a837ac59",
   "metadata": {},
   "source": [
    "### Test set"
   ]
  },
  {
   "cell_type": "code",
   "execution_count": 124,
   "id": "223c89a3",
   "metadata": {},
   "outputs": [],
   "source": [
    "with open(os.path.join(directory, \"dis.names\")) as f:\n",
    "    contents = f.readlines()"
   ]
  },
  {
   "cell_type": "code",
   "execution_count": 125,
   "id": "5cf90c83",
   "metadata": {},
   "outputs": [
    {
     "name": "stdout",
     "output_type": "stream",
     "text": [
      "Attribute names are: ['age', 'sex', 'on thyroxine', 'query on thyroxine', 'on antithyroid medication', 'sick', 'pregnant', 'thyroid surgery', 'I131 treatment', 'query hypothyroid', 'query hyperthyroid', 'lithium', 'goitre', 'tumor', 'hypopituitary', 'psych', 'TSH measured', 'TSH', 'T3 measured', 'T3', 'TT4 measured', 'TT4', 'T4U measured', 'T4U', 'FTI measured', 'FTI', 'TBG measured', 'TBG', 'referral source']\n"
     ]
    }
   ],
   "source": [
    "start_index = find_start_index(contents, 'age:')\n",
    "names = find_attribute_names(contents, start_index)\n",
    "print(f\"Attribute names are: {str(names)}\")"
   ]
  },
  {
   "cell_type": "code",
   "execution_count": 126,
   "id": "fe38e9ff",
   "metadata": {},
   "outputs": [],
   "source": [
    "names.append('class')"
   ]
  },
  {
   "cell_type": "code",
   "execution_count": 127,
   "id": "24f8e136",
   "metadata": {},
   "outputs": [],
   "source": [
    "data_dis = pd.read_csv(os.path.join(directory, \"dis.test\"),\n",
    "                       names=names, delimiter=r',')\n",
    "data_dis[[\"class\", \"id\"]] = data_dis[\"class\"].apply(\n",
    "    lambda x: pd.Series(str(x).split(\".|\")))"
   ]
  },
  {
   "cell_type": "markdown",
   "id": "27d2cde6",
   "metadata": {},
   "source": [
    "Drop the attribute \"id\" (patient id number) from the original dataset. \\\n",
    "Drop the attribute \"TBG\" because all the data in this column are missing."
   ]
  },
  {
   "cell_type": "code",
   "execution_count": 128,
   "id": "38144bfc",
   "metadata": {},
   "outputs": [],
   "source": [
    "data_dis.drop([\"id\"], axis=1, inplace=True)\n",
    "data_dis.drop([\"TBG\"], axis=1, inplace=True)\n",
    "names.remove(\"TBG\")"
   ]
  },
  {
   "cell_type": "markdown",
   "id": "e4cec71e",
   "metadata": {},
   "source": [
    "Add a patient ID."
   ]
  },
  {
   "cell_type": "code",
   "execution_count": 129,
   "id": "328fb676",
   "metadata": {},
   "outputs": [],
   "source": [
    "data_dis[\"patient_id\"] = range(1, len(data_dis) + 1)"
   ]
  },
  {
   "cell_type": "code",
   "execution_count": 130,
   "id": "a864651b",
   "metadata": {},
   "outputs": [],
   "source": [
    "continuous_attributes = ['age', 'TSH', 'T3', 'TT4', 'T4U', 'FTI']\n",
    "categorical_attributes = [\n",
    "    name for name in names if not name in continuous_attributes]\n",
    "assert len(categorical_attributes) + len(continuous_attributes) == len(names)"
   ]
  },
  {
   "cell_type": "markdown",
   "id": "7420fe0d",
   "metadata": {},
   "source": [
    "Replace \"?\" with NaN.\\\n",
    "Replace the original encoding ('f', 't') to (0, 1). \\\n",
    "Replace the original encoding ('F', 'M') to (0, 1). \\\n",
    "Replace \"?\"(missing value) with NaN and convert from object type to numeric type."
   ]
  },
  {
   "cell_type": "code",
   "execution_count": 131,
   "id": "bdc65d85",
   "metadata": {},
   "outputs": [],
   "source": [
    "for att in continuous_attributes:\n",
    "    data_dis[att].replace('?', np.nan, inplace=True)\n",
    "    data_dis[att] = pd.to_numeric(data_dis[att])\n",
    "\n",
    "for att in categorical_attributes:\n",
    "    if att == 'referral source':\n",
    "        break\n",
    "    else:\n",
    "        data_dis[att].replace('?', np.nan, inplace=True)\n",
    "        data_dis[att].replace(('F', 'M'), (0, 1), inplace=True)\n",
    "        data_dis[att].replace(('f', 't'), (0, 1), inplace=True)\n",
    "        data_dis[att] = pd.to_numeric(data_dis[att])"
   ]
  },
  {
   "cell_type": "code",
   "execution_count": 132,
   "id": "c88defb8",
   "metadata": {},
   "outputs": [],
   "source": [
    "data_dis.set_index(\"patient_id\", inplace=True)"
   ]
  },
  {
   "cell_type": "code",
   "execution_count": 133,
   "id": "43884b24",
   "metadata": {},
   "outputs": [],
   "source": [
    "data_dis.to_csv(\"thyroid_dis_test_prepared.csv\")"
   ]
  },
  {
   "cell_type": "markdown",
   "id": "3295a4cc",
   "metadata": {},
   "source": [
    "## Thyroid-sick dataset"
   ]
  },
  {
   "cell_type": "markdown",
   "id": "68771832",
   "metadata": {},
   "source": [
    "### Train set"
   ]
  },
  {
   "cell_type": "code",
   "execution_count": 134,
   "id": "694a4b76",
   "metadata": {},
   "outputs": [],
   "source": [
    "with open(os.path.join(directory, \"sick.names\")) as f:\n",
    "    contents = f.readlines()"
   ]
  },
  {
   "cell_type": "code",
   "execution_count": 135,
   "id": "716c758a",
   "metadata": {},
   "outputs": [
    {
     "name": "stdout",
     "output_type": "stream",
     "text": [
      "Attribute names are: ['age', 'sex', 'on thyroxine', 'query on thyroxine', 'on antithyroid medication', 'sick', 'pregnant', 'thyroid surgery', 'I131 treatment', 'query hypothyroid', 'query hyperthyroid', 'lithium', 'goitre', 'tumor', 'hypopituitary', 'psych', 'TSH measured', 'TSH', 'T3 measured', 'T3', 'TT4 measured', 'TT4', 'T4U measured', 'T4U', 'FTI measured', 'FTI', 'TBG measured', 'TBG', 'referral source']\n"
     ]
    }
   ],
   "source": [
    "start_index = find_start_index(contents, 'age:')\n",
    "names = find_attribute_names(contents, start_index)\n",
    "print(f\"Attribute names are: {str(names)}\")"
   ]
  },
  {
   "cell_type": "code",
   "execution_count": 136,
   "id": "e0b5fa58",
   "metadata": {},
   "outputs": [],
   "source": [
    "names.append('class')"
   ]
  },
  {
   "cell_type": "code",
   "execution_count": 137,
   "id": "8251aa8c",
   "metadata": {},
   "outputs": [],
   "source": [
    "data_sick = pd.read_csv(os.path.join(directory, \"sick.data\"),\n",
    "                        names=names, delimiter=r',')\n",
    "data_sick[[\"class\", \"id\"]] = data_sick[\"class\"].apply(\n",
    "    lambda x: pd.Series(str(x).split(\".|\")))"
   ]
  },
  {
   "cell_type": "markdown",
   "id": "5f51c957",
   "metadata": {},
   "source": [
    "Drop the attribute \"id\" (patient id number) from the original dataset. \\\n",
    "Drop the attribute \"TBG\" because all the data in this column are missing."
   ]
  },
  {
   "cell_type": "code",
   "execution_count": 138,
   "id": "2675e2bb",
   "metadata": {},
   "outputs": [],
   "source": [
    "data_sick.drop([\"id\"], axis=1, inplace=True)\n",
    "data_sick.drop([\"TBG\"], axis=1, inplace=True)\n",
    "names.remove(\"TBG\")"
   ]
  },
  {
   "cell_type": "markdown",
   "id": "9bdd9594",
   "metadata": {},
   "source": [
    "Add a patient ID."
   ]
  },
  {
   "cell_type": "code",
   "execution_count": 139,
   "id": "7c569b5d",
   "metadata": {},
   "outputs": [],
   "source": [
    "data_sick[\"patient_id\"] = range(1, len(data_sick) + 1)"
   ]
  },
  {
   "cell_type": "code",
   "execution_count": 140,
   "id": "876a89c1",
   "metadata": {},
   "outputs": [],
   "source": [
    "continuous_attributes = ['age', 'TSH', 'T3', 'TT4', 'T4U', 'FTI']\n",
    "categorical_attributes = [\n",
    "    name for name in names if not name in continuous_attributes]\n",
    "assert len(categorical_attributes) + len(continuous_attributes) == len(names)"
   ]
  },
  {
   "cell_type": "markdown",
   "id": "13d87da5",
   "metadata": {},
   "source": [
    "Replace \"?\" with NaN.\\\n",
    "Replace the original encoding ('f', 't') to (0, 1). \\\n",
    "Replace the original encoding ('F', 'M') to (0, 1). \\\n",
    "Replace \"?\"(missing value) with NaN and convert from object type to numeric type."
   ]
  },
  {
   "cell_type": "code",
   "execution_count": 141,
   "id": "09e32029",
   "metadata": {},
   "outputs": [],
   "source": [
    "for att in continuous_attributes:\n",
    "    data_sick[att].replace('?', np.nan, inplace=True)\n",
    "    data_sick[att] = pd.to_numeric(data_sick[att])\n",
    "\n",
    "for att in categorical_attributes:\n",
    "    if att == 'referral source':\n",
    "        break\n",
    "    else:\n",
    "        data_sick[att].replace('?', np.nan, inplace=True)\n",
    "        data_sick[att].replace(('F', 'M'), (0, 1), inplace=True)\n",
    "        data_sick[att].replace(('f', 't'), (0, 1), inplace=True)\n",
    "        data_sick[att] = pd.to_numeric(data_sick[att])"
   ]
  },
  {
   "cell_type": "code",
   "execution_count": 142,
   "id": "7cb59d09",
   "metadata": {},
   "outputs": [],
   "source": [
    "data_sick.set_index(\"patient_id\", inplace=True)"
   ]
  },
  {
   "cell_type": "code",
   "execution_count": 143,
   "id": "a53e695c",
   "metadata": {},
   "outputs": [],
   "source": [
    "data_sick.to_csv(\"thyroid_sick_train_prepared.csv\")"
   ]
  },
  {
   "cell_type": "markdown",
   "id": "3dd4dcaa",
   "metadata": {},
   "source": [
    "### Test set"
   ]
  },
  {
   "cell_type": "code",
   "execution_count": 144,
   "id": "84e2e479",
   "metadata": {},
   "outputs": [],
   "source": [
    "with open(os.path.join(directory, \"sick.names\")) as f:\n",
    "    contents = f.readlines()"
   ]
  },
  {
   "cell_type": "code",
   "execution_count": 145,
   "id": "79e03e08",
   "metadata": {},
   "outputs": [
    {
     "name": "stdout",
     "output_type": "stream",
     "text": [
      "Attribute names are: ['age', 'sex', 'on thyroxine', 'query on thyroxine', 'on antithyroid medication', 'sick', 'pregnant', 'thyroid surgery', 'I131 treatment', 'query hypothyroid', 'query hyperthyroid', 'lithium', 'goitre', 'tumor', 'hypopituitary', 'psych', 'TSH measured', 'TSH', 'T3 measured', 'T3', 'TT4 measured', 'TT4', 'T4U measured', 'T4U', 'FTI measured', 'FTI', 'TBG measured', 'TBG', 'referral source']\n"
     ]
    }
   ],
   "source": [
    "start_index = find_start_index(contents, 'age:')\n",
    "names = find_attribute_names(contents, start_index)\n",
    "print(f\"Attribute names are: {str(names)}\")\n"
   ]
  },
  {
   "cell_type": "code",
   "execution_count": 146,
   "id": "97dcc1c9",
   "metadata": {},
   "outputs": [],
   "source": [
    "names.append('class')"
   ]
  },
  {
   "cell_type": "code",
   "execution_count": 147,
   "id": "c5ea1121",
   "metadata": {},
   "outputs": [],
   "source": [
    "data_sick = pd.read_csv(os.path.join(directory, \"sick.test\"),\n",
    "                        names=names, delimiter=r',')\n",
    "data_sick[[\"class\", \"id\"]] = data_sick[\"class\"].apply(\n",
    "    lambda x: pd.Series(str(x).split(\".|\")))"
   ]
  },
  {
   "cell_type": "markdown",
   "id": "68c306bf",
   "metadata": {},
   "source": [
    "Drop the attribute \"id\" (patient id number) from the original dataset. \\\n",
    "Drop the attribute \"TBG\" because all the data in this column are missing."
   ]
  },
  {
   "cell_type": "code",
   "execution_count": 148,
   "id": "d0ba6f87",
   "metadata": {},
   "outputs": [],
   "source": [
    "data_sick.drop([\"id\"], axis=1, inplace=True)\n",
    "data_sick.drop([\"TBG\"], axis=1, inplace=True)\n",
    "names.remove(\"TBG\")"
   ]
  },
  {
   "cell_type": "markdown",
   "id": "636c3f75",
   "metadata": {},
   "source": [
    "Add a patient ID."
   ]
  },
  {
   "cell_type": "code",
   "execution_count": 149,
   "id": "4f125dc9",
   "metadata": {},
   "outputs": [],
   "source": [
    "data_sick[\"patient_id\"] = range(1, len(data_sick) + 1)"
   ]
  },
  {
   "cell_type": "code",
   "execution_count": 150,
   "id": "82d19f3a",
   "metadata": {},
   "outputs": [],
   "source": [
    "continuous_attributes = ['age', 'TSH', 'T3', 'TT4', 'T4U', 'FTI']\n",
    "categorical_attributes = [\n",
    "    name for name in names if not name in continuous_attributes]\n",
    "assert len(categorical_attributes) + len(continuous_attributes) == len(names)"
   ]
  },
  {
   "cell_type": "markdown",
   "id": "968c75a1",
   "metadata": {},
   "source": [
    "Replace \"?\" with NaN.\\\n",
    "Replace the original encoding ('f', 't') to (0, 1). \\\n",
    "Replace the original encoding ('F', 'M') to (0, 1). \\\n",
    "Replace \"?\"(missing value) with NaN and convert from object type to numeric type."
   ]
  },
  {
   "cell_type": "code",
   "execution_count": 151,
   "id": "a6e28966",
   "metadata": {},
   "outputs": [],
   "source": [
    "for att in continuous_attributes:\n",
    "    data_sick[att].replace('?', np.nan, inplace=True)\n",
    "    data_sick[att] = pd.to_numeric(data_sick[att])\n",
    "\n",
    "for att in categorical_attributes:\n",
    "    if att == 'referral source':\n",
    "        break\n",
    "    else:\n",
    "        data_sick[att].replace('?', np.nan, inplace=True)\n",
    "        data_sick[att].replace(('F', 'M'), (0, 1), inplace=True)\n",
    "        data_sick[att].replace(('f', 't'), (0, 1), inplace=True)\n",
    "        data_sick[att] = pd.to_numeric(data_sick[att])"
   ]
  },
  {
   "cell_type": "code",
   "execution_count": 152,
   "id": "5a696142",
   "metadata": {},
   "outputs": [],
   "source": [
    "data_sick.set_index(\"patient_id\", inplace=True)"
   ]
  },
  {
   "cell_type": "code",
   "execution_count": 153,
   "id": "0b98e741",
   "metadata": {},
   "outputs": [],
   "source": [
    "data_sick.to_csv(\"thyroid_sick_test_prepared.csv\")"
   ]
  },
  {
   "cell_type": "markdown",
   "id": "9d56e4e4",
   "metadata": {},
   "source": [
    "## Combine all datasets together"
   ]
  },
  {
   "cell_type": "code",
   "execution_count": 154,
   "id": "163f91b7",
   "metadata": {},
   "outputs": [],
   "source": [
    "file_list = []\n",
    "length = 0\n",
    "for _, _, files in os.walk(base_directory):\n",
    "    for file in files:\n",
    "        if file.endswith(\"_prepared.csv\"):\n",
    "            file_list.append(file)\n",
    "            length += len(pd.read_csv(file))\n",
    "\n",
    "thyroid = pd.concat((pd.read_csv(f).assign(\n",
    "    dataset_name=f.split('_')[1]) for f in file_list))\n",
    "thyroid.drop([\"patient_id\"], axis=1, inplace=True)\n",
    "thyroid[\"patient_id\"] = range(1, len(thyroid) + 1)\n",
    "thyroid.set_index(\"patient_id\", inplace=True)\n",
    "thyroid.to_csv(\"thyroid.csv\")\n"
   ]
  },
  {
   "cell_type": "code",
   "execution_count": 155,
   "id": "a442c74a",
   "metadata": {},
   "outputs": [],
   "source": [
    "df_thyroid = pd.read_csv(os.path.join(base_directory, \"thyroid.csv\"))\n",
    "assert length == len(df_thyroid)"
   ]
  },
  {
   "cell_type": "code",
   "execution_count": 156,
   "id": "18f10e79",
   "metadata": {},
   "outputs": [
    {
     "data": {
      "text/plain": [
       "['patient_id',\n",
       " 'age',\n",
       " 'sex',\n",
       " 'on thyroxine',\n",
       " 'query on thyroxine',\n",
       " 'on antithyroid medication',\n",
       " 'sick',\n",
       " 'pregnant',\n",
       " 'thyroid surgery',\n",
       " 'I131 treatment',\n",
       " 'query hypothyroid',\n",
       " 'query hyperthyroid',\n",
       " 'lithium',\n",
       " 'goitre',\n",
       " 'tumor',\n",
       " 'hypopituitary',\n",
       " 'psych',\n",
       " 'TSH measured',\n",
       " 'TSH',\n",
       " 'T3 measured',\n",
       " 'T3',\n",
       " 'TT4 measured',\n",
       " 'TT4',\n",
       " 'T4U measured',\n",
       " 'T4U',\n",
       " 'FTI measured',\n",
       " 'FTI',\n",
       " 'TBG measured',\n",
       " 'referral source',\n",
       " 'class',\n",
       " 'dataset_name']"
      ]
     },
     "execution_count": 156,
     "metadata": {},
     "output_type": "execute_result"
    }
   ],
   "source": [
    "names = df_thyroid.columns.values.tolist()\n",
    "names"
   ]
  },
  {
   "cell_type": "markdown",
   "id": "77327a0b",
   "metadata": {},
   "source": [
    "# ehrapy sanity check"
   ]
  },
  {
   "cell_type": "code",
   "execution_count": 157,
   "id": "ed014e01",
   "metadata": {},
   "outputs": [],
   "source": [
    "column_obs_only = [\n",
    "    'age',\n",
    "    'sex',\n",
    "    'dataset_name',\n",
    "    'referral source']"
   ]
  },
  {
   "cell_type": "code",
   "execution_count": 158,
   "id": "47a1d603",
   "metadata": {},
   "outputs": [],
   "source": [
    "adata = ep.io.read_csv(os.path.join(base_directory, \"thyroid.csv\"),\n",
    "                   index_column=\"patient_id\",\n",
    "                   columns_obs_only=column_obs_only)\n",
    "edata = ed.EHRData.from_adata(adata=adata)\n"
   ]
  },
  {
   "cell_type": "code",
   "execution_count": 159,
   "id": "b092da94",
   "metadata": {},
   "outputs": [],
   "source": [
    "edata_allhyper = edata[edata.obs['dataset_name'] == 'allhyper'].copy()"
   ]
  },
  {
   "cell_type": "code",
   "execution_count": 160,
   "id": "969703e1",
   "metadata": {},
   "outputs": [
    {
     "name": "stdout",
     "output_type": "stream",
     "text": [
      "\u001b[93m!\u001b[0m Features 'on thyroxine', 'query on thyroxine', 'on antithyroid medication', 'sick', 'pregnant', 'thyroid surgery', 'I131 treatment', 'query hypothyroid', 'query hyperthyroid', 'lithium', 'goitre', 'tumor', 'hypopituitary', 'psych', 'TSH measured', 'T3 measured', 'TT4 measured', 'T4U measured', 'FTI measured', 'TBG measured' were detected as categorical features stored numerically.Please verify and correct using `ep.ad.replace_feature_types` if necessary.\n",
      "\u001b[93m!\u001b[0m Feature types were inferred and stored in adata.var[feature_type]. Please verify using `ep.ad.feature_type_overview` and adjust if necessary using `ep.ad.replace_feature_types`.\n"
     ]
    },
    {
     "data": {
      "application/vnd.jupyter.widget-view+json": {
       "model_id": "51af753b2ec944caa9ce82ccca9113a0",
       "version_major": 2,
       "version_minor": 0
      },
      "text/plain": [
       "Output()"
      ]
     },
     "metadata": {},
     "output_type": "display_data"
    },
    {
     "data": {
      "text/html": [
       "<pre style=\"white-space:pre;overflow-x:auto;line-height:normal;font-family:Menlo,'DejaVu Sans Mono',consolas,'Courier New',monospace\"></pre>\n"
      ],
      "text/plain": []
     },
     "metadata": {},
     "output_type": "display_data"
    }
   ],
   "source": [
    "edata_allhyper = ep.pp.encode(\n",
    "    edata_allhyper, encodings={\"one-hot\": [\"class\"]}\n",
    ")"
   ]
  },
  {
   "cell_type": "code",
   "execution_count": 161,
   "id": "0ad42732",
   "metadata": {},
   "outputs": [
    {
     "data": {
      "application/vnd.jupyter.widget-view+json": {
       "model_id": "a5bfee48953745359545dff08aaa45ce",
       "version_major": 2,
       "version_minor": 0
      },
      "text/plain": [
       "Output()"
      ]
     },
     "metadata": {},
     "output_type": "display_data"
    },
    {
     "data": {
      "text/html": [
       "<pre style=\"white-space:pre;overflow-x:auto;line-height:normal;font-family:Menlo,'DejaVu Sans Mono',consolas,'Courier New',monospace\"></pre>\n"
      ],
      "text/plain": []
     },
     "metadata": {},
     "output_type": "display_data"
    },
    {
     "data": {
      "image/png": "[encoded data removed]",
      "text/plain": [
       "<Figure size 640x480 with 1 Axes>"
      ]
     },
     "metadata": {},
     "output_type": "display_data"
    }
   ],
   "source": [
    "ep.pp.knn_impute(edata_allhyper)\n",
    "ep.pp.scale_norm(edata_allhyper)\n",
    "ep.pp.pca(edata_allhyper)\n",
    "ep.pp.neighbors(edata_allhyper)\n",
    "ep.tl.umap(edata_allhyper)\n",
    "ep.tl.leiden(edata_allhyper, resolution=0.5, key_added=\"leiden_0_5\")\n",
    "ep.pl.umap(edata_allhyper, color=[\"leiden_0_5\"], title=\"Leiden 0.5\")"
   ]
  },
  {
   "cell_type": "code",
   "execution_count": 162,
   "id": "1607ef47",
   "metadata": {},
   "outputs": [
    {
     "data": {
      "image/png": "[encoded data removed]",
      "text/plain": [
       "<Figure size 640x480 with 1 Axes>"
      ]
     },
     "metadata": {},
     "output_type": "display_data"
    }
   ],
   "source": [
    "ep.pl.umap(edata_allhyper, color=[\"class\"], ncols=1, wspace=0.75)"
   ]
  }
 ],
 "metadata": {
  "kernelspec": {
   "display_name": "Python (datasetsENV)",
   "language": "python",
   "name": "datasetsenv"
  },
  "language_info": {
   "codemirror_mode": {
    "name": "ipython",
    "version": 3
   },
   "file_extension": ".py",
   "mimetype": "text/x-python",
   "name": "python",
   "nbconvert_exporter": "python",
   "pygments_lexer": "ipython3",
   "version": "3.13.5"
  },
  "vscode": {
   "interpreter": {
    "hash": "4ebbee468332224025c1d8a5f51338ab29e79b708cc8a093850abd5116748064"
   }
  }
 },
 "nbformat": 4,
 "nbformat_minor": 5
}
